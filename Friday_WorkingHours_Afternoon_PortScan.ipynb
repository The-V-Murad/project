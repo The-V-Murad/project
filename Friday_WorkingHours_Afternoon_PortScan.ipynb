{
 "cells": [
  {
   "cell_type": "code",
   "execution_count": null,
   "metadata": {
    "colab": {
     "base_uri": "https://localhost:8080/"
    },
    "id": "7bMRh7Xg5qPR",
    "outputId": "0379c312-3514-469e-9f25-6784e99e70c3"
   },
   "outputs": [],
   "source": []
  },
  {
   "cell_type": "code",
   "execution_count": 1,
   "metadata": {
    "colab": {
     "base_uri": "https://localhost:8080/"
    },
    "id": "bOO5C8ij8LfJ",
    "outputId": "89c83f7f-bdb9-4148-d8e8-44b5e63958b7"
   },
   "outputs": [
    {
     "name": "stdout",
     "output_type": "stream",
     "text": [
      "    Destination Port   Flow Duration   Total Fwd Packets  \\\n",
      "0                 22         1266342                  41   \n",
      "1                 22         1319353                  41   \n",
      "2                 22             160                   1   \n",
      "3                 22         1303488                  41   \n",
      "4              35396              77                   1   \n",
      "\n",
      "    Total Backward Packets  Total Length of Fwd Packets  \\\n",
      "0                       44                         2664   \n",
      "1                       44                         2664   \n",
      "2                        1                            0   \n",
      "3                       42                         2728   \n",
      "4                        2                            0   \n",
      "\n",
      "    Total Length of Bwd Packets   Fwd Packet Length Max  \\\n",
      "0                          6954                     456   \n",
      "1                          6954                     456   \n",
      "2                             0                       0   \n",
      "3                          6634                     456   \n",
      "4                             0                       0   \n",
      "\n",
      "    Fwd Packet Length Min   Fwd Packet Length Mean   Fwd Packet Length Std  \\\n",
      "0                       0                64.975610              109.864573   \n",
      "1                       0                64.975610              109.864573   \n",
      "2                       0                 0.000000                0.000000   \n",
      "3                       0                66.536585              110.129945   \n",
      "4                       0                 0.000000                0.000000   \n",
      "\n",
      "   ...   min_seg_size_forward  Active Mean   Active Std   Active Max  \\\n",
      "0  ...                     32          0.0          0.0            0   \n",
      "1  ...                     32          0.0          0.0            0   \n",
      "2  ...                     32          0.0          0.0            0   \n",
      "3  ...                     32          0.0          0.0            0   \n",
      "4  ...                     32          0.0          0.0            0   \n",
      "\n",
      "    Active Min  Idle Mean   Idle Std   Idle Max   Idle Min   Label  \n",
      "0            0        0.0        0.0          0          0  BENIGN  \n",
      "1            0        0.0        0.0          0          0  BENIGN  \n",
      "2            0        0.0        0.0          0          0  BENIGN  \n",
      "3            0        0.0        0.0          0          0  BENIGN  \n",
      "4            0        0.0        0.0          0          0  BENIGN  \n",
      "\n",
      "[5 rows x 79 columns]\n",
      "Index([' Destination Port', ' Flow Duration', ' Total Fwd Packets',\n",
      "       ' Total Backward Packets', 'Total Length of Fwd Packets',\n",
      "       ' Total Length of Bwd Packets', ' Fwd Packet Length Max',\n",
      "       ' Fwd Packet Length Min', ' Fwd Packet Length Mean',\n",
      "       ' Fwd Packet Length Std', 'Bwd Packet Length Max',\n",
      "       ' Bwd Packet Length Min', ' Bwd Packet Length Mean',\n",
      "       ' Bwd Packet Length Std', 'Flow Bytes/s', ' Flow Packets/s',\n",
      "       ' Flow IAT Mean', ' Flow IAT Std', ' Flow IAT Max', ' Flow IAT Min',\n",
      "       'Fwd IAT Total', ' Fwd IAT Mean', ' Fwd IAT Std', ' Fwd IAT Max',\n",
      "       ' Fwd IAT Min', 'Bwd IAT Total', ' Bwd IAT Mean', ' Bwd IAT Std',\n",
      "       ' Bwd IAT Max', ' Bwd IAT Min', 'Fwd PSH Flags', ' Bwd PSH Flags',\n",
      "       ' Fwd URG Flags', ' Bwd URG Flags', ' Fwd Header Length',\n",
      "       ' Bwd Header Length', 'Fwd Packets/s', ' Bwd Packets/s',\n",
      "       ' Min Packet Length', ' Max Packet Length', ' Packet Length Mean',\n",
      "       ' Packet Length Std', ' Packet Length Variance', 'FIN Flag Count',\n",
      "       ' SYN Flag Count', ' RST Flag Count', ' PSH Flag Count',\n",
      "       ' ACK Flag Count', ' URG Flag Count', ' CWE Flag Count',\n",
      "       ' ECE Flag Count', ' Down/Up Ratio', ' Average Packet Size',\n",
      "       ' Avg Fwd Segment Size', ' Avg Bwd Segment Size',\n",
      "       ' Fwd Header Length.1', 'Fwd Avg Bytes/Bulk', ' Fwd Avg Packets/Bulk',\n",
      "       ' Fwd Avg Bulk Rate', ' Bwd Avg Bytes/Bulk', ' Bwd Avg Packets/Bulk',\n",
      "       'Bwd Avg Bulk Rate', 'Subflow Fwd Packets', ' Subflow Fwd Bytes',\n",
      "       ' Subflow Bwd Packets', ' Subflow Bwd Bytes', 'Init_Win_bytes_forward',\n",
      "       ' Init_Win_bytes_backward', ' act_data_pkt_fwd',\n",
      "       ' min_seg_size_forward', 'Active Mean', ' Active Std', ' Active Max',\n",
      "       ' Active Min', 'Idle Mean', ' Idle Std', ' Idle Max', ' Idle Min',\n",
      "       ' Label'],\n",
      "      dtype='object')\n",
      "79\n"
     ]
    }
   ],
   "source": [
    "import pandas as pd\n",
    "from sklearn.preprocessing import StandardScaler\n",
    "import numpy as np\n",
    "from sklearn.model_selection import train_test_split\n",
    "\n",
    "\n",
    "# Load the dataset\n",
    "file_path = '/content/drive/MyDrive/Friday-WorkingHours-Afternoon-PortScan.pcap_ISCX.csv'\n",
    "data = pd.read_csv(file_path)\n",
    "\n",
    "# Display the first few rows and column names\n",
    "print(data.head())\n",
    "print(data.columns)\n",
    "print(len(data.columns))\n"
   ]
  },
  {
   "cell_type": "code",
   "execution_count": 2,
   "metadata": {
    "colab": {
     "base_uri": "https://localhost:8080/"
    },
    "id": "ONRYwTuy91FP",
    "outputId": "13fb5416-ae4a-49d6-8c55-863c61322539"
   },
   "outputs": [
    {
     "name": "stdout",
     "output_type": "stream",
     "text": [
      "Index(['DestinationPort', 'FlowDuration', 'TotalFwdPackets',\n",
      "       'TotalBackwardPackets', 'TotalLengthofFwdPackets',\n",
      "       'TotalLengthofBwdPackets', 'FwdPacketLengthMax', 'FwdPacketLengthMin',\n",
      "       'FwdPacketLengthMean', 'FwdPacketLengthStd', 'BwdPacketLengthMax',\n",
      "       'BwdPacketLengthMin', 'BwdPacketLengthMean', 'BwdPacketLengthStd',\n",
      "       'FlowBytes/s', 'FlowPackets/s', 'FlowIATMean', 'FlowIATStd',\n",
      "       'FlowIATMax', 'FlowIATMin', 'FwdIATTotal', 'FwdIATMean', 'FwdIATStd',\n",
      "       'FwdIATMax', 'FwdIATMin', 'BwdIATTotal', 'BwdIATMean', 'BwdIATStd',\n",
      "       'BwdIATMax', 'BwdIATMin', 'FwdPSHFlags', 'BwdPSHFlags', 'FwdURGFlags',\n",
      "       'BwdURGFlags', 'FwdHeaderLength', 'BwdHeaderLength', 'FwdPackets/s',\n",
      "       'BwdPackets/s', 'MinPacketLength', 'MaxPacketLength',\n",
      "       'PacketLengthMean', 'PacketLengthStd', 'PacketLengthVariance',\n",
      "       'FINFlagCount', 'SYNFlagCount', 'RSTFlagCount', 'PSHFlagCount',\n",
      "       'ACKFlagCount', 'URGFlagCount', 'CWEFlagCount', 'ECEFlagCount',\n",
      "       'Down/UpRatio', 'AveragePacketSize', 'AvgFwdSegmentSize',\n",
      "       'AvgBwdSegmentSize', 'FwdHeaderLength.1', 'FwdAvgBytes/Bulk',\n",
      "       'FwdAvgPackets/Bulk', 'FwdAvgBulkRate', 'BwdAvgBytes/Bulk',\n",
      "       'BwdAvgPackets/Bulk', 'BwdAvgBulkRate', 'SubflowFwdPackets',\n",
      "       'SubflowFwdBytes', 'SubflowBwdPackets', 'SubflowBwdBytes',\n",
      "       'Init_Win_bytes_forward', 'Init_Win_bytes_backward', 'act_data_pkt_fwd',\n",
      "       'min_seg_size_forward', 'ActiveMean', 'ActiveStd', 'ActiveMax',\n",
      "       'ActiveMin', 'IdleMean', 'IdleStd', 'IdleMax', 'IdleMin', 'Label'],\n",
      "      dtype='object')\n"
     ]
    }
   ],
   "source": [
    "\n",
    "data.columns = data.columns.str.replace(' ', '')\n",
    "\n",
    "print(data.columns)\n"
   ]
  },
  {
   "cell_type": "code",
   "execution_count": 3,
   "metadata": {
    "colab": {
     "base_uri": "https://localhost:8080/"
    },
    "id": "jMyaY7EdBQe9",
    "outputId": "4ade7a14-8c70-44fc-cb02-540c69ac5fc9"
   },
   "outputs": [
    {
     "name": "stdout",
     "output_type": "stream",
     "text": [
      "<class 'pandas.core.frame.DataFrame'>\n",
      "RangeIndex: 286467 entries, 0 to 286466\n",
      "Data columns (total 79 columns):\n",
      " #   Column                   Non-Null Count   Dtype  \n",
      "---  ------                   --------------   -----  \n",
      " 0   DestinationPort          286467 non-null  int64  \n",
      " 1   FlowDuration             286467 non-null  int64  \n",
      " 2   TotalFwdPackets          286467 non-null  int64  \n",
      " 3   TotalBackwardPackets     286467 non-null  int64  \n",
      " 4   TotalLengthofFwdPackets  286467 non-null  int64  \n",
      " 5   TotalLengthofBwdPackets  286467 non-null  int64  \n",
      " 6   FwdPacketLengthMax       286467 non-null  int64  \n",
      " 7   FwdPacketLengthMin       286467 non-null  int64  \n",
      " 8   FwdPacketLengthMean      286467 non-null  float64\n",
      " 9   FwdPacketLengthStd       286467 non-null  float64\n",
      " 10  BwdPacketLengthMax       286467 non-null  int64  \n",
      " 11  BwdPacketLengthMin       286467 non-null  int64  \n",
      " 12  BwdPacketLengthMean      286467 non-null  float64\n",
      " 13  BwdPacketLengthStd       286467 non-null  float64\n",
      " 14  FlowBytes/s              286452 non-null  float64\n",
      " 15  FlowPackets/s            286467 non-null  float64\n",
      " 16  FlowIATMean              286467 non-null  float64\n",
      " 17  FlowIATStd               286467 non-null  float64\n",
      " 18  FlowIATMax               286467 non-null  int64  \n",
      " 19  FlowIATMin               286467 non-null  int64  \n",
      " 20  FwdIATTotal              286467 non-null  int64  \n",
      " 21  FwdIATMean               286467 non-null  float64\n",
      " 22  FwdIATStd                286467 non-null  float64\n",
      " 23  FwdIATMax                286467 non-null  int64  \n",
      " 24  FwdIATMin                286467 non-null  int64  \n",
      " 25  BwdIATTotal              286467 non-null  int64  \n",
      " 26  BwdIATMean               286467 non-null  float64\n",
      " 27  BwdIATStd                286467 non-null  float64\n",
      " 28  BwdIATMax                286467 non-null  int64  \n",
      " 29  BwdIATMin                286467 non-null  int64  \n",
      " 30  FwdPSHFlags              286467 non-null  int64  \n",
      " 31  BwdPSHFlags              286467 non-null  int64  \n",
      " 32  FwdURGFlags              286467 non-null  int64  \n",
      " 33  BwdURGFlags              286467 non-null  int64  \n",
      " 34  FwdHeaderLength          286467 non-null  int64  \n",
      " 35  BwdHeaderLength          286467 non-null  int64  \n",
      " 36  FwdPackets/s             286467 non-null  float64\n",
      " 37  BwdPackets/s             286467 non-null  float64\n",
      " 38  MinPacketLength          286467 non-null  int64  \n",
      " 39  MaxPacketLength          286467 non-null  int64  \n",
      " 40  PacketLengthMean         286467 non-null  float64\n",
      " 41  PacketLengthStd          286467 non-null  float64\n",
      " 42  PacketLengthVariance     286467 non-null  float64\n",
      " 43  FINFlagCount             286467 non-null  int64  \n",
      " 44  SYNFlagCount             286467 non-null  int64  \n",
      " 45  RSTFlagCount             286467 non-null  int64  \n",
      " 46  PSHFlagCount             286467 non-null  int64  \n",
      " 47  ACKFlagCount             286467 non-null  int64  \n",
      " 48  URGFlagCount             286467 non-null  int64  \n",
      " 49  CWEFlagCount             286467 non-null  int64  \n",
      " 50  ECEFlagCount             286467 non-null  int64  \n",
      " 51  Down/UpRatio             286467 non-null  int64  \n",
      " 52  AveragePacketSize        286467 non-null  float64\n",
      " 53  AvgFwdSegmentSize        286467 non-null  float64\n",
      " 54  AvgBwdSegmentSize        286467 non-null  float64\n",
      " 55  FwdHeaderLength.1        286467 non-null  int64  \n",
      " 56  FwdAvgBytes/Bulk         286467 non-null  int64  \n",
      " 57  FwdAvgPackets/Bulk       286467 non-null  int64  \n",
      " 58  FwdAvgBulkRate           286467 non-null  int64  \n",
      " 59  BwdAvgBytes/Bulk         286467 non-null  int64  \n",
      " 60  BwdAvgPackets/Bulk       286467 non-null  int64  \n",
      " 61  BwdAvgBulkRate           286467 non-null  int64  \n",
      " 62  SubflowFwdPackets        286467 non-null  int64  \n",
      " 63  SubflowFwdBytes          286467 non-null  int64  \n",
      " 64  SubflowBwdPackets        286467 non-null  int64  \n",
      " 65  SubflowBwdBytes          286467 non-null  int64  \n",
      " 66  Init_Win_bytes_forward   286467 non-null  int64  \n",
      " 67  Init_Win_bytes_backward  286467 non-null  int64  \n",
      " 68  act_data_pkt_fwd         286467 non-null  int64  \n",
      " 69  min_seg_size_forward     286467 non-null  int64  \n",
      " 70  ActiveMean               286467 non-null  float64\n",
      " 71  ActiveStd                286467 non-null  float64\n",
      " 72  ActiveMax                286467 non-null  int64  \n",
      " 73  ActiveMin                286467 non-null  int64  \n",
      " 74  IdleMean                 286467 non-null  float64\n",
      " 75  IdleStd                  286467 non-null  float64\n",
      " 76  IdleMax                  286467 non-null  int64  \n",
      " 77  IdleMin                  286467 non-null  int64  \n",
      " 78  Label                    286467 non-null  object \n",
      "dtypes: float64(24), int64(54), object(1)\n",
      "memory usage: 172.7+ MB\n"
     ]
    }
   ],
   "source": [
    "data.info()"
   ]
  },
  {
   "cell_type": "code",
   "execution_count": 4,
   "metadata": {
    "colab": {
     "base_uri": "https://localhost:8080/"
    },
    "id": "xhDIs3wHfM_q",
    "outputId": "4bbf3e98-eab1-4873-9ffb-18481a74f7ea"
   },
   "outputs": [
    {
     "data": {
      "text/plain": [
       "2"
      ]
     },
     "execution_count": 4,
     "metadata": {},
     "output_type": "execute_result"
    }
   ],
   "source": [
    "data.Label.nunique()\n"
   ]
  },
  {
   "cell_type": "code",
   "execution_count": 5,
   "metadata": {
    "colab": {
     "base_uri": "https://localhost:8080/",
     "height": 178
    },
    "id": "T8w-zHQbfQgT",
    "outputId": "257d0008-d40d-4b8f-d6c5-332360bceb5d"
   },
   "outputs": [
    {
     "data": {
      "text/plain": [
       "PortScan    158930\n",
       "BENIGN      127537\n",
       "Name: Label, dtype: int64"
      ]
     },
     "execution_count": 5,
     "metadata": {},
     "output_type": "execute_result"
    }
   ],
   "source": [
    "data.Label.value_counts()"
   ]
  },
  {
   "cell_type": "code",
   "execution_count": 6,
   "metadata": {
    "id": "PZNZ0dru-vm3"
   },
   "outputs": [],
   "source": [
    "benign_samples = data[data['Label'] == 'BENIGN'].sample(n=110000, random_state=42)\n",
    "malicious_samples = data[data['Label'] == 'PortScan'].sample(n=110000, random_state=42)\n",
    "\n",
    "# Combine the sampled data\n",
    "data = pd.concat([benign_samples, malicious_samples])\n",
    "\n",
    "# Shuffle the data\n",
    "data = data.sample(frac=1, random_state=42).reset_index(drop=True)"
   ]
  },
  {
   "cell_type": "code",
   "execution_count": 7,
   "metadata": {
    "colab": {
     "base_uri": "https://localhost:8080/",
     "height": 178
    },
    "id": "UzXqc8xNv7fe",
    "outputId": "8e98d764-e3d6-47bc-b5f4-61a64e2ce91e"
   },
   "outputs": [
    {
     "data": {
      "text/plain": [
       "PortScan    110000\n",
       "BENIGN      110000\n",
       "Name: Label, dtype: int64"
      ]
     },
     "execution_count": 7,
     "metadata": {},
     "output_type": "execute_result"
    }
   ],
   "source": [
    "data.Label.value_counts()"
   ]
  },
  {
   "cell_type": "code",
   "execution_count": 8,
   "metadata": {
    "id": "f9HJD44E9BW_"
   },
   "outputs": [],
   "source": [
    "\n",
    "\n",
    "# Separate features and labels\n",
    "features = data.drop('Label', axis=1)\n",
    "labels = data['Label']"
   ]
  },
  {
   "cell_type": "code",
   "execution_count": 9,
   "metadata": {
    "id": "PnpTtnNzB9R_"
   },
   "outputs": [],
   "source": [
    "features.replace([np.inf, -np.inf], np.nan, inplace=True)  # Replace infinities with NaN\n",
    "features.dropna(inplace=True)  # Drop rows with NaN values"
   ]
  },
  {
   "cell_type": "code",
   "execution_count": 10,
   "metadata": {
    "id": "FeA5jyHc9XYd"
   },
   "outputs": [],
   "source": [
    "features = features.select_dtypes(include=[float, int])\n"
   ]
  },
  {
   "cell_type": "code",
   "execution_count": 11,
   "metadata": {
    "colab": {
     "base_uri": "https://localhost:8080/"
    },
    "id": "Eggxjn60-Iw6",
    "outputId": "7c8ab4a4-22de-41ec-d53a-191949034949"
   },
   "outputs": [
    {
     "data": {
      "text/plain": [
       "219703"
      ]
     },
     "execution_count": 11,
     "metadata": {},
     "output_type": "execute_result"
    }
   ],
   "source": [
    "len(features)"
   ]
  },
  {
   "cell_type": "code",
   "execution_count": 12,
   "metadata": {
    "colab": {
     "base_uri": "https://localhost:8080/",
     "height": 443
    },
    "id": "0U_dvoq__RK3",
    "outputId": "cecfb26e-5fdb-4115-9c9d-5a6460ddc780"
   },
   "outputs": [
    {
     "data": {
      "text/html": [
       "<div>\n",
       "<style scoped>\n",
       "    .dataframe tbody tr th:only-of-type {\n",
       "        vertical-align: middle;\n",
       "    }\n",
       "\n",
       "    .dataframe tbody tr th {\n",
       "        vertical-align: top;\n",
       "    }\n",
       "\n",
       "    .dataframe thead th {\n",
       "        text-align: right;\n",
       "    }\n",
       "</style>\n",
       "<table border=\"1\" class=\"dataframe\">\n",
       "  <thead>\n",
       "    <tr style=\"text-align: right;\">\n",
       "      <th></th>\n",
       "      <th>DestinationPort</th>\n",
       "      <th>FlowDuration</th>\n",
       "      <th>TotalFwdPackets</th>\n",
       "      <th>TotalBackwardPackets</th>\n",
       "      <th>TotalLengthofFwdPackets</th>\n",
       "      <th>TotalLengthofBwdPackets</th>\n",
       "      <th>FwdPacketLengthMax</th>\n",
       "      <th>FwdPacketLengthMin</th>\n",
       "      <th>FwdPacketLengthMean</th>\n",
       "      <th>FwdPacketLengthStd</th>\n",
       "      <th>...</th>\n",
       "      <th>act_data_pkt_fwd</th>\n",
       "      <th>min_seg_size_forward</th>\n",
       "      <th>ActiveMean</th>\n",
       "      <th>ActiveStd</th>\n",
       "      <th>ActiveMax</th>\n",
       "      <th>ActiveMin</th>\n",
       "      <th>IdleMean</th>\n",
       "      <th>IdleStd</th>\n",
       "      <th>IdleMax</th>\n",
       "      <th>IdleMin</th>\n",
       "    </tr>\n",
       "  </thead>\n",
       "  <tbody>\n",
       "    <tr>\n",
       "      <th>0</th>\n",
       "      <td>10566</td>\n",
       "      <td>32</td>\n",
       "      <td>1</td>\n",
       "      <td>1</td>\n",
       "      <td>2</td>\n",
       "      <td>6</td>\n",
       "      <td>2</td>\n",
       "      <td>2</td>\n",
       "      <td>2.000000</td>\n",
       "      <td>0.000000</td>\n",
       "      <td>...</td>\n",
       "      <td>0</td>\n",
       "      <td>24</td>\n",
       "      <td>0.0</td>\n",
       "      <td>0.0</td>\n",
       "      <td>0</td>\n",
       "      <td>0</td>\n",
       "      <td>0.0</td>\n",
       "      <td>0.0</td>\n",
       "      <td>0</td>\n",
       "      <td>0</td>\n",
       "    </tr>\n",
       "    <tr>\n",
       "      <th>1</th>\n",
       "      <td>6547</td>\n",
       "      <td>49</td>\n",
       "      <td>1</td>\n",
       "      <td>1</td>\n",
       "      <td>2</td>\n",
       "      <td>6</td>\n",
       "      <td>2</td>\n",
       "      <td>2</td>\n",
       "      <td>2.000000</td>\n",
       "      <td>0.000000</td>\n",
       "      <td>...</td>\n",
       "      <td>0</td>\n",
       "      <td>24</td>\n",
       "      <td>0.0</td>\n",
       "      <td>0.0</td>\n",
       "      <td>0</td>\n",
       "      <td>0</td>\n",
       "      <td>0.0</td>\n",
       "      <td>0.0</td>\n",
       "      <td>0</td>\n",
       "      <td>0</td>\n",
       "    </tr>\n",
       "    <tr>\n",
       "      <th>2</th>\n",
       "      <td>443</td>\n",
       "      <td>99294767</td>\n",
       "      <td>35</td>\n",
       "      <td>50</td>\n",
       "      <td>847</td>\n",
       "      <td>68696</td>\n",
       "      <td>245</td>\n",
       "      <td>0</td>\n",
       "      <td>24.200000</td>\n",
       "      <td>63.702803</td>\n",
       "      <td>...</td>\n",
       "      <td>6</td>\n",
       "      <td>32</td>\n",
       "      <td>432243.0</td>\n",
       "      <td>0.0</td>\n",
       "      <td>432243</td>\n",
       "      <td>432243</td>\n",
       "      <td>58800000.0</td>\n",
       "      <td>0.0</td>\n",
       "      <td>58800000</td>\n",
       "      <td>58800000</td>\n",
       "    </tr>\n",
       "    <tr>\n",
       "      <th>3</th>\n",
       "      <td>366</td>\n",
       "      <td>44</td>\n",
       "      <td>1</td>\n",
       "      <td>1</td>\n",
       "      <td>0</td>\n",
       "      <td>6</td>\n",
       "      <td>0</td>\n",
       "      <td>0</td>\n",
       "      <td>0.000000</td>\n",
       "      <td>0.000000</td>\n",
       "      <td>...</td>\n",
       "      <td>0</td>\n",
       "      <td>40</td>\n",
       "      <td>0.0</td>\n",
       "      <td>0.0</td>\n",
       "      <td>0</td>\n",
       "      <td>0</td>\n",
       "      <td>0.0</td>\n",
       "      <td>0.0</td>\n",
       "      <td>0</td>\n",
       "      <td>0</td>\n",
       "    </tr>\n",
       "    <tr>\n",
       "      <th>4</th>\n",
       "      <td>80</td>\n",
       "      <td>11292735</td>\n",
       "      <td>190</td>\n",
       "      <td>269</td>\n",
       "      <td>7303</td>\n",
       "      <td>411328</td>\n",
       "      <td>307</td>\n",
       "      <td>0</td>\n",
       "      <td>38.436842</td>\n",
       "      <td>92.366327</td>\n",
       "      <td>...</td>\n",
       "      <td>189</td>\n",
       "      <td>20</td>\n",
       "      <td>0.0</td>\n",
       "      <td>0.0</td>\n",
       "      <td>0</td>\n",
       "      <td>0</td>\n",
       "      <td>0.0</td>\n",
       "      <td>0.0</td>\n",
       "      <td>0</td>\n",
       "      <td>0</td>\n",
       "    </tr>\n",
       "    <tr>\n",
       "      <th>...</th>\n",
       "      <td>...</td>\n",
       "      <td>...</td>\n",
       "      <td>...</td>\n",
       "      <td>...</td>\n",
       "      <td>...</td>\n",
       "      <td>...</td>\n",
       "      <td>...</td>\n",
       "      <td>...</td>\n",
       "      <td>...</td>\n",
       "      <td>...</td>\n",
       "      <td>...</td>\n",
       "      <td>...</td>\n",
       "      <td>...</td>\n",
       "      <td>...</td>\n",
       "      <td>...</td>\n",
       "      <td>...</td>\n",
       "      <td>...</td>\n",
       "      <td>...</td>\n",
       "      <td>...</td>\n",
       "      <td>...</td>\n",
       "      <td>...</td>\n",
       "    </tr>\n",
       "    <tr>\n",
       "      <th>219995</th>\n",
       "      <td>15660</td>\n",
       "      <td>49</td>\n",
       "      <td>1</td>\n",
       "      <td>1</td>\n",
       "      <td>2</td>\n",
       "      <td>6</td>\n",
       "      <td>2</td>\n",
       "      <td>2</td>\n",
       "      <td>2.000000</td>\n",
       "      <td>0.000000</td>\n",
       "      <td>...</td>\n",
       "      <td>0</td>\n",
       "      <td>24</td>\n",
       "      <td>0.0</td>\n",
       "      <td>0.0</td>\n",
       "      <td>0</td>\n",
       "      <td>0</td>\n",
       "      <td>0.0</td>\n",
       "      <td>0.0</td>\n",
       "      <td>0</td>\n",
       "      <td>0</td>\n",
       "    </tr>\n",
       "    <tr>\n",
       "      <th>219996</th>\n",
       "      <td>443</td>\n",
       "      <td>820876</td>\n",
       "      <td>10</td>\n",
       "      <td>8</td>\n",
       "      <td>2608</td>\n",
       "      <td>4527</td>\n",
       "      <td>1460</td>\n",
       "      <td>0</td>\n",
       "      <td>260.800000</td>\n",
       "      <td>461.151168</td>\n",
       "      <td>...</td>\n",
       "      <td>9</td>\n",
       "      <td>20</td>\n",
       "      <td>0.0</td>\n",
       "      <td>0.0</td>\n",
       "      <td>0</td>\n",
       "      <td>0</td>\n",
       "      <td>0.0</td>\n",
       "      <td>0.0</td>\n",
       "      <td>0</td>\n",
       "      <td>0</td>\n",
       "    </tr>\n",
       "    <tr>\n",
       "      <th>219997</th>\n",
       "      <td>49155</td>\n",
       "      <td>101</td>\n",
       "      <td>1</td>\n",
       "      <td>1</td>\n",
       "      <td>0</td>\n",
       "      <td>6</td>\n",
       "      <td>0</td>\n",
       "      <td>0</td>\n",
       "      <td>0.000000</td>\n",
       "      <td>0.000000</td>\n",
       "      <td>...</td>\n",
       "      <td>0</td>\n",
       "      <td>40</td>\n",
       "      <td>0.0</td>\n",
       "      <td>0.0</td>\n",
       "      <td>0</td>\n",
       "      <td>0</td>\n",
       "      <td>0.0</td>\n",
       "      <td>0.0</td>\n",
       "      <td>0</td>\n",
       "      <td>0</td>\n",
       "    </tr>\n",
       "    <tr>\n",
       "      <th>219998</th>\n",
       "      <td>49154</td>\n",
       "      <td>63</td>\n",
       "      <td>1</td>\n",
       "      <td>1</td>\n",
       "      <td>2</td>\n",
       "      <td>6</td>\n",
       "      <td>2</td>\n",
       "      <td>2</td>\n",
       "      <td>2.000000</td>\n",
       "      <td>0.000000</td>\n",
       "      <td>...</td>\n",
       "      <td>0</td>\n",
       "      <td>24</td>\n",
       "      <td>0.0</td>\n",
       "      <td>0.0</td>\n",
       "      <td>0</td>\n",
       "      <td>0</td>\n",
       "      <td>0.0</td>\n",
       "      <td>0.0</td>\n",
       "      <td>0</td>\n",
       "      <td>0</td>\n",
       "    </tr>\n",
       "    <tr>\n",
       "      <th>219999</th>\n",
       "      <td>646</td>\n",
       "      <td>44</td>\n",
       "      <td>1</td>\n",
       "      <td>1</td>\n",
       "      <td>2</td>\n",
       "      <td>6</td>\n",
       "      <td>2</td>\n",
       "      <td>2</td>\n",
       "      <td>2.000000</td>\n",
       "      <td>0.000000</td>\n",
       "      <td>...</td>\n",
       "      <td>0</td>\n",
       "      <td>24</td>\n",
       "      <td>0.0</td>\n",
       "      <td>0.0</td>\n",
       "      <td>0</td>\n",
       "      <td>0</td>\n",
       "      <td>0.0</td>\n",
       "      <td>0.0</td>\n",
       "      <td>0</td>\n",
       "      <td>0</td>\n",
       "    </tr>\n",
       "  </tbody>\n",
       "</table>\n",
       "<p>219703 rows × 78 columns</p>\n",
       "</div>"
      ],
      "text/plain": [
       "        DestinationPort  FlowDuration  TotalFwdPackets  TotalBackwardPackets  \\\n",
       "0                 10566            32                1                     1   \n",
       "1                  6547            49                1                     1   \n",
       "2                   443      99294767               35                    50   \n",
       "3                   366            44                1                     1   \n",
       "4                    80      11292735              190                   269   \n",
       "...                 ...           ...              ...                   ...   \n",
       "219995            15660            49                1                     1   \n",
       "219996              443        820876               10                     8   \n",
       "219997            49155           101                1                     1   \n",
       "219998            49154            63                1                     1   \n",
       "219999              646            44                1                     1   \n",
       "\n",
       "        TotalLengthofFwdPackets  TotalLengthofBwdPackets  FwdPacketLengthMax  \\\n",
       "0                             2                        6                   2   \n",
       "1                             2                        6                   2   \n",
       "2                           847                    68696                 245   \n",
       "3                             0                        6                   0   \n",
       "4                          7303                   411328                 307   \n",
       "...                         ...                      ...                 ...   \n",
       "219995                        2                        6                   2   \n",
       "219996                     2608                     4527                1460   \n",
       "219997                        0                        6                   0   \n",
       "219998                        2                        6                   2   \n",
       "219999                        2                        6                   2   \n",
       "\n",
       "        FwdPacketLengthMin  FwdPacketLengthMean  FwdPacketLengthStd  ...  \\\n",
       "0                        2             2.000000            0.000000  ...   \n",
       "1                        2             2.000000            0.000000  ...   \n",
       "2                        0            24.200000           63.702803  ...   \n",
       "3                        0             0.000000            0.000000  ...   \n",
       "4                        0            38.436842           92.366327  ...   \n",
       "...                    ...                  ...                 ...  ...   \n",
       "219995                   2             2.000000            0.000000  ...   \n",
       "219996                   0           260.800000          461.151168  ...   \n",
       "219997                   0             0.000000            0.000000  ...   \n",
       "219998                   2             2.000000            0.000000  ...   \n",
       "219999                   2             2.000000            0.000000  ...   \n",
       "\n",
       "        act_data_pkt_fwd  min_seg_size_forward  ActiveMean  ActiveStd  \\\n",
       "0                      0                    24         0.0        0.0   \n",
       "1                      0                    24         0.0        0.0   \n",
       "2                      6                    32    432243.0        0.0   \n",
       "3                      0                    40         0.0        0.0   \n",
       "4                    189                    20         0.0        0.0   \n",
       "...                  ...                   ...         ...        ...   \n",
       "219995                 0                    24         0.0        0.0   \n",
       "219996                 9                    20         0.0        0.0   \n",
       "219997                 0                    40         0.0        0.0   \n",
       "219998                 0                    24         0.0        0.0   \n",
       "219999                 0                    24         0.0        0.0   \n",
       "\n",
       "        ActiveMax  ActiveMin    IdleMean  IdleStd   IdleMax   IdleMin  \n",
       "0               0          0         0.0      0.0         0         0  \n",
       "1               0          0         0.0      0.0         0         0  \n",
       "2          432243     432243  58800000.0      0.0  58800000  58800000  \n",
       "3               0          0         0.0      0.0         0         0  \n",
       "4               0          0         0.0      0.0         0         0  \n",
       "...           ...        ...         ...      ...       ...       ...  \n",
       "219995          0          0         0.0      0.0         0         0  \n",
       "219996          0          0         0.0      0.0         0         0  \n",
       "219997          0          0         0.0      0.0         0         0  \n",
       "219998          0          0         0.0      0.0         0         0  \n",
       "219999          0          0         0.0      0.0         0         0  \n",
       "\n",
       "[219703 rows x 78 columns]"
      ]
     },
     "execution_count": 12,
     "metadata": {},
     "output_type": "execute_result"
    }
   ],
   "source": [
    "features"
   ]
  },
  {
   "cell_type": "code",
   "execution_count": 13,
   "metadata": {
    "id": "8IHb5gFQ_Yfb"
   },
   "outputs": [],
   "source": [
    "scaler = StandardScaler()\n",
    "features_scaled = scaler.fit_transform(features)"
   ]
  },
  {
   "cell_type": "code",
   "execution_count": 14,
   "metadata": {
    "id": "yjcYXYO8Aq2Q"
   },
   "outputs": [],
   "source": [
    "from sklearn.preprocessing import LabelEncoder\n",
    "\n",
    "label_encoder = LabelEncoder()\n",
    "y_encoded = label_encoder.fit_transform(labels)"
   ]
  },
  {
   "cell_type": "code",
   "execution_count": 15,
   "metadata": {
    "colab": {
     "base_uri": "https://localhost:8080/"
    },
    "id": "fdW2E6O6fhVo",
    "outputId": "7f201e11-cc3e-47f6-c3e2-c8efc0c12cf4"
   },
   "outputs": [
    {
     "data": {
      "text/plain": [
       "176000"
      ]
     },
     "execution_count": 15,
     "metadata": {},
     "output_type": "execute_result"
    }
   ],
   "source": [
    "round(data.shape[0]*80/100)"
   ]
  },
  {
   "cell_type": "code",
   "execution_count": 16,
   "metadata": {
    "colab": {
     "base_uri": "https://localhost:8080/"
    },
    "id": "qRi9l4bVkKwd",
    "outputId": "d3a99f74-b2c8-49d2-a6fc-2870ea507f4e"
   },
   "outputs": [
    {
     "name": "stdout",
     "output_type": "stream",
     "text": [
      "Number of missing values in y_encoded: 0\n"
     ]
    }
   ],
   "source": [
    "missing_labels = np.isnan(y_encoded).sum()\n",
    "print(f\"Number of missing values in y_encoded: {missing_labels}\")"
   ]
  },
  {
   "cell_type": "code",
   "execution_count": 17,
   "metadata": {
    "colab": {
     "base_uri": "https://localhost:8080/"
    },
    "id": "_Kvrd6RtEvJw",
    "outputId": "454335b5-526a-44db-dce3-bab2b010c2ca"
   },
   "outputs": [
    {
     "name": "stdout",
     "output_type": "stream",
     "text": [
      "Length of X_train: 176000\n",
      "Length of y_train: 176000\n",
      "Length of X_test: 43703\n",
      "Length of y_test: 44000\n",
      "Final Length of X_test: 43703\n",
      "Final Length of y_test: 43703\n"
     ]
    }
   ],
   "source": [
    "train_size = round(len(y_encoded) * 0.8)\n",
    "\n",
    "X_train = features_scaled[:train_size]\n",
    "X_test = features_scaled[train_size:]\n",
    "y_train = y_encoded[:train_size]\n",
    "y_test = y_encoded[train_size:]\n",
    "\n",
    "print(f\"Length of X_train: {len(X_train)}\")\n",
    "print(f\"Length of y_train: {len(y_train)}\")\n",
    "print(f\"Length of X_test: {len(X_test)}\")\n",
    "print(f\"Length of y_test: {len(y_test)}\")\n",
    "\n",
    "min_len = min(len(X_test), len(y_test))\n",
    "X_test = X_test[:min_len]\n",
    "y_test = y_test[:min_len]\n",
    "\n",
    "print(f\"Final Length of X_test: {len(X_test)}\")\n",
    "print(f\"Final Length of y_test: {len(y_test)}\")\n",
    "\n"
   ]
  },
  {
   "cell_type": "markdown",
   "metadata": {
    "id": "8EfnUXp6sRLz"
   },
   "source": []
  },
  {
   "cell_type": "code",
   "execution_count": 18,
   "metadata": {
    "colab": {
     "base_uri": "https://localhost:8080/"
    },
    "id": "G84LMpDeATRu",
    "outputId": "ebcaeca3-05b8-45f7-ae1e-b108b1aca2bf"
   },
   "outputs": [
    {
     "name": "stdout",
     "output_type": "stream",
     "text": [
      "Number of anomalies detected: 530\n"
     ]
    }
   ],
   "source": [
    "from sklearn.svm import OneClassSVM\n",
    "from sklearn.metrics import classification_report\n",
    "\n",
    "ocsvm = OneClassSVM(kernel='rbf', nu=0.01, gamma='auto')\n",
    "ocsvm.fit(X_train)\n",
    "\n",
    "y_pred = ocsvm.predict(X_test)\n",
    "\n",
    "\n",
    "print(\"Number of anomalies detected:\", (y_pred == -1).sum())\n",
    "\n",
    "\n"
   ]
  },
  {
   "cell_type": "code",
   "execution_count": 22,
   "metadata": {
    "colab": {
     "base_uri": "https://localhost:8080/"
    },
    "id": "50K4oJd6RcWD",
    "outputId": "59bb0571-700c-4a63-e0ec-4cebd99c04f5"
   },
   "outputs": [
    {
     "name": "stdout",
     "output_type": "stream",
     "text": [
      "Accuracy in separating Outliers: 0.9878726860856234\n"
     ]
    }
   ],
   "source": [
    "from sklearn.metrics import accuracy_score\n",
    "\n",
    "# Convert One-Class SVM predictions to 0 and 1: -1 for outliers and 1 for inliers\n",
    "svm_predict = np.where(y_pred == -1, 1, 0)  # Replace -1 with 1 and 1 with 0\n",
    "\n",
    "# Convert true labels to 0 and 1 as well\n",
    "y_test_mapped = np.where(y_test == 'PortScan', 1, 0)\n",
    "\n",
    "accuracy = accuracy_score(y_test_mapped, svm_predict)\n",
    "print(\"Accuracy in separating Outliers:\", accuracy)\n"
   ]
  },
  {
   "cell_type": "code",
   "execution_count": 23,
   "metadata": {
    "colab": {
     "base_uri": "https://localhost:8080/"
    },
    "id": "RnWY_OtQW61D",
    "outputId": "4e1d51a0-8adf-4eb9-89ea-79f8225459f2"
   },
   "outputs": [
    {
     "name": "stdout",
     "output_type": "stream",
     "text": [
      "Value: -1, Count: 530\n",
      "Value: 1, Count: 43173\n"
     ]
    }
   ],
   "source": [
    "\n",
    "y_pred = np.array(y_pred)\n",
    "\n",
    "# Get unique values and their counts\n",
    "unique_values, counts = np.unique(y_pred, return_counts=True)\n",
    "\n",
    "for value, count in zip(unique_values, counts):\n",
    "    print(f'Value: {value}, Count: {count}')\n"
   ]
  },
  {
   "cell_type": "code",
   "execution_count": 24,
   "metadata": {
    "colab": {
     "base_uri": "https://localhost:8080/",
     "height": 564
    },
    "id": "yEvtP6JmAejS",
    "outputId": "0d487850-d69a-4642-e1ec-8eb448e72320"
   },
   "outputs": [
    {
     "data": {
      "image/png": "[encoded data removed]",
      "text/plain": [
       "<Figure size 1200x600 with 1 Axes>"
      ]
     },
     "metadata": {},
     "output_type": "display_data"
    }
   ],
   "source": [
    "import matplotlib.pyplot as plt\n",
    "\n",
    "# Plotting\n",
    "plt.figure(figsize=(12, 6))\n",
    "\n",
    "plt.scatter(X_test[:, 0][y_pred == 1], X_test[:, 1][y_pred == 1], c='blue', label='Normal', s=10, alpha=0.6)\n",
    "\n",
    "plt.scatter(X_test[:, 0][y_pred == -1], X_test[:, 1][y_pred == -1], c='red', label='Anomaly', s=10, alpha=0.6)\n",
    "\n",
    "plt.xlabel('Feature 1')\n",
    "plt.ylabel('Feature 2')\n",
    "plt.title('Detected Anomalies and Normal Points')\n",
    "plt.legend()\n",
    "plt.grid(True)\n",
    "plt.show()\n"
   ]
  },
  {
   "cell_type": "code",
   "execution_count": 18,
   "metadata": {
    "id": "jm18VbaaDnL0"
   },
   "outputs": [
    {
     "name": "stdout",
     "output_type": "stream",
     "text": [
      "Number of anomalies detected: 439\n",
      "Accuracy in separating Outliers: 0.5012928174267213\n",
      "Value: -1, Count: 439\n",
      "Value: 1, Count: 43264\n"
     ]
    }
   ],
   "source": [
    "from sklearn.ensemble import IsolationForest\n",
    "from sklearn.metrics import accuracy_score, classification_report\n",
    "import numpy as np\n",
    "\n",
    "iso_forest = IsolationForest(n_estimators=100, contamination=0.01, random_state=42)\n",
    "iso_forest.fit(X_train)\n",
    "\n",
    "y_pred = iso_forest.predict(X_test)\n",
    "\n",
    "print(\"Number of anomalies detected:\", (y_pred == -1).sum())\n",
    "\n",
    "iso_forest_predict = np.where(y_pred == -1, 1, 0)\n",
    "\n",
    "accuracy = accuracy_score(y_test, iso_forest_predict)\n",
    "print(\"Accuracy in separating Outliers:\", accuracy)\n",
    "\n",
    "unique_values, counts = np.unique(y_pred, return_counts=True)\n",
    "\n",
    "for value, count in zip(unique_values, counts):\n",
    "    print(f'Value: {value}, Count: {count}')\n"
   ]
  },
  {
   "cell_type": "code",
   "execution_count": null,
   "metadata": {},
   "outputs": [],
   "source": []
  }
 ],
 "metadata": {
  "colab": {
   "provenance": []
  },
  "kernelspec": {
   "display_name": "Python 3 (ipykernel)",
   "language": "python",
   "name": "python3"
  },
  "language_info": {
   "codemirror_mode": {
    "name": "ipython",
    "version": 3
   },
   "file_extension": ".py",
   "mimetype": "text/x-python",
   "name": "python",
   "nbconvert_exporter": "python",
   "pygments_lexer": "ipython3",
   "version": "3.7.9"
  }
 },
 "nbformat": 4,
 "nbformat_minor": 1
}
