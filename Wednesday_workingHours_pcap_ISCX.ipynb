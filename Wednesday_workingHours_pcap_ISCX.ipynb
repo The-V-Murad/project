{
 "cells": [
  {
   "cell_type": "code",
   "execution_count": null,
   "metadata": {
    "colab": {
     "base_uri": "https://localhost:8080/"
    },
    "id": "7bMRh7Xg5qPR",
    "outputId": "916828d9-0dea-4aea-d16e-6ea129aa0ec6"
   },
   "outputs": [
    {
     "name": "stdout",
     "output_type": "stream",
     "text": [
      "Archive:  /content/drive/MyDrive/archive (2).zip\n",
      "  inflating: Friday-WorkingHours-Afternoon-DDos.pcap_ISCX.csv  \n",
      "  inflating: Friday-WorkingHours-Afternoon-PortScan.pcap_ISCX.csv  \n",
      "  inflating: Friday-WorkingHours-Morning.pcap_ISCX.csv  \n",
      "  inflating: Monday-WorkingHours.pcap_ISCX.csv  \n",
      "  inflating: Thursday-WorkingHours-Afternoon-Infilteration.pcap_ISCX.csv  \n",
      "  inflating: Thursday-WorkingHours-Morning-WebAttacks.pcap_ISCX.csv  \n",
      "  inflating: Tuesday-WorkingHours.pcap_ISCX.csv  \n",
      "  inflating: Wednesday-workingHours.pcap_ISCX.csv  \n"
     ]
    }
   ],
   "source": [
    "!unzip '/content/drive/MyDrive/archive (2).zip'"
   ]
  },
  {
   "cell_type": "code",
   "execution_count": 1,
   "metadata": {
    "colab": {
     "base_uri": "https://localhost:8080/"
    },
    "id": "bOO5C8ij8LfJ",
    "outputId": "690fda58-e573-4562-839f-3e91097b1cd7"
   },
   "outputs": [
    {
     "name": "stdout",
     "output_type": "stream",
     "text": [
      "    Destination Port   Flow Duration   Total Fwd Packets  \\\n",
      "0                 80           38308                   1   \n",
      "1                389             479                  11   \n",
      "2                 88            1095                  10   \n",
      "3                389           15206                  17   \n",
      "4                 88            1092                   9   \n",
      "\n",
      "    Total Backward Packets  Total Length of Fwd Packets  \\\n",
      "0                        1                            6   \n",
      "1                        5                          172   \n",
      "2                        6                         3150   \n",
      "3                       12                         3452   \n",
      "4                        6                         3150   \n",
      "\n",
      "    Total Length of Bwd Packets   Fwd Packet Length Max  \\\n",
      "0                             6                       6   \n",
      "1                           326                      79   \n",
      "2                          3150                    1575   \n",
      "3                          6660                    1313   \n",
      "4                          3152                    1575   \n",
      "\n",
      "    Fwd Packet Length Min   Fwd Packet Length Mean   Fwd Packet Length Std  \\\n",
      "0                       6                 6.000000                0.000000   \n",
      "1                       0                15.636364               31.449238   \n",
      "2                       0               315.000000              632.561635   \n",
      "3                       0               203.058823              425.778474   \n",
      "4                       0               350.000000              694.509719   \n",
      "\n",
      "   ...   min_seg_size_forward  Active Mean   Active Std   Active Max  \\\n",
      "0  ...                     20          0.0          0.0            0   \n",
      "1  ...                     32          0.0          0.0            0   \n",
      "2  ...                     32          0.0          0.0            0   \n",
      "3  ...                     32          0.0          0.0            0   \n",
      "4  ...                     32          0.0          0.0            0   \n",
      "\n",
      "    Active Min  Idle Mean   Idle Std   Idle Max   Idle Min   Label  \n",
      "0            0        0.0        0.0          0          0  BENIGN  \n",
      "1            0        0.0        0.0          0          0  BENIGN  \n",
      "2            0        0.0        0.0          0          0  BENIGN  \n",
      "3            0        0.0        0.0          0          0  BENIGN  \n",
      "4            0        0.0        0.0          0          0  BENIGN  \n",
      "\n",
      "[5 rows x 79 columns]\n",
      "Index([' Destination Port', ' Flow Duration', ' Total Fwd Packets',\n",
      "       ' Total Backward Packets', 'Total Length of Fwd Packets',\n",
      "       ' Total Length of Bwd Packets', ' Fwd Packet Length Max',\n",
      "       ' Fwd Packet Length Min', ' Fwd Packet Length Mean',\n",
      "       ' Fwd Packet Length Std', 'Bwd Packet Length Max',\n",
      "       ' Bwd Packet Length Min', ' Bwd Packet Length Mean',\n",
      "       ' Bwd Packet Length Std', 'Flow Bytes/s', ' Flow Packets/s',\n",
      "       ' Flow IAT Mean', ' Flow IAT Std', ' Flow IAT Max', ' Flow IAT Min',\n",
      "       'Fwd IAT Total', ' Fwd IAT Mean', ' Fwd IAT Std', ' Fwd IAT Max',\n",
      "       ' Fwd IAT Min', 'Bwd IAT Total', ' Bwd IAT Mean', ' Bwd IAT Std',\n",
      "       ' Bwd IAT Max', ' Bwd IAT Min', 'Fwd PSH Flags', ' Bwd PSH Flags',\n",
      "       ' Fwd URG Flags', ' Bwd URG Flags', ' Fwd Header Length',\n",
      "       ' Bwd Header Length', 'Fwd Packets/s', ' Bwd Packets/s',\n",
      "       ' Min Packet Length', ' Max Packet Length', ' Packet Length Mean',\n",
      "       ' Packet Length Std', ' Packet Length Variance', 'FIN Flag Count',\n",
      "       ' SYN Flag Count', ' RST Flag Count', ' PSH Flag Count',\n",
      "       ' ACK Flag Count', ' URG Flag Count', ' CWE Flag Count',\n",
      "       ' ECE Flag Count', ' Down/Up Ratio', ' Average Packet Size',\n",
      "       ' Avg Fwd Segment Size', ' Avg Bwd Segment Size',\n",
      "       ' Fwd Header Length.1', 'Fwd Avg Bytes/Bulk', ' Fwd Avg Packets/Bulk',\n",
      "       ' Fwd Avg Bulk Rate', ' Bwd Avg Bytes/Bulk', ' Bwd Avg Packets/Bulk',\n",
      "       'Bwd Avg Bulk Rate', 'Subflow Fwd Packets', ' Subflow Fwd Bytes',\n",
      "       ' Subflow Bwd Packets', ' Subflow Bwd Bytes', 'Init_Win_bytes_forward',\n",
      "       ' Init_Win_bytes_backward', ' act_data_pkt_fwd',\n",
      "       ' min_seg_size_forward', 'Active Mean', ' Active Std', ' Active Max',\n",
      "       ' Active Min', 'Idle Mean', ' Idle Std', ' Idle Max', ' Idle Min',\n",
      "       ' Label'],\n",
      "      dtype='object')\n",
      "79\n"
     ]
    }
   ],
   "source": [
    "import pandas as pd\n",
    "from sklearn.preprocessing import StandardScaler\n",
    "import numpy as np\n",
    "from sklearn.model_selection import train_test_split\n",
    "\n",
    "\n",
    "# Load the dataset\n",
    "file_path = r'C:\\Users\\Valiyev Murad\\Desktop\\2017\\2017\\Wednesday-workingHours.pcap_ISCX.csv'\n",
    "data = pd.read_csv(file_path)\n",
    "\n",
    "# Display the first few rows and column names\n",
    "print(data.head())\n",
    "print(data.columns)\n",
    "print(len(data.columns))\n"
   ]
  },
  {
   "cell_type": "code",
   "execution_count": 2,
   "metadata": {
    "colab": {
     "base_uri": "https://localhost:8080/"
    },
    "id": "ONRYwTuy91FP",
    "outputId": "1003cd6e-6e16-4f20-e162-bb6792453d90"
   },
   "outputs": [
    {
     "name": "stdout",
     "output_type": "stream",
     "text": [
      "Index(['DestinationPort', 'FlowDuration', 'TotalFwdPackets',\n",
      "       'TotalBackwardPackets', 'TotalLengthofFwdPackets',\n",
      "       'TotalLengthofBwdPackets', 'FwdPacketLengthMax', 'FwdPacketLengthMin',\n",
      "       'FwdPacketLengthMean', 'FwdPacketLengthStd', 'BwdPacketLengthMax',\n",
      "       'BwdPacketLengthMin', 'BwdPacketLengthMean', 'BwdPacketLengthStd',\n",
      "       'FlowBytes/s', 'FlowPackets/s', 'FlowIATMean', 'FlowIATStd',\n",
      "       'FlowIATMax', 'FlowIATMin', 'FwdIATTotal', 'FwdIATMean', 'FwdIATStd',\n",
      "       'FwdIATMax', 'FwdIATMin', 'BwdIATTotal', 'BwdIATMean', 'BwdIATStd',\n",
      "       'BwdIATMax', 'BwdIATMin', 'FwdPSHFlags', 'BwdPSHFlags', 'FwdURGFlags',\n",
      "       'BwdURGFlags', 'FwdHeaderLength', 'BwdHeaderLength', 'FwdPackets/s',\n",
      "       'BwdPackets/s', 'MinPacketLength', 'MaxPacketLength',\n",
      "       'PacketLengthMean', 'PacketLengthStd', 'PacketLengthVariance',\n",
      "       'FINFlagCount', 'SYNFlagCount', 'RSTFlagCount', 'PSHFlagCount',\n",
      "       'ACKFlagCount', 'URGFlagCount', 'CWEFlagCount', 'ECEFlagCount',\n",
      "       'Down/UpRatio', 'AveragePacketSize', 'AvgFwdSegmentSize',\n",
      "       'AvgBwdSegmentSize', 'FwdHeaderLength.1', 'FwdAvgBytes/Bulk',\n",
      "       'FwdAvgPackets/Bulk', 'FwdAvgBulkRate', 'BwdAvgBytes/Bulk',\n",
      "       'BwdAvgPackets/Bulk', 'BwdAvgBulkRate', 'SubflowFwdPackets',\n",
      "       'SubflowFwdBytes', 'SubflowBwdPackets', 'SubflowBwdBytes',\n",
      "       'Init_Win_bytes_forward', 'Init_Win_bytes_backward', 'act_data_pkt_fwd',\n",
      "       'min_seg_size_forward', 'ActiveMean', 'ActiveStd', 'ActiveMax',\n",
      "       'ActiveMin', 'IdleMean', 'IdleStd', 'IdleMax', 'IdleMin', 'Label'],\n",
      "      dtype='object')\n"
     ]
    }
   ],
   "source": [
    "\n",
    "data.columns = data.columns.str.replace(' ', '')\n",
    "\n",
    "print(data.columns)\n"
   ]
  },
  {
   "cell_type": "code",
   "execution_count": 3,
   "metadata": {
    "colab": {
     "base_uri": "https://localhost:8080/"
    },
    "id": "jMyaY7EdBQe9",
    "outputId": "2070f486-2bbc-484f-80cf-3ecd17f9516b"
   },
   "outputs": [
    {
     "name": "stdout",
     "output_type": "stream",
     "text": [
      "<class 'pandas.core.frame.DataFrame'>\n",
      "RangeIndex: 692703 entries, 0 to 692702\n",
      "Data columns (total 79 columns):\n",
      " #   Column                   Non-Null Count   Dtype  \n",
      "---  ------                   --------------   -----  \n",
      " 0   DestinationPort          692703 non-null  int64  \n",
      " 1   FlowDuration             692703 non-null  int64  \n",
      " 2   TotalFwdPackets          692703 non-null  int64  \n",
      " 3   TotalBackwardPackets     692703 non-null  int64  \n",
      " 4   TotalLengthofFwdPackets  692703 non-null  int64  \n",
      " 5   TotalLengthofBwdPackets  692703 non-null  int64  \n",
      " 6   FwdPacketLengthMax       692703 non-null  int64  \n",
      " 7   FwdPacketLengthMin       692703 non-null  int64  \n",
      " 8   FwdPacketLengthMean      692703 non-null  float64\n",
      " 9   FwdPacketLengthStd       692703 non-null  float64\n",
      " 10  BwdPacketLengthMax       692703 non-null  int64  \n",
      " 11  BwdPacketLengthMin       692703 non-null  int64  \n",
      " 12  BwdPacketLengthMean      692703 non-null  float64\n",
      " 13  BwdPacketLengthStd       692703 non-null  float64\n",
      " 14  FlowBytes/s              691695 non-null  float64\n",
      " 15  FlowPackets/s            692703 non-null  float64\n",
      " 16  FlowIATMean              692703 non-null  float64\n",
      " 17  FlowIATStd               692703 non-null  float64\n",
      " 18  FlowIATMax               692703 non-null  int64  \n",
      " 19  FlowIATMin               692703 non-null  int64  \n",
      " 20  FwdIATTotal              692703 non-null  int64  \n",
      " 21  FwdIATMean               692703 non-null  float64\n",
      " 22  FwdIATStd                692703 non-null  float64\n",
      " 23  FwdIATMax                692703 non-null  int64  \n",
      " 24  FwdIATMin                692703 non-null  int64  \n",
      " 25  BwdIATTotal              692703 non-null  int64  \n",
      " 26  BwdIATMean               692703 non-null  float64\n",
      " 27  BwdIATStd                692703 non-null  float64\n",
      " 28  BwdIATMax                692703 non-null  int64  \n",
      " 29  BwdIATMin                692703 non-null  int64  \n",
      " 30  FwdPSHFlags              692703 non-null  int64  \n",
      " 31  BwdPSHFlags              692703 non-null  int64  \n",
      " 32  FwdURGFlags              692703 non-null  int64  \n",
      " 33  BwdURGFlags              692703 non-null  int64  \n",
      " 34  FwdHeaderLength          692703 non-null  int64  \n",
      " 35  BwdHeaderLength          692703 non-null  int64  \n",
      " 36  FwdPackets/s             692703 non-null  float64\n",
      " 37  BwdPackets/s             692703 non-null  float64\n",
      " 38  MinPacketLength          692703 non-null  int64  \n",
      " 39  MaxPacketLength          692703 non-null  int64  \n",
      " 40  PacketLengthMean         692703 non-null  float64\n",
      " 41  PacketLengthStd          692703 non-null  float64\n",
      " 42  PacketLengthVariance     692703 non-null  float64\n",
      " 43  FINFlagCount             692703 non-null  int64  \n",
      " 44  SYNFlagCount             692703 non-null  int64  \n",
      " 45  RSTFlagCount             692703 non-null  int64  \n",
      " 46  PSHFlagCount             692703 non-null  int64  \n",
      " 47  ACKFlagCount             692703 non-null  int64  \n",
      " 48  URGFlagCount             692703 non-null  int64  \n",
      " 49  CWEFlagCount             692703 non-null  int64  \n",
      " 50  ECEFlagCount             692703 non-null  int64  \n",
      " 51  Down/UpRatio             692703 non-null  int64  \n",
      " 52  AveragePacketSize        692703 non-null  float64\n",
      " 53  AvgFwdSegmentSize        692703 non-null  float64\n",
      " 54  AvgBwdSegmentSize        692703 non-null  float64\n",
      " 55  FwdHeaderLength.1        692703 non-null  int64  \n",
      " 56  FwdAvgBytes/Bulk         692703 non-null  int64  \n",
      " 57  FwdAvgPackets/Bulk       692703 non-null  int64  \n",
      " 58  FwdAvgBulkRate           692703 non-null  int64  \n",
      " 59  BwdAvgBytes/Bulk         692703 non-null  int64  \n",
      " 60  BwdAvgPackets/Bulk       692703 non-null  int64  \n",
      " 61  BwdAvgBulkRate           692703 non-null  int64  \n",
      " 62  SubflowFwdPackets        692703 non-null  int64  \n",
      " 63  SubflowFwdBytes          692703 non-null  int64  \n",
      " 64  SubflowBwdPackets        692703 non-null  int64  \n",
      " 65  SubflowBwdBytes          692703 non-null  int64  \n",
      " 66  Init_Win_bytes_forward   692703 non-null  int64  \n",
      " 67  Init_Win_bytes_backward  692703 non-null  int64  \n",
      " 68  act_data_pkt_fwd         692703 non-null  int64  \n",
      " 69  min_seg_size_forward     692703 non-null  int64  \n",
      " 70  ActiveMean               692703 non-null  float64\n",
      " 71  ActiveStd                692703 non-null  float64\n",
      " 72  ActiveMax                692703 non-null  int64  \n",
      " 73  ActiveMin                692703 non-null  int64  \n",
      " 74  IdleMean                 692703 non-null  float64\n",
      " 75  IdleStd                  692703 non-null  float64\n",
      " 76  IdleMax                  692703 non-null  int64  \n",
      " 77  IdleMin                  692703 non-null  int64  \n",
      " 78  Label                    692703 non-null  object \n",
      "dtypes: float64(24), int64(54), object(1)\n",
      "memory usage: 417.5+ MB\n"
     ]
    }
   ],
   "source": [
    "data.info()"
   ]
  },
  {
   "cell_type": "code",
   "execution_count": 4,
   "metadata": {
    "colab": {
     "base_uri": "https://localhost:8080/"
    },
    "id": "xhDIs3wHfM_q",
    "outputId": "3524ce0c-2b3c-4ffa-a2fe-48560ae2d884"
   },
   "outputs": [
    {
     "data": {
      "text/plain": [
       "6"
      ]
     },
     "execution_count": 4,
     "metadata": {},
     "output_type": "execute_result"
    }
   ],
   "source": [
    "data.Label.nunique()\n"
   ]
  },
  {
   "cell_type": "code",
   "execution_count": 5,
   "metadata": {
    "colab": {
     "base_uri": "https://localhost:8080/"
    },
    "id": "DeYOhoK0qytI",
    "outputId": "7c5ede35-e38f-43f7-bf5c-0987f69bd1db"
   },
   "outputs": [
    {
     "data": {
      "text/plain": [
       "array(['BENIGN', 'DoS slowloris', 'DoS Slowhttptest', 'DoS Hulk',\n",
       "       'DoS GoldenEye', 'Heartbleed'], dtype=object)"
      ]
     },
     "execution_count": 5,
     "metadata": {},
     "output_type": "execute_result"
    }
   ],
   "source": [
    "data.Label.unique()"
   ]
  },
  {
   "cell_type": "code",
   "execution_count": 6,
   "metadata": {
    "colab": {
     "base_uri": "https://localhost:8080/",
     "height": 303
    },
    "id": "hqbRDYSAq04d",
    "outputId": "0f7953b8-a1a2-4873-ba17-dba59e4891af"
   },
   "outputs": [
    {
     "data": {
      "text/plain": [
       "BENIGN              440031\n",
       "DoS Hulk            231073\n",
       "DoS GoldenEye        10293\n",
       "DoS slowloris         5796\n",
       "DoS Slowhttptest      5499\n",
       "Heartbleed              11\n",
       "Name: Label, dtype: int64"
      ]
     },
     "execution_count": 6,
     "metadata": {},
     "output_type": "execute_result"
    }
   ],
   "source": [
    "data.Label.value_counts()"
   ]
  },
  {
   "cell_type": "code",
   "execution_count": 7,
   "metadata": {
    "id": "KLnL-KlzwhaQ"
   },
   "outputs": [],
   "source": [
    "\n",
    "data['Label'] = data['Label'].apply(lambda x: 'ATTACK' if x != 'BENIGN' else x)\n"
   ]
  },
  {
   "cell_type": "code",
   "execution_count": 8,
   "metadata": {
    "colab": {
     "base_uri": "https://localhost:8080/"
    },
    "id": "T8w-zHQbfQgT",
    "outputId": "d39f0478-6da9-4c24-c7ec-08e231f6d68e"
   },
   "outputs": [
    {
     "data": {
      "text/plain": [
       "array(['BENIGN', 'ATTACK'], dtype=object)"
      ]
     },
     "execution_count": 8,
     "metadata": {},
     "output_type": "execute_result"
    }
   ],
   "source": [
    "data.Label.unique()"
   ]
  },
  {
   "cell_type": "code",
   "execution_count": 9,
   "metadata": {
    "colab": {
     "base_uri": "https://localhost:8080/",
     "height": 178
    },
    "id": "j5fQK9MyotBR",
    "outputId": "aeb24694-f009-4096-cf3a-660663c51821"
   },
   "outputs": [
    {
     "data": {
      "text/plain": [
       "BENIGN    440031\n",
       "ATTACK    252672\n",
       "Name: Label, dtype: int64"
      ]
     },
     "execution_count": 9,
     "metadata": {},
     "output_type": "execute_result"
    }
   ],
   "source": [
    "data.Label.value_counts()"
   ]
  },
  {
   "cell_type": "code",
   "execution_count": 10,
   "metadata": {
    "colab": {
     "base_uri": "https://localhost:8080/",
     "height": 255
    },
    "id": "dTbirRHynMFp",
    "outputId": "fe828892-c50b-4f77-df26-2e3534d6325b"
   },
   "outputs": [
    {
     "data": {
      "text/html": [
       "<div>\n",
       "<style scoped>\n",
       "    .dataframe tbody tr th:only-of-type {\n",
       "        vertical-align: middle;\n",
       "    }\n",
       "\n",
       "    .dataframe tbody tr th {\n",
       "        vertical-align: top;\n",
       "    }\n",
       "\n",
       "    .dataframe thead th {\n",
       "        text-align: right;\n",
       "    }\n",
       "</style>\n",
       "<table border=\"1\" class=\"dataframe\">\n",
       "  <thead>\n",
       "    <tr style=\"text-align: right;\">\n",
       "      <th></th>\n",
       "      <th>DestinationPort</th>\n",
       "      <th>FlowDuration</th>\n",
       "      <th>TotalFwdPackets</th>\n",
       "      <th>TotalBackwardPackets</th>\n",
       "      <th>TotalLengthofFwdPackets</th>\n",
       "      <th>TotalLengthofBwdPackets</th>\n",
       "      <th>FwdPacketLengthMax</th>\n",
       "      <th>FwdPacketLengthMin</th>\n",
       "      <th>FwdPacketLengthMean</th>\n",
       "      <th>FwdPacketLengthStd</th>\n",
       "      <th>...</th>\n",
       "      <th>min_seg_size_forward</th>\n",
       "      <th>ActiveMean</th>\n",
       "      <th>ActiveStd</th>\n",
       "      <th>ActiveMax</th>\n",
       "      <th>ActiveMin</th>\n",
       "      <th>IdleMean</th>\n",
       "      <th>IdleStd</th>\n",
       "      <th>IdleMax</th>\n",
       "      <th>IdleMin</th>\n",
       "      <th>Label</th>\n",
       "    </tr>\n",
       "  </thead>\n",
       "  <tbody>\n",
       "    <tr>\n",
       "      <th>0</th>\n",
       "      <td>80</td>\n",
       "      <td>38308</td>\n",
       "      <td>1</td>\n",
       "      <td>1</td>\n",
       "      <td>6</td>\n",
       "      <td>6</td>\n",
       "      <td>6</td>\n",
       "      <td>6</td>\n",
       "      <td>6.000000</td>\n",
       "      <td>0.000000</td>\n",
       "      <td>...</td>\n",
       "      <td>20</td>\n",
       "      <td>0.0</td>\n",
       "      <td>0.0</td>\n",
       "      <td>0</td>\n",
       "      <td>0</td>\n",
       "      <td>0.0</td>\n",
       "      <td>0.0</td>\n",
       "      <td>0</td>\n",
       "      <td>0</td>\n",
       "      <td>BENIGN</td>\n",
       "    </tr>\n",
       "    <tr>\n",
       "      <th>1</th>\n",
       "      <td>389</td>\n",
       "      <td>479</td>\n",
       "      <td>11</td>\n",
       "      <td>5</td>\n",
       "      <td>172</td>\n",
       "      <td>326</td>\n",
       "      <td>79</td>\n",
       "      <td>0</td>\n",
       "      <td>15.636364</td>\n",
       "      <td>31.449238</td>\n",
       "      <td>...</td>\n",
       "      <td>32</td>\n",
       "      <td>0.0</td>\n",
       "      <td>0.0</td>\n",
       "      <td>0</td>\n",
       "      <td>0</td>\n",
       "      <td>0.0</td>\n",
       "      <td>0.0</td>\n",
       "      <td>0</td>\n",
       "      <td>0</td>\n",
       "      <td>BENIGN</td>\n",
       "    </tr>\n",
       "    <tr>\n",
       "      <th>2</th>\n",
       "      <td>88</td>\n",
       "      <td>1095</td>\n",
       "      <td>10</td>\n",
       "      <td>6</td>\n",
       "      <td>3150</td>\n",
       "      <td>3150</td>\n",
       "      <td>1575</td>\n",
       "      <td>0</td>\n",
       "      <td>315.000000</td>\n",
       "      <td>632.561635</td>\n",
       "      <td>...</td>\n",
       "      <td>32</td>\n",
       "      <td>0.0</td>\n",
       "      <td>0.0</td>\n",
       "      <td>0</td>\n",
       "      <td>0</td>\n",
       "      <td>0.0</td>\n",
       "      <td>0.0</td>\n",
       "      <td>0</td>\n",
       "      <td>0</td>\n",
       "      <td>BENIGN</td>\n",
       "    </tr>\n",
       "    <tr>\n",
       "      <th>3</th>\n",
       "      <td>389</td>\n",
       "      <td>15206</td>\n",
       "      <td>17</td>\n",
       "      <td>12</td>\n",
       "      <td>3452</td>\n",
       "      <td>6660</td>\n",
       "      <td>1313</td>\n",
       "      <td>0</td>\n",
       "      <td>203.058823</td>\n",
       "      <td>425.778474</td>\n",
       "      <td>...</td>\n",
       "      <td>32</td>\n",
       "      <td>0.0</td>\n",
       "      <td>0.0</td>\n",
       "      <td>0</td>\n",
       "      <td>0</td>\n",
       "      <td>0.0</td>\n",
       "      <td>0.0</td>\n",
       "      <td>0</td>\n",
       "      <td>0</td>\n",
       "      <td>BENIGN</td>\n",
       "    </tr>\n",
       "    <tr>\n",
       "      <th>4</th>\n",
       "      <td>88</td>\n",
       "      <td>1092</td>\n",
       "      <td>9</td>\n",
       "      <td>6</td>\n",
       "      <td>3150</td>\n",
       "      <td>3152</td>\n",
       "      <td>1575</td>\n",
       "      <td>0</td>\n",
       "      <td>350.000000</td>\n",
       "      <td>694.509719</td>\n",
       "      <td>...</td>\n",
       "      <td>32</td>\n",
       "      <td>0.0</td>\n",
       "      <td>0.0</td>\n",
       "      <td>0</td>\n",
       "      <td>0</td>\n",
       "      <td>0.0</td>\n",
       "      <td>0.0</td>\n",
       "      <td>0</td>\n",
       "      <td>0</td>\n",
       "      <td>BENIGN</td>\n",
       "    </tr>\n",
       "  </tbody>\n",
       "</table>\n",
       "<p>5 rows × 79 columns</p>\n",
       "</div>"
      ],
      "text/plain": [
       "   DestinationPort  FlowDuration  TotalFwdPackets  TotalBackwardPackets  \\\n",
       "0               80         38308                1                     1   \n",
       "1              389           479               11                     5   \n",
       "2               88          1095               10                     6   \n",
       "3              389         15206               17                    12   \n",
       "4               88          1092                9                     6   \n",
       "\n",
       "   TotalLengthofFwdPackets  TotalLengthofBwdPackets  FwdPacketLengthMax  \\\n",
       "0                        6                        6                   6   \n",
       "1                      172                      326                  79   \n",
       "2                     3150                     3150                1575   \n",
       "3                     3452                     6660                1313   \n",
       "4                     3150                     3152                1575   \n",
       "\n",
       "   FwdPacketLengthMin  FwdPacketLengthMean  FwdPacketLengthStd  ...  \\\n",
       "0                   6             6.000000            0.000000  ...   \n",
       "1                   0            15.636364           31.449238  ...   \n",
       "2                   0           315.000000          632.561635  ...   \n",
       "3                   0           203.058823          425.778474  ...   \n",
       "4                   0           350.000000          694.509719  ...   \n",
       "\n",
       "   min_seg_size_forward  ActiveMean  ActiveStd  ActiveMax  ActiveMin  \\\n",
       "0                    20         0.0        0.0          0          0   \n",
       "1                    32         0.0        0.0          0          0   \n",
       "2                    32         0.0        0.0          0          0   \n",
       "3                    32         0.0        0.0          0          0   \n",
       "4                    32         0.0        0.0          0          0   \n",
       "\n",
       "   IdleMean  IdleStd  IdleMax  IdleMin   Label  \n",
       "0       0.0      0.0        0        0  BENIGN  \n",
       "1       0.0      0.0        0        0  BENIGN  \n",
       "2       0.0      0.0        0        0  BENIGN  \n",
       "3       0.0      0.0        0        0  BENIGN  \n",
       "4       0.0      0.0        0        0  BENIGN  \n",
       "\n",
       "[5 rows x 79 columns]"
      ]
     },
     "execution_count": 10,
     "metadata": {},
     "output_type": "execute_result"
    }
   ],
   "source": [
    "data.head()\n"
   ]
  },
  {
   "cell_type": "code",
   "execution_count": 11,
   "metadata": {
    "id": "7N2dM5OWq-lC"
   },
   "outputs": [],
   "source": [
    "#limiting BENIGN data and ATTACK data to 110000 considering processing power\n",
    "benign_samples = data[data['Label'] == 'BENIGN'].sample(n=110000, random_state=42)\n",
    "malicious_samples = data[data['Label'] == 'ATTACK'].sample(n=110000, random_state=42)\n",
    "\n",
    "data = pd.concat([benign_samples, malicious_samples])\n",
    "\n",
    "# Shuffle the data\n",
    "data = data.sample(frac=1, random_state=42).reset_index(drop=True)"
   ]
  },
  {
   "cell_type": "code",
   "execution_count": 12,
   "metadata": {
    "colab": {
     "base_uri": "https://localhost:8080/",
     "height": 255
    },
    "id": "hIET0APprgC4",
    "outputId": "911c8b26-0433-467e-fa76-11b0fa9f6383"
   },
   "outputs": [
    {
     "data": {
      "text/html": [
       "<div>\n",
       "<style scoped>\n",
       "    .dataframe tbody tr th:only-of-type {\n",
       "        vertical-align: middle;\n",
       "    }\n",
       "\n",
       "    .dataframe tbody tr th {\n",
       "        vertical-align: top;\n",
       "    }\n",
       "\n",
       "    .dataframe thead th {\n",
       "        text-align: right;\n",
       "    }\n",
       "</style>\n",
       "<table border=\"1\" class=\"dataframe\">\n",
       "  <thead>\n",
       "    <tr style=\"text-align: right;\">\n",
       "      <th></th>\n",
       "      <th>DestinationPort</th>\n",
       "      <th>FlowDuration</th>\n",
       "      <th>TotalFwdPackets</th>\n",
       "      <th>TotalBackwardPackets</th>\n",
       "      <th>TotalLengthofFwdPackets</th>\n",
       "      <th>TotalLengthofBwdPackets</th>\n",
       "      <th>FwdPacketLengthMax</th>\n",
       "      <th>FwdPacketLengthMin</th>\n",
       "      <th>FwdPacketLengthMean</th>\n",
       "      <th>FwdPacketLengthStd</th>\n",
       "      <th>...</th>\n",
       "      <th>min_seg_size_forward</th>\n",
       "      <th>ActiveMean</th>\n",
       "      <th>ActiveStd</th>\n",
       "      <th>ActiveMax</th>\n",
       "      <th>ActiveMin</th>\n",
       "      <th>IdleMean</th>\n",
       "      <th>IdleStd</th>\n",
       "      <th>IdleMax</th>\n",
       "      <th>IdleMin</th>\n",
       "      <th>Label</th>\n",
       "    </tr>\n",
       "  </thead>\n",
       "  <tbody>\n",
       "    <tr>\n",
       "      <th>0</th>\n",
       "      <td>80</td>\n",
       "      <td>98731779</td>\n",
       "      <td>9</td>\n",
       "      <td>6</td>\n",
       "      <td>412</td>\n",
       "      <td>11595</td>\n",
       "      <td>412</td>\n",
       "      <td>0</td>\n",
       "      <td>45.777778</td>\n",
       "      <td>137.333333</td>\n",
       "      <td>...</td>\n",
       "      <td>32</td>\n",
       "      <td>2017.0</td>\n",
       "      <td>0.0</td>\n",
       "      <td>2017</td>\n",
       "      <td>2017</td>\n",
       "      <td>98700000.0</td>\n",
       "      <td>0.0</td>\n",
       "      <td>98700000</td>\n",
       "      <td>98700000</td>\n",
       "      <td>ATTACK</td>\n",
       "    </tr>\n",
       "    <tr>\n",
       "      <th>1</th>\n",
       "      <td>80</td>\n",
       "      <td>49</td>\n",
       "      <td>2</td>\n",
       "      <td>0</td>\n",
       "      <td>0</td>\n",
       "      <td>0</td>\n",
       "      <td>0</td>\n",
       "      <td>0</td>\n",
       "      <td>0.000000</td>\n",
       "      <td>0.000000</td>\n",
       "      <td>...</td>\n",
       "      <td>32</td>\n",
       "      <td>0.0</td>\n",
       "      <td>0.0</td>\n",
       "      <td>0</td>\n",
       "      <td>0</td>\n",
       "      <td>0.0</td>\n",
       "      <td>0.0</td>\n",
       "      <td>0</td>\n",
       "      <td>0</td>\n",
       "      <td>ATTACK</td>\n",
       "    </tr>\n",
       "    <tr>\n",
       "      <th>2</th>\n",
       "      <td>53</td>\n",
       "      <td>78872</td>\n",
       "      <td>1</td>\n",
       "      <td>1</td>\n",
       "      <td>47</td>\n",
       "      <td>98</td>\n",
       "      <td>47</td>\n",
       "      <td>47</td>\n",
       "      <td>47.000000</td>\n",
       "      <td>0.000000</td>\n",
       "      <td>...</td>\n",
       "      <td>32</td>\n",
       "      <td>0.0</td>\n",
       "      <td>0.0</td>\n",
       "      <td>0</td>\n",
       "      <td>0</td>\n",
       "      <td>0.0</td>\n",
       "      <td>0.0</td>\n",
       "      <td>0</td>\n",
       "      <td>0</td>\n",
       "      <td>BENIGN</td>\n",
       "    </tr>\n",
       "    <tr>\n",
       "      <th>3</th>\n",
       "      <td>80</td>\n",
       "      <td>4</td>\n",
       "      <td>2</td>\n",
       "      <td>0</td>\n",
       "      <td>0</td>\n",
       "      <td>0</td>\n",
       "      <td>0</td>\n",
       "      <td>0</td>\n",
       "      <td>0.000000</td>\n",
       "      <td>0.000000</td>\n",
       "      <td>...</td>\n",
       "      <td>32</td>\n",
       "      <td>0.0</td>\n",
       "      <td>0.0</td>\n",
       "      <td>0</td>\n",
       "      <td>0</td>\n",
       "      <td>0.0</td>\n",
       "      <td>0.0</td>\n",
       "      <td>0</td>\n",
       "      <td>0</td>\n",
       "      <td>ATTACK</td>\n",
       "    </tr>\n",
       "    <tr>\n",
       "      <th>4</th>\n",
       "      <td>53</td>\n",
       "      <td>30770</td>\n",
       "      <td>1</td>\n",
       "      <td>1</td>\n",
       "      <td>48</td>\n",
       "      <td>108</td>\n",
       "      <td>48</td>\n",
       "      <td>48</td>\n",
       "      <td>48.000000</td>\n",
       "      <td>0.000000</td>\n",
       "      <td>...</td>\n",
       "      <td>32</td>\n",
       "      <td>0.0</td>\n",
       "      <td>0.0</td>\n",
       "      <td>0</td>\n",
       "      <td>0</td>\n",
       "      <td>0.0</td>\n",
       "      <td>0.0</td>\n",
       "      <td>0</td>\n",
       "      <td>0</td>\n",
       "      <td>BENIGN</td>\n",
       "    </tr>\n",
       "  </tbody>\n",
       "</table>\n",
       "<p>5 rows × 79 columns</p>\n",
       "</div>"
      ],
      "text/plain": [
       "   DestinationPort  FlowDuration  TotalFwdPackets  TotalBackwardPackets  \\\n",
       "0               80      98731779                9                     6   \n",
       "1               80            49                2                     0   \n",
       "2               53         78872                1                     1   \n",
       "3               80             4                2                     0   \n",
       "4               53         30770                1                     1   \n",
       "\n",
       "   TotalLengthofFwdPackets  TotalLengthofBwdPackets  FwdPacketLengthMax  \\\n",
       "0                      412                    11595                 412   \n",
       "1                        0                        0                   0   \n",
       "2                       47                       98                  47   \n",
       "3                        0                        0                   0   \n",
       "4                       48                      108                  48   \n",
       "\n",
       "   FwdPacketLengthMin  FwdPacketLengthMean  FwdPacketLengthStd  ...  \\\n",
       "0                   0            45.777778          137.333333  ...   \n",
       "1                   0             0.000000            0.000000  ...   \n",
       "2                  47            47.000000            0.000000  ...   \n",
       "3                   0             0.000000            0.000000  ...   \n",
       "4                  48            48.000000            0.000000  ...   \n",
       "\n",
       "   min_seg_size_forward  ActiveMean  ActiveStd  ActiveMax  ActiveMin  \\\n",
       "0                    32      2017.0        0.0       2017       2017   \n",
       "1                    32         0.0        0.0          0          0   \n",
       "2                    32         0.0        0.0          0          0   \n",
       "3                    32         0.0        0.0          0          0   \n",
       "4                    32         0.0        0.0          0          0   \n",
       "\n",
       "     IdleMean  IdleStd   IdleMax   IdleMin   Label  \n",
       "0  98700000.0      0.0  98700000  98700000  ATTACK  \n",
       "1         0.0      0.0         0         0  ATTACK  \n",
       "2         0.0      0.0         0         0  BENIGN  \n",
       "3         0.0      0.0         0         0  ATTACK  \n",
       "4         0.0      0.0         0         0  BENIGN  \n",
       "\n",
       "[5 rows x 79 columns]"
      ]
     },
     "execution_count": 12,
     "metadata": {},
     "output_type": "execute_result"
    }
   ],
   "source": [
    "data.head()"
   ]
  },
  {
   "cell_type": "code",
   "execution_count": 13,
   "metadata": {
    "colab": {
     "base_uri": "https://localhost:8080/",
     "height": 178
    },
    "id": "dYsjiwLDrh7J",
    "outputId": "ac74bc52-886f-4b57-cc88-e73568d87525"
   },
   "outputs": [
    {
     "data": {
      "text/plain": [
       "ATTACK    110000\n",
       "BENIGN    110000\n",
       "Name: Label, dtype: int64"
      ]
     },
     "execution_count": 13,
     "metadata": {},
     "output_type": "execute_result"
    }
   ],
   "source": [
    "data.Label.value_counts()"
   ]
  },
  {
   "cell_type": "code",
   "execution_count": 14,
   "metadata": {
    "id": "f9HJD44E9BW_"
   },
   "outputs": [],
   "source": [
    "\n",
    "features = data.drop('Label', axis=1)\n",
    "labels = data['Label']"
   ]
  },
  {
   "cell_type": "code",
   "execution_count": 15,
   "metadata": {
    "id": "PnpTtnNzB9R_"
   },
   "outputs": [],
   "source": [
    "features.replace([np.inf, -np.inf], np.nan, inplace=True)\n",
    "features.dropna(inplace=True)"
   ]
  },
  {
   "cell_type": "code",
   "execution_count": 16,
   "metadata": {
    "id": "FeA5jyHc9XYd"
   },
   "outputs": [],
   "source": [
    "features = features.select_dtypes(include=[float, int])\n"
   ]
  },
  {
   "cell_type": "code",
   "execution_count": 17,
   "metadata": {
    "colab": {
     "base_uri": "https://localhost:8080/"
    },
    "id": "Eggxjn60-Iw6",
    "outputId": "b0d782b3-cad5-4542-bb3c-7af553fe0cb0"
   },
   "outputs": [
    {
     "data": {
      "text/plain": [
       "219533"
      ]
     },
     "execution_count": 17,
     "metadata": {},
     "output_type": "execute_result"
    }
   ],
   "source": [
    "len(features)"
   ]
  },
  {
   "cell_type": "code",
   "execution_count": 18,
   "metadata": {
    "colab": {
     "base_uri": "https://localhost:8080/",
     "height": 443
    },
    "id": "0U_dvoq__RK3",
    "outputId": "ddc2f6c6-7b46-426a-f27e-fdc8ed93f03e"
   },
   "outputs": [
    {
     "data": {
      "text/html": [
       "<div>\n",
       "<style scoped>\n",
       "    .dataframe tbody tr th:only-of-type {\n",
       "        vertical-align: middle;\n",
       "    }\n",
       "\n",
       "    .dataframe tbody tr th {\n",
       "        vertical-align: top;\n",
       "    }\n",
       "\n",
       "    .dataframe thead th {\n",
       "        text-align: right;\n",
       "    }\n",
       "</style>\n",
       "<table border=\"1\" class=\"dataframe\">\n",
       "  <thead>\n",
       "    <tr style=\"text-align: right;\">\n",
       "      <th></th>\n",
       "      <th>DestinationPort</th>\n",
       "      <th>FlowDuration</th>\n",
       "      <th>TotalFwdPackets</th>\n",
       "      <th>TotalBackwardPackets</th>\n",
       "      <th>TotalLengthofFwdPackets</th>\n",
       "      <th>TotalLengthofBwdPackets</th>\n",
       "      <th>FwdPacketLengthMax</th>\n",
       "      <th>FwdPacketLengthMin</th>\n",
       "      <th>FwdPacketLengthMean</th>\n",
       "      <th>FwdPacketLengthStd</th>\n",
       "      <th>...</th>\n",
       "      <th>act_data_pkt_fwd</th>\n",
       "      <th>min_seg_size_forward</th>\n",
       "      <th>ActiveMean</th>\n",
       "      <th>ActiveStd</th>\n",
       "      <th>ActiveMax</th>\n",
       "      <th>ActiveMin</th>\n",
       "      <th>IdleMean</th>\n",
       "      <th>IdleStd</th>\n",
       "      <th>IdleMax</th>\n",
       "      <th>IdleMin</th>\n",
       "    </tr>\n",
       "  </thead>\n",
       "  <tbody>\n",
       "    <tr>\n",
       "      <th>0</th>\n",
       "      <td>80</td>\n",
       "      <td>98731779</td>\n",
       "      <td>9</td>\n",
       "      <td>6</td>\n",
       "      <td>412</td>\n",
       "      <td>11595</td>\n",
       "      <td>412</td>\n",
       "      <td>0</td>\n",
       "      <td>45.777778</td>\n",
       "      <td>137.333333</td>\n",
       "      <td>...</td>\n",
       "      <td>1</td>\n",
       "      <td>32</td>\n",
       "      <td>2017.0</td>\n",
       "      <td>0.0</td>\n",
       "      <td>2017</td>\n",
       "      <td>2017</td>\n",
       "      <td>98700000.0</td>\n",
       "      <td>0.0</td>\n",
       "      <td>98700000</td>\n",
       "      <td>98700000</td>\n",
       "    </tr>\n",
       "    <tr>\n",
       "      <th>1</th>\n",
       "      <td>80</td>\n",
       "      <td>49</td>\n",
       "      <td>2</td>\n",
       "      <td>0</td>\n",
       "      <td>0</td>\n",
       "      <td>0</td>\n",
       "      <td>0</td>\n",
       "      <td>0</td>\n",
       "      <td>0.000000</td>\n",
       "      <td>0.000000</td>\n",
       "      <td>...</td>\n",
       "      <td>0</td>\n",
       "      <td>32</td>\n",
       "      <td>0.0</td>\n",
       "      <td>0.0</td>\n",
       "      <td>0</td>\n",
       "      <td>0</td>\n",
       "      <td>0.0</td>\n",
       "      <td>0.0</td>\n",
       "      <td>0</td>\n",
       "      <td>0</td>\n",
       "    </tr>\n",
       "    <tr>\n",
       "      <th>2</th>\n",
       "      <td>53</td>\n",
       "      <td>78872</td>\n",
       "      <td>1</td>\n",
       "      <td>1</td>\n",
       "      <td>47</td>\n",
       "      <td>98</td>\n",
       "      <td>47</td>\n",
       "      <td>47</td>\n",
       "      <td>47.000000</td>\n",
       "      <td>0.000000</td>\n",
       "      <td>...</td>\n",
       "      <td>0</td>\n",
       "      <td>32</td>\n",
       "      <td>0.0</td>\n",
       "      <td>0.0</td>\n",
       "      <td>0</td>\n",
       "      <td>0</td>\n",
       "      <td>0.0</td>\n",
       "      <td>0.0</td>\n",
       "      <td>0</td>\n",
       "      <td>0</td>\n",
       "    </tr>\n",
       "    <tr>\n",
       "      <th>3</th>\n",
       "      <td>80</td>\n",
       "      <td>4</td>\n",
       "      <td>2</td>\n",
       "      <td>0</td>\n",
       "      <td>0</td>\n",
       "      <td>0</td>\n",
       "      <td>0</td>\n",
       "      <td>0</td>\n",
       "      <td>0.000000</td>\n",
       "      <td>0.000000</td>\n",
       "      <td>...</td>\n",
       "      <td>0</td>\n",
       "      <td>32</td>\n",
       "      <td>0.0</td>\n",
       "      <td>0.0</td>\n",
       "      <td>0</td>\n",
       "      <td>0</td>\n",
       "      <td>0.0</td>\n",
       "      <td>0.0</td>\n",
       "      <td>0</td>\n",
       "      <td>0</td>\n",
       "    </tr>\n",
       "    <tr>\n",
       "      <th>4</th>\n",
       "      <td>53</td>\n",
       "      <td>30770</td>\n",
       "      <td>1</td>\n",
       "      <td>1</td>\n",
       "      <td>48</td>\n",
       "      <td>108</td>\n",
       "      <td>48</td>\n",
       "      <td>48</td>\n",
       "      <td>48.000000</td>\n",
       "      <td>0.000000</td>\n",
       "      <td>...</td>\n",
       "      <td>0</td>\n",
       "      <td>32</td>\n",
       "      <td>0.0</td>\n",
       "      <td>0.0</td>\n",
       "      <td>0</td>\n",
       "      <td>0</td>\n",
       "      <td>0.0</td>\n",
       "      <td>0.0</td>\n",
       "      <td>0</td>\n",
       "      <td>0</td>\n",
       "    </tr>\n",
       "    <tr>\n",
       "      <th>...</th>\n",
       "      <td>...</td>\n",
       "      <td>...</td>\n",
       "      <td>...</td>\n",
       "      <td>...</td>\n",
       "      <td>...</td>\n",
       "      <td>...</td>\n",
       "      <td>...</td>\n",
       "      <td>...</td>\n",
       "      <td>...</td>\n",
       "      <td>...</td>\n",
       "      <td>...</td>\n",
       "      <td>...</td>\n",
       "      <td>...</td>\n",
       "      <td>...</td>\n",
       "      <td>...</td>\n",
       "      <td>...</td>\n",
       "      <td>...</td>\n",
       "      <td>...</td>\n",
       "      <td>...</td>\n",
       "      <td>...</td>\n",
       "      <td>...</td>\n",
       "    </tr>\n",
       "    <tr>\n",
       "      <th>219995</th>\n",
       "      <td>80</td>\n",
       "      <td>4</td>\n",
       "      <td>2</td>\n",
       "      <td>0</td>\n",
       "      <td>0</td>\n",
       "      <td>0</td>\n",
       "      <td>0</td>\n",
       "      <td>0</td>\n",
       "      <td>0.000000</td>\n",
       "      <td>0.000000</td>\n",
       "      <td>...</td>\n",
       "      <td>0</td>\n",
       "      <td>32</td>\n",
       "      <td>0.0</td>\n",
       "      <td>0.0</td>\n",
       "      <td>0</td>\n",
       "      <td>0</td>\n",
       "      <td>0.0</td>\n",
       "      <td>0.0</td>\n",
       "      <td>0</td>\n",
       "      <td>0</td>\n",
       "    </tr>\n",
       "    <tr>\n",
       "      <th>219996</th>\n",
       "      <td>53</td>\n",
       "      <td>61042</td>\n",
       "      <td>1</td>\n",
       "      <td>1</td>\n",
       "      <td>42</td>\n",
       "      <td>385</td>\n",
       "      <td>42</td>\n",
       "      <td>42</td>\n",
       "      <td>42.000000</td>\n",
       "      <td>0.000000</td>\n",
       "      <td>...</td>\n",
       "      <td>0</td>\n",
       "      <td>32</td>\n",
       "      <td>0.0</td>\n",
       "      <td>0.0</td>\n",
       "      <td>0</td>\n",
       "      <td>0</td>\n",
       "      <td>0.0</td>\n",
       "      <td>0.0</td>\n",
       "      <td>0</td>\n",
       "      <td>0</td>\n",
       "    </tr>\n",
       "    <tr>\n",
       "      <th>219997</th>\n",
       "      <td>80</td>\n",
       "      <td>5</td>\n",
       "      <td>2</td>\n",
       "      <td>0</td>\n",
       "      <td>0</td>\n",
       "      <td>0</td>\n",
       "      <td>0</td>\n",
       "      <td>0</td>\n",
       "      <td>0.000000</td>\n",
       "      <td>0.000000</td>\n",
       "      <td>...</td>\n",
       "      <td>0</td>\n",
       "      <td>32</td>\n",
       "      <td>0.0</td>\n",
       "      <td>0.0</td>\n",
       "      <td>0</td>\n",
       "      <td>0</td>\n",
       "      <td>0.0</td>\n",
       "      <td>0.0</td>\n",
       "      <td>0</td>\n",
       "      <td>0</td>\n",
       "    </tr>\n",
       "    <tr>\n",
       "      <th>219998</th>\n",
       "      <td>80</td>\n",
       "      <td>1</td>\n",
       "      <td>2</td>\n",
       "      <td>0</td>\n",
       "      <td>0</td>\n",
       "      <td>0</td>\n",
       "      <td>0</td>\n",
       "      <td>0</td>\n",
       "      <td>0.000000</td>\n",
       "      <td>0.000000</td>\n",
       "      <td>...</td>\n",
       "      <td>0</td>\n",
       "      <td>32</td>\n",
       "      <td>0.0</td>\n",
       "      <td>0.0</td>\n",
       "      <td>0</td>\n",
       "      <td>0</td>\n",
       "      <td>0.0</td>\n",
       "      <td>0.0</td>\n",
       "      <td>0</td>\n",
       "      <td>0</td>\n",
       "    </tr>\n",
       "    <tr>\n",
       "      <th>219999</th>\n",
       "      <td>80</td>\n",
       "      <td>100743659</td>\n",
       "      <td>5</td>\n",
       "      <td>7</td>\n",
       "      <td>378</td>\n",
       "      <td>11595</td>\n",
       "      <td>366</td>\n",
       "      <td>0</td>\n",
       "      <td>75.600000</td>\n",
       "      <td>162.366253</td>\n",
       "      <td>...</td>\n",
       "      <td>2</td>\n",
       "      <td>20</td>\n",
       "      <td>9995.0</td>\n",
       "      <td>0.0</td>\n",
       "      <td>9995</td>\n",
       "      <td>9995</td>\n",
       "      <td>101000000.0</td>\n",
       "      <td>0.0</td>\n",
       "      <td>101000000</td>\n",
       "      <td>101000000</td>\n",
       "    </tr>\n",
       "  </tbody>\n",
       "</table>\n",
       "<p>219533 rows × 78 columns</p>\n",
       "</div>"
      ],
      "text/plain": [
       "        DestinationPort  FlowDuration  TotalFwdPackets  TotalBackwardPackets  \\\n",
       "0                    80      98731779                9                     6   \n",
       "1                    80            49                2                     0   \n",
       "2                    53         78872                1                     1   \n",
       "3                    80             4                2                     0   \n",
       "4                    53         30770                1                     1   \n",
       "...                 ...           ...              ...                   ...   \n",
       "219995               80             4                2                     0   \n",
       "219996               53         61042                1                     1   \n",
       "219997               80             5                2                     0   \n",
       "219998               80             1                2                     0   \n",
       "219999               80     100743659                5                     7   \n",
       "\n",
       "        TotalLengthofFwdPackets  TotalLengthofBwdPackets  FwdPacketLengthMax  \\\n",
       "0                           412                    11595                 412   \n",
       "1                             0                        0                   0   \n",
       "2                            47                       98                  47   \n",
       "3                             0                        0                   0   \n",
       "4                            48                      108                  48   \n",
       "...                         ...                      ...                 ...   \n",
       "219995                        0                        0                   0   \n",
       "219996                       42                      385                  42   \n",
       "219997                        0                        0                   0   \n",
       "219998                        0                        0                   0   \n",
       "219999                      378                    11595                 366   \n",
       "\n",
       "        FwdPacketLengthMin  FwdPacketLengthMean  FwdPacketLengthStd  ...  \\\n",
       "0                        0            45.777778          137.333333  ...   \n",
       "1                        0             0.000000            0.000000  ...   \n",
       "2                       47            47.000000            0.000000  ...   \n",
       "3                        0             0.000000            0.000000  ...   \n",
       "4                       48            48.000000            0.000000  ...   \n",
       "...                    ...                  ...                 ...  ...   \n",
       "219995                   0             0.000000            0.000000  ...   \n",
       "219996                  42            42.000000            0.000000  ...   \n",
       "219997                   0             0.000000            0.000000  ...   \n",
       "219998                   0             0.000000            0.000000  ...   \n",
       "219999                   0            75.600000          162.366253  ...   \n",
       "\n",
       "        act_data_pkt_fwd  min_seg_size_forward  ActiveMean  ActiveStd  \\\n",
       "0                      1                    32      2017.0        0.0   \n",
       "1                      0                    32         0.0        0.0   \n",
       "2                      0                    32         0.0        0.0   \n",
       "3                      0                    32         0.0        0.0   \n",
       "4                      0                    32         0.0        0.0   \n",
       "...                  ...                   ...         ...        ...   \n",
       "219995                 0                    32         0.0        0.0   \n",
       "219996                 0                    32         0.0        0.0   \n",
       "219997                 0                    32         0.0        0.0   \n",
       "219998                 0                    32         0.0        0.0   \n",
       "219999                 2                    20      9995.0        0.0   \n",
       "\n",
       "        ActiveMax  ActiveMin     IdleMean  IdleStd    IdleMax    IdleMin  \n",
       "0            2017       2017   98700000.0      0.0   98700000   98700000  \n",
       "1               0          0          0.0      0.0          0          0  \n",
       "2               0          0          0.0      0.0          0          0  \n",
       "3               0          0          0.0      0.0          0          0  \n",
       "4               0          0          0.0      0.0          0          0  \n",
       "...           ...        ...          ...      ...        ...        ...  \n",
       "219995          0          0          0.0      0.0          0          0  \n",
       "219996          0          0          0.0      0.0          0          0  \n",
       "219997          0          0          0.0      0.0          0          0  \n",
       "219998          0          0          0.0      0.0          0          0  \n",
       "219999       9995       9995  101000000.0      0.0  101000000  101000000  \n",
       "\n",
       "[219533 rows x 78 columns]"
      ]
     },
     "execution_count": 18,
     "metadata": {},
     "output_type": "execute_result"
    }
   ],
   "source": [
    "features"
   ]
  },
  {
   "cell_type": "code",
   "execution_count": 19,
   "metadata": {
    "id": "8IHb5gFQ_Yfb"
   },
   "outputs": [],
   "source": [
    "scaler = StandardScaler()\n",
    "features_scaled = scaler.fit_transform(features)"
   ]
  },
  {
   "cell_type": "code",
   "execution_count": 20,
   "metadata": {
    "id": "yjcYXYO8Aq2Q"
   },
   "outputs": [],
   "source": [
    "from sklearn.preprocessing import LabelEncoder\n",
    "\n",
    "label_encoder = LabelEncoder()\n",
    "y_encoded = label_encoder.fit_transform(labels)"
   ]
  },
  {
   "cell_type": "code",
   "execution_count": 21,
   "metadata": {
    "colab": {
     "base_uri": "https://localhost:8080/"
    },
    "id": "fdW2E6O6fhVo",
    "outputId": "56d9fef5-cebe-4ae2-c31f-183cc254266e"
   },
   "outputs": [
    {
     "data": {
      "text/plain": [
       "175999"
      ]
     },
     "execution_count": 21,
     "metadata": {},
     "output_type": "execute_result"
    }
   ],
   "source": [
    "round(data.shape[0]*80/100)-1"
   ]
  },
  {
   "cell_type": "code",
   "execution_count": 22,
   "metadata": {
    "colab": {
     "base_uri": "https://localhost:8080/"
    },
    "id": "qRi9l4bVkKwd",
    "outputId": "f8c8a166-bfda-4a6d-9ffd-ad053ae94da3"
   },
   "outputs": [
    {
     "name": "stdout",
     "output_type": "stream",
     "text": [
      "Number of missing values in y_encoded: 0\n"
     ]
    }
   ],
   "source": [
    "missing_labels = np.isnan(y_encoded).sum()\n",
    "print(f\"Number of missing values in y_encoded: {missing_labels}\")"
   ]
  },
  {
   "cell_type": "code",
   "execution_count": 23,
   "metadata": {
    "colab": {
     "base_uri": "https://localhost:8080/"
    },
    "id": "_Kvrd6RtEvJw",
    "outputId": "c9c729b5-f465-4802-d7d2-f681ed3d6273"
   },
   "outputs": [
    {
     "name": "stdout",
     "output_type": "stream",
     "text": [
      "Length of X_train: 176000\n",
      "Length of y_train: 176000\n",
      "Length of X_test: 43533\n",
      "Length of y_test: 44000\n",
      "Final Length of X_test: 43533\n",
      "Final Length of y_test: 43533\n"
     ]
    }
   ],
   "source": [
    "train_size = round(len(y_encoded) * 0.8)\n",
    "\n",
    "X_train = features_scaled[:train_size]\n",
    "X_test = features_scaled[train_size:]\n",
    "y_train = y_encoded[:train_size]\n",
    "y_test = y_encoded[train_size:]\n",
    "\n",
    "print(f\"Length of X_train: {len(X_train)}\")\n",
    "print(f\"Length of y_train: {len(y_train)}\")\n",
    "print(f\"Length of X_test: {len(X_test)}\")\n",
    "print(f\"Length of y_test: {len(y_test)}\")\n",
    "\n",
    "min_len = min(len(X_test), len(y_test))\n",
    "X_test = X_test[:min_len]\n",
    "y_test = y_test[:min_len]\n",
    "\n",
    "print(f\"Final Length of X_test: {len(X_test)}\")\n",
    "print(f\"Final Length of y_test: {len(y_test)}\")\n",
    "\n"
   ]
  },
  {
   "cell_type": "markdown",
   "metadata": {
    "id": "8EfnUXp6sRLz"
   },
   "source": []
  },
  {
   "cell_type": "code",
   "execution_count": null,
   "metadata": {
    "colab": {
     "base_uri": "https://localhost:8080/"
    },
    "id": "G84LMpDeATRu",
    "outputId": "dae4fe95-9b6a-4484-eae1-9cc9b20e5e45"
   },
   "outputs": [
    {
     "name": "stdout",
     "output_type": "stream",
     "text": [
      "Number of anomalies detected: 465\n"
     ]
    }
   ],
   "source": [
    "from sklearn.svm import OneClassSVM\n",
    "from sklearn.metrics import classification_report\n",
    "\n",
    "ocsvm = OneClassSVM(kernel='rbf', nu=0.01, gamma='auto')\n",
    "ocsvm.fit(X_train)\n",
    "\n",
    "y_pred = ocsvm.predict(X_test)\n",
    "\n",
    "\n",
    "print(\"Number of anomalies detected:\", (y_pred == -1).sum())\n",
    "\n",
    "\n"
   ]
  },
  {
   "cell_type": "code",
   "execution_count": null,
   "metadata": {
    "colab": {
     "base_uri": "https://localhost:8080/"
    },
    "id": "50K4oJd6RcWD",
    "outputId": "b0ab1193-bab8-4b75-b31f-cfc3fb9ffe6f"
   },
   "outputs": [
    {
     "name": "stdout",
     "output_type": "stream",
     "text": [
      "Accuracy in separating Outliers: 0.989318448073875\n"
     ]
    }
   ],
   "source": [
    "from sklearn.metrics import accuracy_score\n",
    "\n",
    "# Convert One-Class SVM predictions to 0 and 1: -1 for outliers and 1 for inliers\n",
    "svm_predict = np.where(y_pred == -1, 1, 0)  # Replace -1 with 1 and 1 with 0\n",
    "\n",
    "# Convert true labels to 0 and 1 as well\n",
    "y_test_mapped = np.where(y_test == 'ATTACK', 1, 0)  # Replace 'DDoS' with 1 and 'BENIGN' with 0\n",
    "\n",
    "accuracy = accuracy_score(y_test_mapped, svm_predict)\n",
    "print(\"Accuracy in separating Outliers:\", accuracy)\n"
   ]
  },
  {
   "cell_type": "code",
   "execution_count": null,
   "metadata": {
    "colab": {
     "base_uri": "https://localhost:8080/"
    },
    "id": "RnWY_OtQW61D",
    "outputId": "20bf80ba-0b19-47c2-9916-9f8daa054987"
   },
   "outputs": [
    {
     "name": "stdout",
     "output_type": "stream",
     "text": [
      "Value: -1, Count: 465\n",
      "Value: 1, Count: 43068\n"
     ]
    }
   ],
   "source": [
    "\n",
    "y_pred = np.array(y_pred)\n",
    "\n",
    "# Get unique values and their counts\n",
    "unique_values, counts = np.unique(y_pred, return_counts=True)\n",
    "\n",
    "for value, count in zip(unique_values, counts):\n",
    "    print(f'Value: {value}, Count: {count}')\n"
   ]
  },
  {
   "cell_type": "code",
   "execution_count": null,
   "metadata": {
    "colab": {
     "base_uri": "https://localhost:8080/",
     "height": 564
    },
    "id": "yEvtP6JmAejS",
    "outputId": "975ce038-d1d9-4e71-d471-9729d65bf343"
   },
   "outputs": [
    {
     "data": {
      "image/png": "[encoded data removed]",
      "text/plain": [
       "<Figure size 1200x600 with 1 Axes>"
      ]
     },
     "metadata": {},
     "output_type": "display_data"
    }
   ],
   "source": [
    "import matplotlib.pyplot as plt\n",
    "\n",
    "plt.figure(figsize=(12, 6))\n",
    "\n",
    "plt.scatter(X_test[:, 0][y_pred == 1], X_test[:, 1][y_pred == 1], c='blue', label='Normal', s=10, alpha=0.6)\n",
    "\n",
    "plt.scatter(X_test[:, 0][y_pred == -1], X_test[:, 1][y_pred == -1], c='red', label='Anomaly', s=10, alpha=0.6)\n",
    "\n",
    "plt.xlabel('Feature 1')\n",
    "plt.ylabel('Feature 2')\n",
    "plt.title('Detected Anomalies and Normal Points')\n",
    "plt.legend()\n",
    "plt.grid(True)\n",
    "plt.show()\n"
   ]
  },
  {
   "cell_type": "code",
   "execution_count": 24,
   "metadata": {
    "id": "jm18VbaaDnL0"
   },
   "outputs": [
    {
     "name": "stdout",
     "output_type": "stream",
     "text": [
      "Number of anomalies detected: 470\n",
      "Accuracy in separating Outliers: 0.49739278248684904\n",
      "Value: -1, Count: 470\n",
      "Value: 1, Count: 43063\n"
     ]
    }
   ],
   "source": [
    "from sklearn.ensemble import IsolationForest\n",
    "from sklearn.metrics import accuracy_score, classification_report\n",
    "import numpy as np\n",
    "\n",
    "iso_forest = IsolationForest(n_estimators=100, contamination=0.01, random_state=42)\n",
    "iso_forest.fit(X_train)\n",
    "\n",
    "y_pred = iso_forest.predict(X_test)\n",
    "\n",
    "print(\"Number of anomalies detected:\", (y_pred == -1).sum())\n",
    "\n",
    "iso_forest_predict = np.where(y_pred == -1, 1, 0)\n",
    "\n",
    "accuracy = accuracy_score(y_test, iso_forest_predict)\n",
    "print(\"Accuracy in separating Outliers:\", accuracy)\n",
    "\n",
    "unique_values, counts = np.unique(y_pred, return_counts=True)\n",
    "\n",
    "for value, count in zip(unique_values, counts):\n",
    "    print(f'Value: {value}, Count: {count}')\n"
   ]
  },
  {
   "cell_type": "code",
   "execution_count": null,
   "metadata": {},
   "outputs": [],
   "source": []
  }
 ],
 "metadata": {
  "colab": {
   "provenance": []
  },
  "kernelspec": {
   "display_name": "Python 3 (ipykernel)",
   "language": "python",
   "name": "python3"
  },
  "language_info": {
   "codemirror_mode": {
    "name": "ipython",
    "version": 3
   },
   "file_extension": ".py",
   "mimetype": "text/x-python",
   "name": "python",
   "nbconvert_exporter": "python",
   "pygments_lexer": "ipython3",
   "version": "3.7.9"
  }
 },
 "nbformat": 4,
 "nbformat_minor": 1
}
