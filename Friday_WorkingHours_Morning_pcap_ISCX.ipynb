{
 "cells": [
  {
   "cell_type": "code",
   "execution_count": null,
   "metadata": {
    "colab": {
     "base_uri": "https://localhost:8080/"
    },
    "id": "7bMRh7Xg5qPR",
    "outputId": "6e32b9ba-ae79-4e46-96bc-0c13fd882f61"
   },
   "outputs": [],
   "source": []
  },
  {
   "cell_type": "code",
   "execution_count": 1,
   "metadata": {
    "colab": {
     "base_uri": "https://localhost:8080/"
    },
    "id": "bOO5C8ij8LfJ",
    "outputId": "b5092f79-5e4d-4c2b-b930-06db6fc3d65b"
   },
   "outputs": [
    {
     "name": "stdout",
     "output_type": "stream",
     "text": [
      "    Destination Port   Flow Duration   Total Fwd Packets  \\\n",
      "0               3268       112740690                  32   \n",
      "1                389       112740560                  32   \n",
      "2                  0       113757377                 545   \n",
      "3               5355          100126                  22   \n",
      "4                  0           54760                   4   \n",
      "\n",
      "    Total Backward Packets  Total Length of Fwd Packets  \\\n",
      "0                       16                         6448   \n",
      "1                       16                         6448   \n",
      "2                        0                            0   \n",
      "3                        0                          616   \n",
      "4                        0                            0   \n",
      "\n",
      "    Total Length of Bwd Packets   Fwd Packet Length Max  \\\n",
      "0                          1152                     403   \n",
      "1                          5056                     403   \n",
      "2                             0                       0   \n",
      "3                             0                      28   \n",
      "4                             0                       0   \n",
      "\n",
      "    Fwd Packet Length Min   Fwd Packet Length Mean   Fwd Packet Length Std  \\\n",
      "0                       0                    201.5              204.724205   \n",
      "1                       0                    201.5              204.724205   \n",
      "2                       0                      0.0                0.000000   \n",
      "3                      28                     28.0                0.000000   \n",
      "4                       0                      0.0                0.000000   \n",
      "\n",
      "   ...   min_seg_size_forward   Active Mean    Active Std   Active Max  \\\n",
      "0  ...                     32  3.594286e+02  1.199802e+01          380   \n",
      "1  ...                     32  3.202857e+02  1.574499e+01          330   \n",
      "2  ...                      0  9.361829e+06  7.324646e+06     18900000   \n",
      "3  ...                     32  0.000000e+00  0.000000e+00            0   \n",
      "4  ...                      0  0.000000e+00  0.000000e+00            0   \n",
      "\n",
      "    Active Min   Idle Mean      Idle Std   Idle Max   Idle Min   Label  \n",
      "0          343  16100000.0  4.988048e+05   16400000   15400000  BENIGN  \n",
      "1          285  16100000.0  4.987937e+05   16400000   15400000  BENIGN  \n",
      "2           19  12200000.0  6.935824e+06   20800000    5504997  BENIGN  \n",
      "3            0         0.0  0.000000e+00          0          0  BENIGN  \n",
      "4            0         0.0  0.000000e+00          0          0  BENIGN  \n",
      "\n",
      "[5 rows x 79 columns]\n",
      "Index([' Destination Port', ' Flow Duration', ' Total Fwd Packets',\n",
      "       ' Total Backward Packets', 'Total Length of Fwd Packets',\n",
      "       ' Total Length of Bwd Packets', ' Fwd Packet Length Max',\n",
      "       ' Fwd Packet Length Min', ' Fwd Packet Length Mean',\n",
      "       ' Fwd Packet Length Std', 'Bwd Packet Length Max',\n",
      "       ' Bwd Packet Length Min', ' Bwd Packet Length Mean',\n",
      "       ' Bwd Packet Length Std', 'Flow Bytes/s', ' Flow Packets/s',\n",
      "       ' Flow IAT Mean', ' Flow IAT Std', ' Flow IAT Max', ' Flow IAT Min',\n",
      "       'Fwd IAT Total', ' Fwd IAT Mean', ' Fwd IAT Std', ' Fwd IAT Max',\n",
      "       ' Fwd IAT Min', 'Bwd IAT Total', ' Bwd IAT Mean', ' Bwd IAT Std',\n",
      "       ' Bwd IAT Max', ' Bwd IAT Min', 'Fwd PSH Flags', ' Bwd PSH Flags',\n",
      "       ' Fwd URG Flags', ' Bwd URG Flags', ' Fwd Header Length',\n",
      "       ' Bwd Header Length', 'Fwd Packets/s', ' Bwd Packets/s',\n",
      "       ' Min Packet Length', ' Max Packet Length', ' Packet Length Mean',\n",
      "       ' Packet Length Std', ' Packet Length Variance', 'FIN Flag Count',\n",
      "       ' SYN Flag Count', ' RST Flag Count', ' PSH Flag Count',\n",
      "       ' ACK Flag Count', ' URG Flag Count', ' CWE Flag Count',\n",
      "       ' ECE Flag Count', ' Down/Up Ratio', ' Average Packet Size',\n",
      "       ' Avg Fwd Segment Size', ' Avg Bwd Segment Size',\n",
      "       ' Fwd Header Length.1', 'Fwd Avg Bytes/Bulk', ' Fwd Avg Packets/Bulk',\n",
      "       ' Fwd Avg Bulk Rate', ' Bwd Avg Bytes/Bulk', ' Bwd Avg Packets/Bulk',\n",
      "       'Bwd Avg Bulk Rate', 'Subflow Fwd Packets', ' Subflow Fwd Bytes',\n",
      "       ' Subflow Bwd Packets', ' Subflow Bwd Bytes', 'Init_Win_bytes_forward',\n",
      "       ' Init_Win_bytes_backward', ' act_data_pkt_fwd',\n",
      "       ' min_seg_size_forward', 'Active Mean', ' Active Std', ' Active Max',\n",
      "       ' Active Min', 'Idle Mean', ' Idle Std', ' Idle Max', ' Idle Min',\n",
      "       ' Label'],\n",
      "      dtype='object')\n",
      "79\n"
     ]
    }
   ],
   "source": [
    "import pandas as pd\n",
    "from sklearn.preprocessing import StandardScaler\n",
    "import numpy as np\n",
    "from sklearn.model_selection import train_test_split\n",
    "\n",
    "\n",
    "# Load the dataset\n",
    "file_path = '/content/drive/MyDrive/Friday-WorkingHours-Morning.pcap_ISCX.csv'\n",
    "data = pd.read_csv(file_path)\n",
    "\n",
    "# Display the first few rows and column names\n",
    "print(data.head())\n",
    "print(data.columns)\n",
    "print(len(data.columns))\n"
   ]
  },
  {
   "cell_type": "code",
   "execution_count": 2,
   "metadata": {
    "colab": {
     "base_uri": "https://localhost:8080/"
    },
    "id": "ONRYwTuy91FP",
    "outputId": "49821100-8082-4d49-9a2a-c9ae51a30171"
   },
   "outputs": [
    {
     "name": "stdout",
     "output_type": "stream",
     "text": [
      "Index(['DestinationPort', 'FlowDuration', 'TotalFwdPackets',\n",
      "       'TotalBackwardPackets', 'TotalLengthofFwdPackets',\n",
      "       'TotalLengthofBwdPackets', 'FwdPacketLengthMax', 'FwdPacketLengthMin',\n",
      "       'FwdPacketLengthMean', 'FwdPacketLengthStd', 'BwdPacketLengthMax',\n",
      "       'BwdPacketLengthMin', 'BwdPacketLengthMean', 'BwdPacketLengthStd',\n",
      "       'FlowBytes/s', 'FlowPackets/s', 'FlowIATMean', 'FlowIATStd',\n",
      "       'FlowIATMax', 'FlowIATMin', 'FwdIATTotal', 'FwdIATMean', 'FwdIATStd',\n",
      "       'FwdIATMax', 'FwdIATMin', 'BwdIATTotal', 'BwdIATMean', 'BwdIATStd',\n",
      "       'BwdIATMax', 'BwdIATMin', 'FwdPSHFlags', 'BwdPSHFlags', 'FwdURGFlags',\n",
      "       'BwdURGFlags', 'FwdHeaderLength', 'BwdHeaderLength', 'FwdPackets/s',\n",
      "       'BwdPackets/s', 'MinPacketLength', 'MaxPacketLength',\n",
      "       'PacketLengthMean', 'PacketLengthStd', 'PacketLengthVariance',\n",
      "       'FINFlagCount', 'SYNFlagCount', 'RSTFlagCount', 'PSHFlagCount',\n",
      "       'ACKFlagCount', 'URGFlagCount', 'CWEFlagCount', 'ECEFlagCount',\n",
      "       'Down/UpRatio', 'AveragePacketSize', 'AvgFwdSegmentSize',\n",
      "       'AvgBwdSegmentSize', 'FwdHeaderLength.1', 'FwdAvgBytes/Bulk',\n",
      "       'FwdAvgPackets/Bulk', 'FwdAvgBulkRate', 'BwdAvgBytes/Bulk',\n",
      "       'BwdAvgPackets/Bulk', 'BwdAvgBulkRate', 'SubflowFwdPackets',\n",
      "       'SubflowFwdBytes', 'SubflowBwdPackets', 'SubflowBwdBytes',\n",
      "       'Init_Win_bytes_forward', 'Init_Win_bytes_backward', 'act_data_pkt_fwd',\n",
      "       'min_seg_size_forward', 'ActiveMean', 'ActiveStd', 'ActiveMax',\n",
      "       'ActiveMin', 'IdleMean', 'IdleStd', 'IdleMax', 'IdleMin', 'Label'],\n",
      "      dtype='object')\n"
     ]
    }
   ],
   "source": [
    "\n",
    "data.columns = data.columns.str.replace(' ', '')\n",
    "\n",
    "print(data.columns)\n"
   ]
  },
  {
   "cell_type": "code",
   "execution_count": 3,
   "metadata": {
    "colab": {
     "base_uri": "https://localhost:8080/"
    },
    "id": "jMyaY7EdBQe9",
    "outputId": "476127cb-b5d0-40d0-9a58-8c995b03481e"
   },
   "outputs": [
    {
     "name": "stdout",
     "output_type": "stream",
     "text": [
      "<class 'pandas.core.frame.DataFrame'>\n",
      "RangeIndex: 191033 entries, 0 to 191032\n",
      "Data columns (total 79 columns):\n",
      " #   Column                   Non-Null Count   Dtype  \n",
      "---  ------                   --------------   -----  \n",
      " 0   DestinationPort          191033 non-null  int64  \n",
      " 1   FlowDuration             191033 non-null  int64  \n",
      " 2   TotalFwdPackets          191033 non-null  int64  \n",
      " 3   TotalBackwardPackets     191033 non-null  int64  \n",
      " 4   TotalLengthofFwdPackets  191033 non-null  int64  \n",
      " 5   TotalLengthofBwdPackets  191033 non-null  int64  \n",
      " 6   FwdPacketLengthMax       191033 non-null  int64  \n",
      " 7   FwdPacketLengthMin       191033 non-null  int64  \n",
      " 8   FwdPacketLengthMean      191033 non-null  float64\n",
      " 9   FwdPacketLengthStd       191033 non-null  float64\n",
      " 10  BwdPacketLengthMax       191033 non-null  int64  \n",
      " 11  BwdPacketLengthMin       191033 non-null  int64  \n",
      " 12  BwdPacketLengthMean      191033 non-null  float64\n",
      " 13  BwdPacketLengthStd       191033 non-null  float64\n",
      " 14  FlowBytes/s              191005 non-null  float64\n",
      " 15  FlowPackets/s            191033 non-null  float64\n",
      " 16  FlowIATMean              191033 non-null  float64\n",
      " 17  FlowIATStd               191033 non-null  float64\n",
      " 18  FlowIATMax               191033 non-null  int64  \n",
      " 19  FlowIATMin               191033 non-null  int64  \n",
      " 20  FwdIATTotal              191033 non-null  int64  \n",
      " 21  FwdIATMean               191033 non-null  float64\n",
      " 22  FwdIATStd                191033 non-null  float64\n",
      " 23  FwdIATMax                191033 non-null  int64  \n",
      " 24  FwdIATMin                191033 non-null  int64  \n",
      " 25  BwdIATTotal              191033 non-null  int64  \n",
      " 26  BwdIATMean               191033 non-null  float64\n",
      " 27  BwdIATStd                191033 non-null  float64\n",
      " 28  BwdIATMax                191033 non-null  int64  \n",
      " 29  BwdIATMin                191033 non-null  int64  \n",
      " 30  FwdPSHFlags              191033 non-null  int64  \n",
      " 31  BwdPSHFlags              191033 non-null  int64  \n",
      " 32  FwdURGFlags              191033 non-null  int64  \n",
      " 33  BwdURGFlags              191033 non-null  int64  \n",
      " 34  FwdHeaderLength          191033 non-null  int64  \n",
      " 35  BwdHeaderLength          191033 non-null  int64  \n",
      " 36  FwdPackets/s             191033 non-null  float64\n",
      " 37  BwdPackets/s             191033 non-null  float64\n",
      " 38  MinPacketLength          191033 non-null  int64  \n",
      " 39  MaxPacketLength          191033 non-null  int64  \n",
      " 40  PacketLengthMean         191033 non-null  float64\n",
      " 41  PacketLengthStd          191033 non-null  float64\n",
      " 42  PacketLengthVariance     191033 non-null  float64\n",
      " 43  FINFlagCount             191033 non-null  int64  \n",
      " 44  SYNFlagCount             191033 non-null  int64  \n",
      " 45  RSTFlagCount             191033 non-null  int64  \n",
      " 46  PSHFlagCount             191033 non-null  int64  \n",
      " 47  ACKFlagCount             191033 non-null  int64  \n",
      " 48  URGFlagCount             191033 non-null  int64  \n",
      " 49  CWEFlagCount             191033 non-null  int64  \n",
      " 50  ECEFlagCount             191033 non-null  int64  \n",
      " 51  Down/UpRatio             191033 non-null  int64  \n",
      " 52  AveragePacketSize        191033 non-null  float64\n",
      " 53  AvgFwdSegmentSize        191033 non-null  float64\n",
      " 54  AvgBwdSegmentSize        191033 non-null  float64\n",
      " 55  FwdHeaderLength.1        191033 non-null  int64  \n",
      " 56  FwdAvgBytes/Bulk         191033 non-null  int64  \n",
      " 57  FwdAvgPackets/Bulk       191033 non-null  int64  \n",
      " 58  FwdAvgBulkRate           191033 non-null  int64  \n",
      " 59  BwdAvgBytes/Bulk         191033 non-null  int64  \n",
      " 60  BwdAvgPackets/Bulk       191033 non-null  int64  \n",
      " 61  BwdAvgBulkRate           191033 non-null  int64  \n",
      " 62  SubflowFwdPackets        191033 non-null  int64  \n",
      " 63  SubflowFwdBytes          191033 non-null  int64  \n",
      " 64  SubflowBwdPackets        191033 non-null  int64  \n",
      " 65  SubflowBwdBytes          191033 non-null  int64  \n",
      " 66  Init_Win_bytes_forward   191033 non-null  int64  \n",
      " 67  Init_Win_bytes_backward  191033 non-null  int64  \n",
      " 68  act_data_pkt_fwd         191033 non-null  int64  \n",
      " 69  min_seg_size_forward     191033 non-null  int64  \n",
      " 70  ActiveMean               191033 non-null  float64\n",
      " 71  ActiveStd                191033 non-null  float64\n",
      " 72  ActiveMax                191033 non-null  int64  \n",
      " 73  ActiveMin                191033 non-null  int64  \n",
      " 74  IdleMean                 191033 non-null  float64\n",
      " 75  IdleStd                  191033 non-null  float64\n",
      " 76  IdleMax                  191033 non-null  int64  \n",
      " 77  IdleMin                  191033 non-null  int64  \n",
      " 78  Label                    191033 non-null  object \n",
      "dtypes: float64(24), int64(54), object(1)\n",
      "memory usage: 115.1+ MB\n"
     ]
    }
   ],
   "source": [
    "data.info()"
   ]
  },
  {
   "cell_type": "code",
   "execution_count": 4,
   "metadata": {
    "colab": {
     "base_uri": "https://localhost:8080/"
    },
    "id": "xhDIs3wHfM_q",
    "outputId": "a63aad21-bb01-44fa-8d6e-4c54ae7b2f30"
   },
   "outputs": [
    {
     "data": {
      "text/plain": [
       "2"
      ]
     },
     "execution_count": 4,
     "metadata": {},
     "output_type": "execute_result"
    }
   ],
   "source": [
    "data.Label.nunique()\n"
   ]
  },
  {
   "cell_type": "code",
   "execution_count": 5,
   "metadata": {
    "colab": {
     "base_uri": "https://localhost:8080/",
     "height": 178
    },
    "id": "T8w-zHQbfQgT",
    "outputId": "8fa71473-2afc-4044-e9c9-9d98567f8e2e"
   },
   "outputs": [
    {
     "data": {
      "text/plain": [
       "BENIGN    189067\n",
       "Bot         1966\n",
       "Name: Label, dtype: int64"
      ]
     },
     "execution_count": 5,
     "metadata": {},
     "output_type": "execute_result"
    }
   ],
   "source": [
    "data.Label.value_counts()"
   ]
  },
  {
   "cell_type": "code",
   "execution_count": 6,
   "metadata": {
    "id": "f9HJD44E9BW_"
   },
   "outputs": [],
   "source": [
    "\n",
    "\n",
    "# Separate features and labels\n",
    "features = data.drop('Label', axis=1)\n",
    "labels = data['Label']"
   ]
  },
  {
   "cell_type": "code",
   "execution_count": 7,
   "metadata": {
    "id": "PnpTtnNzB9R_"
   },
   "outputs": [],
   "source": [
    "features.replace([np.inf, -np.inf], np.nan, inplace=True)\n",
    "features.dropna(inplace=True)"
   ]
  },
  {
   "cell_type": "code",
   "execution_count": 8,
   "metadata": {
    "id": "FeA5jyHc9XYd"
   },
   "outputs": [],
   "source": [
    "features = features.select_dtypes(include=[float, int])\n"
   ]
  },
  {
   "cell_type": "code",
   "execution_count": 9,
   "metadata": {
    "colab": {
     "base_uri": "https://localhost:8080/"
    },
    "id": "Eggxjn60-Iw6",
    "outputId": "2476a009-a90d-4df7-c2e4-98f07c2ce6ef"
   },
   "outputs": [
    {
     "data": {
      "text/plain": [
       "190911"
      ]
     },
     "execution_count": 9,
     "metadata": {},
     "output_type": "execute_result"
    }
   ],
   "source": [
    "len(features)"
   ]
  },
  {
   "cell_type": "code",
   "execution_count": 10,
   "metadata": {
    "colab": {
     "base_uri": "https://localhost:8080/",
     "height": 443
    },
    "id": "0U_dvoq__RK3",
    "outputId": "fa50adab-6256-44a1-ca93-91159bd6b82a"
   },
   "outputs": [
    {
     "data": {
      "text/html": [
       "<div>\n",
       "<style scoped>\n",
       "    .dataframe tbody tr th:only-of-type {\n",
       "        vertical-align: middle;\n",
       "    }\n",
       "\n",
       "    .dataframe tbody tr th {\n",
       "        vertical-align: top;\n",
       "    }\n",
       "\n",
       "    .dataframe thead th {\n",
       "        text-align: right;\n",
       "    }\n",
       "</style>\n",
       "<table border=\"1\" class=\"dataframe\">\n",
       "  <thead>\n",
       "    <tr style=\"text-align: right;\">\n",
       "      <th></th>\n",
       "      <th>DestinationPort</th>\n",
       "      <th>FlowDuration</th>\n",
       "      <th>TotalFwdPackets</th>\n",
       "      <th>TotalBackwardPackets</th>\n",
       "      <th>TotalLengthofFwdPackets</th>\n",
       "      <th>TotalLengthofBwdPackets</th>\n",
       "      <th>FwdPacketLengthMax</th>\n",
       "      <th>FwdPacketLengthMin</th>\n",
       "      <th>FwdPacketLengthMean</th>\n",
       "      <th>FwdPacketLengthStd</th>\n",
       "      <th>...</th>\n",
       "      <th>act_data_pkt_fwd</th>\n",
       "      <th>min_seg_size_forward</th>\n",
       "      <th>ActiveMean</th>\n",
       "      <th>ActiveStd</th>\n",
       "      <th>ActiveMax</th>\n",
       "      <th>ActiveMin</th>\n",
       "      <th>IdleMean</th>\n",
       "      <th>IdleStd</th>\n",
       "      <th>IdleMax</th>\n",
       "      <th>IdleMin</th>\n",
       "    </tr>\n",
       "  </thead>\n",
       "  <tbody>\n",
       "    <tr>\n",
       "      <th>0</th>\n",
       "      <td>3268</td>\n",
       "      <td>112740690</td>\n",
       "      <td>32</td>\n",
       "      <td>16</td>\n",
       "      <td>6448</td>\n",
       "      <td>1152</td>\n",
       "      <td>403</td>\n",
       "      <td>0</td>\n",
       "      <td>201.5</td>\n",
       "      <td>204.724205</td>\n",
       "      <td>...</td>\n",
       "      <td>15</td>\n",
       "      <td>32</td>\n",
       "      <td>3.594286e+02</td>\n",
       "      <td>1.199802e+01</td>\n",
       "      <td>380</td>\n",
       "      <td>343</td>\n",
       "      <td>16100000.0</td>\n",
       "      <td>4.988048e+05</td>\n",
       "      <td>16400000</td>\n",
       "      <td>15400000</td>\n",
       "    </tr>\n",
       "    <tr>\n",
       "      <th>1</th>\n",
       "      <td>389</td>\n",
       "      <td>112740560</td>\n",
       "      <td>32</td>\n",
       "      <td>16</td>\n",
       "      <td>6448</td>\n",
       "      <td>5056</td>\n",
       "      <td>403</td>\n",
       "      <td>0</td>\n",
       "      <td>201.5</td>\n",
       "      <td>204.724205</td>\n",
       "      <td>...</td>\n",
       "      <td>15</td>\n",
       "      <td>32</td>\n",
       "      <td>3.202857e+02</td>\n",
       "      <td>1.574499e+01</td>\n",
       "      <td>330</td>\n",
       "      <td>285</td>\n",
       "      <td>16100000.0</td>\n",
       "      <td>4.987937e+05</td>\n",
       "      <td>16400000</td>\n",
       "      <td>15400000</td>\n",
       "    </tr>\n",
       "    <tr>\n",
       "      <th>2</th>\n",
       "      <td>0</td>\n",
       "      <td>113757377</td>\n",
       "      <td>545</td>\n",
       "      <td>0</td>\n",
       "      <td>0</td>\n",
       "      <td>0</td>\n",
       "      <td>0</td>\n",
       "      <td>0</td>\n",
       "      <td>0.0</td>\n",
       "      <td>0.000000</td>\n",
       "      <td>...</td>\n",
       "      <td>0</td>\n",
       "      <td>0</td>\n",
       "      <td>9.361829e+06</td>\n",
       "      <td>7.324646e+06</td>\n",
       "      <td>18900000</td>\n",
       "      <td>19</td>\n",
       "      <td>12200000.0</td>\n",
       "      <td>6.935824e+06</td>\n",
       "      <td>20800000</td>\n",
       "      <td>5504997</td>\n",
       "    </tr>\n",
       "    <tr>\n",
       "      <th>3</th>\n",
       "      <td>5355</td>\n",
       "      <td>100126</td>\n",
       "      <td>22</td>\n",
       "      <td>0</td>\n",
       "      <td>616</td>\n",
       "      <td>0</td>\n",
       "      <td>28</td>\n",
       "      <td>28</td>\n",
       "      <td>28.0</td>\n",
       "      <td>0.000000</td>\n",
       "      <td>...</td>\n",
       "      <td>21</td>\n",
       "      <td>32</td>\n",
       "      <td>0.000000e+00</td>\n",
       "      <td>0.000000e+00</td>\n",
       "      <td>0</td>\n",
       "      <td>0</td>\n",
       "      <td>0.0</td>\n",
       "      <td>0.000000e+00</td>\n",
       "      <td>0</td>\n",
       "      <td>0</td>\n",
       "    </tr>\n",
       "    <tr>\n",
       "      <th>4</th>\n",
       "      <td>0</td>\n",
       "      <td>54760</td>\n",
       "      <td>4</td>\n",
       "      <td>0</td>\n",
       "      <td>0</td>\n",
       "      <td>0</td>\n",
       "      <td>0</td>\n",
       "      <td>0</td>\n",
       "      <td>0.0</td>\n",
       "      <td>0.000000</td>\n",
       "      <td>...</td>\n",
       "      <td>0</td>\n",
       "      <td>0</td>\n",
       "      <td>0.000000e+00</td>\n",
       "      <td>0.000000e+00</td>\n",
       "      <td>0</td>\n",
       "      <td>0</td>\n",
       "      <td>0.0</td>\n",
       "      <td>0.000000e+00</td>\n",
       "      <td>0</td>\n",
       "      <td>0</td>\n",
       "    </tr>\n",
       "    <tr>\n",
       "      <th>...</th>\n",
       "      <td>...</td>\n",
       "      <td>...</td>\n",
       "      <td>...</td>\n",
       "      <td>...</td>\n",
       "      <td>...</td>\n",
       "      <td>...</td>\n",
       "      <td>...</td>\n",
       "      <td>...</td>\n",
       "      <td>...</td>\n",
       "      <td>...</td>\n",
       "      <td>...</td>\n",
       "      <td>...</td>\n",
       "      <td>...</td>\n",
       "      <td>...</td>\n",
       "      <td>...</td>\n",
       "      <td>...</td>\n",
       "      <td>...</td>\n",
       "      <td>...</td>\n",
       "      <td>...</td>\n",
       "      <td>...</td>\n",
       "      <td>...</td>\n",
       "    </tr>\n",
       "    <tr>\n",
       "      <th>191028</th>\n",
       "      <td>53</td>\n",
       "      <td>61452</td>\n",
       "      <td>4</td>\n",
       "      <td>2</td>\n",
       "      <td>180</td>\n",
       "      <td>354</td>\n",
       "      <td>45</td>\n",
       "      <td>45</td>\n",
       "      <td>45.0</td>\n",
       "      <td>0.000000</td>\n",
       "      <td>...</td>\n",
       "      <td>3</td>\n",
       "      <td>20</td>\n",
       "      <td>0.000000e+00</td>\n",
       "      <td>0.000000e+00</td>\n",
       "      <td>0</td>\n",
       "      <td>0</td>\n",
       "      <td>0.0</td>\n",
       "      <td>0.000000e+00</td>\n",
       "      <td>0</td>\n",
       "      <td>0</td>\n",
       "    </tr>\n",
       "    <tr>\n",
       "      <th>191029</th>\n",
       "      <td>53</td>\n",
       "      <td>171</td>\n",
       "      <td>2</td>\n",
       "      <td>2</td>\n",
       "      <td>80</td>\n",
       "      <td>272</td>\n",
       "      <td>40</td>\n",
       "      <td>40</td>\n",
       "      <td>40.0</td>\n",
       "      <td>0.000000</td>\n",
       "      <td>...</td>\n",
       "      <td>1</td>\n",
       "      <td>32</td>\n",
       "      <td>0.000000e+00</td>\n",
       "      <td>0.000000e+00</td>\n",
       "      <td>0</td>\n",
       "      <td>0</td>\n",
       "      <td>0.0</td>\n",
       "      <td>0.000000e+00</td>\n",
       "      <td>0</td>\n",
       "      <td>0</td>\n",
       "    </tr>\n",
       "    <tr>\n",
       "      <th>191030</th>\n",
       "      <td>53</td>\n",
       "      <td>222</td>\n",
       "      <td>2</td>\n",
       "      <td>2</td>\n",
       "      <td>90</td>\n",
       "      <td>354</td>\n",
       "      <td>45</td>\n",
       "      <td>45</td>\n",
       "      <td>45.0</td>\n",
       "      <td>0.000000</td>\n",
       "      <td>...</td>\n",
       "      <td>1</td>\n",
       "      <td>32</td>\n",
       "      <td>0.000000e+00</td>\n",
       "      <td>0.000000e+00</td>\n",
       "      <td>0</td>\n",
       "      <td>0</td>\n",
       "      <td>0.0</td>\n",
       "      <td>0.000000e+00</td>\n",
       "      <td>0</td>\n",
       "      <td>0</td>\n",
       "    </tr>\n",
       "    <tr>\n",
       "      <th>191031</th>\n",
       "      <td>123</td>\n",
       "      <td>16842</td>\n",
       "      <td>1</td>\n",
       "      <td>1</td>\n",
       "      <td>48</td>\n",
       "      <td>48</td>\n",
       "      <td>48</td>\n",
       "      <td>48</td>\n",
       "      <td>48.0</td>\n",
       "      <td>0.000000</td>\n",
       "      <td>...</td>\n",
       "      <td>0</td>\n",
       "      <td>20</td>\n",
       "      <td>0.000000e+00</td>\n",
       "      <td>0.000000e+00</td>\n",
       "      <td>0</td>\n",
       "      <td>0</td>\n",
       "      <td>0.0</td>\n",
       "      <td>0.000000e+00</td>\n",
       "      <td>0</td>\n",
       "      <td>0</td>\n",
       "    </tr>\n",
       "    <tr>\n",
       "      <th>191032</th>\n",
       "      <td>53</td>\n",
       "      <td>153</td>\n",
       "      <td>2</td>\n",
       "      <td>2</td>\n",
       "      <td>68</td>\n",
       "      <td>100</td>\n",
       "      <td>34</td>\n",
       "      <td>34</td>\n",
       "      <td>34.0</td>\n",
       "      <td>0.000000</td>\n",
       "      <td>...</td>\n",
       "      <td>1</td>\n",
       "      <td>20</td>\n",
       "      <td>0.000000e+00</td>\n",
       "      <td>0.000000e+00</td>\n",
       "      <td>0</td>\n",
       "      <td>0</td>\n",
       "      <td>0.0</td>\n",
       "      <td>0.000000e+00</td>\n",
       "      <td>0</td>\n",
       "      <td>0</td>\n",
       "    </tr>\n",
       "  </tbody>\n",
       "</table>\n",
       "<p>190911 rows × 78 columns</p>\n",
       "</div>"
      ],
      "text/plain": [
       "        DestinationPort  FlowDuration  TotalFwdPackets  TotalBackwardPackets  \\\n",
       "0                  3268     112740690               32                    16   \n",
       "1                   389     112740560               32                    16   \n",
       "2                     0     113757377              545                     0   \n",
       "3                  5355        100126               22                     0   \n",
       "4                     0         54760                4                     0   \n",
       "...                 ...           ...              ...                   ...   \n",
       "191028               53         61452                4                     2   \n",
       "191029               53           171                2                     2   \n",
       "191030               53           222                2                     2   \n",
       "191031              123         16842                1                     1   \n",
       "191032               53           153                2                     2   \n",
       "\n",
       "        TotalLengthofFwdPackets  TotalLengthofBwdPackets  FwdPacketLengthMax  \\\n",
       "0                          6448                     1152                 403   \n",
       "1                          6448                     5056                 403   \n",
       "2                             0                        0                   0   \n",
       "3                           616                        0                  28   \n",
       "4                             0                        0                   0   \n",
       "...                         ...                      ...                 ...   \n",
       "191028                      180                      354                  45   \n",
       "191029                       80                      272                  40   \n",
       "191030                       90                      354                  45   \n",
       "191031                       48                       48                  48   \n",
       "191032                       68                      100                  34   \n",
       "\n",
       "        FwdPacketLengthMin  FwdPacketLengthMean  FwdPacketLengthStd  ...  \\\n",
       "0                        0                201.5          204.724205  ...   \n",
       "1                        0                201.5          204.724205  ...   \n",
       "2                        0                  0.0            0.000000  ...   \n",
       "3                       28                 28.0            0.000000  ...   \n",
       "4                        0                  0.0            0.000000  ...   \n",
       "...                    ...                  ...                 ...  ...   \n",
       "191028                  45                 45.0            0.000000  ...   \n",
       "191029                  40                 40.0            0.000000  ...   \n",
       "191030                  45                 45.0            0.000000  ...   \n",
       "191031                  48                 48.0            0.000000  ...   \n",
       "191032                  34                 34.0            0.000000  ...   \n",
       "\n",
       "        act_data_pkt_fwd  min_seg_size_forward    ActiveMean     ActiveStd  \\\n",
       "0                     15                    32  3.594286e+02  1.199802e+01   \n",
       "1                     15                    32  3.202857e+02  1.574499e+01   \n",
       "2                      0                     0  9.361829e+06  7.324646e+06   \n",
       "3                     21                    32  0.000000e+00  0.000000e+00   \n",
       "4                      0                     0  0.000000e+00  0.000000e+00   \n",
       "...                  ...                   ...           ...           ...   \n",
       "191028                 3                    20  0.000000e+00  0.000000e+00   \n",
       "191029                 1                    32  0.000000e+00  0.000000e+00   \n",
       "191030                 1                    32  0.000000e+00  0.000000e+00   \n",
       "191031                 0                    20  0.000000e+00  0.000000e+00   \n",
       "191032                 1                    20  0.000000e+00  0.000000e+00   \n",
       "\n",
       "        ActiveMax  ActiveMin    IdleMean       IdleStd   IdleMax   IdleMin  \n",
       "0             380        343  16100000.0  4.988048e+05  16400000  15400000  \n",
       "1             330        285  16100000.0  4.987937e+05  16400000  15400000  \n",
       "2        18900000         19  12200000.0  6.935824e+06  20800000   5504997  \n",
       "3               0          0         0.0  0.000000e+00         0         0  \n",
       "4               0          0         0.0  0.000000e+00         0         0  \n",
       "...           ...        ...         ...           ...       ...       ...  \n",
       "191028          0          0         0.0  0.000000e+00         0         0  \n",
       "191029          0          0         0.0  0.000000e+00         0         0  \n",
       "191030          0          0         0.0  0.000000e+00         0         0  \n",
       "191031          0          0         0.0  0.000000e+00         0         0  \n",
       "191032          0          0         0.0  0.000000e+00         0         0  \n",
       "\n",
       "[190911 rows x 78 columns]"
      ]
     },
     "execution_count": 10,
     "metadata": {},
     "output_type": "execute_result"
    }
   ],
   "source": [
    "features"
   ]
  },
  {
   "cell_type": "code",
   "execution_count": 11,
   "metadata": {
    "id": "8IHb5gFQ_Yfb"
   },
   "outputs": [],
   "source": [
    "scaler = StandardScaler()\n",
    "features_scaled = scaler.fit_transform(features)"
   ]
  },
  {
   "cell_type": "code",
   "execution_count": 12,
   "metadata": {
    "id": "yjcYXYO8Aq2Q"
   },
   "outputs": [],
   "source": [
    "from sklearn.preprocessing import LabelEncoder\n",
    "\n",
    "label_encoder = LabelEncoder()\n",
    "y_encoded = label_encoder.fit_transform(labels)"
   ]
  },
  {
   "cell_type": "code",
   "execution_count": 13,
   "metadata": {
    "colab": {
     "base_uri": "https://localhost:8080/"
    },
    "id": "fdW2E6O6fhVo",
    "outputId": "8fc37818-5343-499e-bdc6-d9f9c67e8d86"
   },
   "outputs": [
    {
     "data": {
      "text/plain": [
       "152826"
      ]
     },
     "execution_count": 13,
     "metadata": {},
     "output_type": "execute_result"
    }
   ],
   "source": [
    "round(data.shape[0]*80/100)"
   ]
  },
  {
   "cell_type": "code",
   "execution_count": 14,
   "metadata": {
    "colab": {
     "base_uri": "https://localhost:8080/"
    },
    "id": "qRi9l4bVkKwd",
    "outputId": "f536e07d-fb4d-4dda-cbd6-79a88a823376"
   },
   "outputs": [
    {
     "name": "stdout",
     "output_type": "stream",
     "text": [
      "Number of missing values in y_encoded: 0\n"
     ]
    }
   ],
   "source": [
    "missing_labels = np.isnan(y_encoded).sum()\n",
    "print(f\"Number of missing values in y_encoded: {missing_labels}\")"
   ]
  },
  {
   "cell_type": "code",
   "execution_count": 15,
   "metadata": {
    "colab": {
     "base_uri": "https://localhost:8080/"
    },
    "id": "_Kvrd6RtEvJw",
    "outputId": "bd830851-8986-428c-b7d1-1fb4eef8794e"
   },
   "outputs": [
    {
     "name": "stdout",
     "output_type": "stream",
     "text": [
      "Length of X_train: 152826\n",
      "Length of y_train: 152826\n",
      "Length of X_test: 38085\n",
      "Length of y_test: 38207\n",
      "Final Length of X_test: 38085\n",
      "Final Length of y_test: 38085\n"
     ]
    }
   ],
   "source": [
    "train_size = round(len(y_encoded) * 0.8)\n",
    "\n",
    "X_train = features_scaled[:train_size]\n",
    "X_test = features_scaled[train_size:]\n",
    "y_train = y_encoded[:train_size]\n",
    "y_test = y_encoded[train_size:]\n",
    "\n",
    "print(f\"Length of X_train: {len(X_train)}\")\n",
    "print(f\"Length of y_train: {len(y_train)}\")\n",
    "print(f\"Length of X_test: {len(X_test)}\")\n",
    "print(f\"Length of y_test: {len(y_test)}\")\n",
    "\n",
    "min_len = min(len(X_test), len(y_test))\n",
    "X_test = X_test[:min_len]\n",
    "y_test = y_test[:min_len]\n",
    "\n",
    "print(f\"Final Length of X_test: {len(X_test)}\")\n",
    "print(f\"Final Length of y_test: {len(y_test)}\")\n",
    "\n"
   ]
  },
  {
   "cell_type": "markdown",
   "metadata": {
    "id": "8EfnUXp6sRLz"
   },
   "source": []
  },
  {
   "cell_type": "code",
   "execution_count": 33,
   "metadata": {
    "id": "G84LMpDeATRu"
   },
   "outputs": [
    {
     "name": "stdout",
     "output_type": "stream",
     "text": [
      "Number of anomalies detected: 454\n"
     ]
    }
   ],
   "source": [
    "from sklearn.svm import OneClassSVM\n",
    "from sklearn.metrics import classification_report\n",
    "\n",
    "ocsvm = OneClassSVM(kernel='rbf', nu=0.01, gamma='auto')\n",
    "ocsvm.fit(X_train)\n",
    "\n",
    "y_pred = ocsvm.predict(X_test)\n",
    "\n",
    "\n",
    "\n",
    "print(\"Number of anomalies detected:\", (y_pred == -1).sum())\n",
    "\n",
    "\n"
   ]
  },
  {
   "cell_type": "code",
   "execution_count": null,
   "metadata": {
    "colab": {
     "base_uri": "https://localhost:8080/"
    },
    "id": "50K4oJd6RcWD",
    "outputId": "4bd447ad-aae8-4860-ed5d-e9fb330f25ed"
   },
   "outputs": [
    {
     "name": "stdout",
     "output_type": "stream",
     "text": [
      "Accuracy in separating Outliers: 0.965887177213787\n"
     ]
    }
   ],
   "source": [
    "from sklearn.metrics import accuracy_score\n",
    "\n",
    "# Convert One-Class SVM predictions to 0 and 1: -1 for outliers and 1 for inliers\n",
    "svm_predict = np.where(y_pred == -1, 1, 0)\n",
    "\n",
    "# Convert true labels to 0 and 1 as well\n",
    "y_test_mapped = np.where(y_test == 'Bot', 1, 0)\n",
    "\n",
    "accuracy = accuracy_score(y_test_mapped, svm_predict)\n",
    "print(\"Accuracy in separating Outliers:\", accuracy)\n"
   ]
  },
  {
   "cell_type": "code",
   "execution_count": 34,
   "metadata": {
    "colab": {
     "base_uri": "https://localhost:8080/"
    },
    "id": "RnWY_OtQW61D",
    "outputId": "25e149d9-a5b7-4fa4-9612-941d421fd3d4"
   },
   "outputs": [
    {
     "name": "stdout",
     "output_type": "stream",
     "text": [
      "Value: -1, Count: 454\n",
      "Value: 1, Count: 37631\n"
     ]
    }
   ],
   "source": [
    "\n",
    "y_pred = np.array(y_pred)\n",
    "\n",
    "# Get unique values and their counts\n",
    "unique_values, counts = np.unique(y_pred, return_counts=True)\n",
    "\n",
    "for value, count in zip(unique_values, counts):\n",
    "    print(f'Value: {value}, Count: {count}')\n"
   ]
  },
  {
   "cell_type": "code",
   "execution_count": null,
   "metadata": {
    "colab": {
     "base_uri": "https://localhost:8080/",
     "height": 564
    },
    "id": "yEvtP6JmAejS",
    "outputId": "7a5a94bc-ef6b-427e-9212-0989aabdd50d"
   },
   "outputs": [
    {
     "data": {
      "image/png": "[encoded data removed]",
      "text/plain": [
       "<Figure size 1200x600 with 1 Axes>"
      ]
     },
     "metadata": {},
     "output_type": "display_data"
    }
   ],
   "source": [
    "import matplotlib.pyplot as plt\n",
    "\n",
    "# Plotting\n",
    "plt.figure(figsize=(12, 6))\n",
    "\n",
    "plt.scatter(X_test[:, 0][y_pred == 1], X_test[:, 1][y_pred == 1], c='blue', label='Normal', s=10, alpha=0.6)\n",
    "\n",
    "plt.scatter(X_test[:, 0][y_pred == -1], X_test[:, 1][y_pred == -1], c='red', label='Anomaly', s=10, alpha=0.6)\n",
    "\n",
    "plt.xlabel('Feature 1')\n",
    "plt.ylabel('Feature 2')\n",
    "plt.title('Detected Anomalies and Normal Points')\n",
    "plt.legend()\n",
    "plt.grid(True)\n",
    "plt.show()\n"
   ]
  },
  {
   "cell_type": "code",
   "execution_count": 16,
   "metadata": {
    "id": "jm18VbaaDnL0"
   },
   "outputs": [
    {
     "name": "stdout",
     "output_type": "stream",
     "text": [
      "Number of anomalies detected: 378\n",
      "Accuracy in separating Outliers: 0.9807273204673757\n",
      "Value: -1, Count: 378\n",
      "Value: 1, Count: 37707\n"
     ]
    }
   ],
   "source": [
    "from sklearn.ensemble import IsolationForest\n",
    "from sklearn.metrics import accuracy_score, classification_report\n",
    "import numpy as np\n",
    "\n",
    "iso_forest = IsolationForest(n_estimators=100, contamination=0.01, random_state=42)\n",
    "iso_forest.fit(X_train)\n",
    "\n",
    "y_pred = iso_forest.predict(X_test)\n",
    "\n",
    "print(\"Number of anomalies detected:\", (y_pred == -1).sum())\n",
    "\n",
    "iso_forest_predict = np.where(y_pred == -1, 1, 0)\n",
    "\n",
    "accuracy = accuracy_score(y_test, iso_forest_predict)\n",
    "print(\"Accuracy in separating Outliers:\", accuracy)\n",
    "\n",
    "unique_values, counts = np.unique(y_pred, return_counts=True)\n",
    "\n",
    "for value, count in zip(unique_values, counts):\n",
    "    print(f'Value: {value}, Count: {count}')\n"
   ]
  },
  {
   "cell_type": "code",
   "execution_count": null,
   "metadata": {},
   "outputs": [],
   "source": [
    "\n"
   ]
  },
  {
   "cell_type": "code",
   "execution_count": null,
   "metadata": {},
   "outputs": [],
   "source": []
  }
 ],
 "metadata": {
  "colab": {
   "provenance": []
  },
  "kernelspec": {
   "display_name": "Python 3 (ipykernel)",
   "language": "python",
   "name": "python3"
  },
  "language_info": {
   "codemirror_mode": {
    "name": "ipython",
    "version": 3
   },
   "file_extension": ".py",
   "mimetype": "text/x-python",
   "name": "python",
   "nbconvert_exporter": "python",
   "pygments_lexer": "ipython3",
   "version": "3.7.9"
  }
 },
 "nbformat": 4,
 "nbformat_minor": 1
}
