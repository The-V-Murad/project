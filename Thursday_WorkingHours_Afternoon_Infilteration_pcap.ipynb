{
 "cells": [
  {
   "cell_type": "code",
   "execution_count": null,
   "metadata": {
    "colab": {
     "base_uri": "https://localhost:8080/"
    },
    "id": "7bMRh7Xg5qPR",
    "outputId": "28720d59-a916-411e-ffef-f4ca9b5b012d"
   },
   "outputs": [],
   "source": []
  },
  {
   "cell_type": "code",
   "execution_count": 5,
   "metadata": {
    "colab": {
     "base_uri": "https://localhost:8080/"
    },
    "id": "bOO5C8ij8LfJ",
    "outputId": "b723c1a8-fb56-40fd-8e52-7137a5227589"
   },
   "outputs": [
    {
     "name": "stdout",
     "output_type": "stream",
     "text": [
      "    Destination Port   Flow Duration   Total Fwd Packets  \\\n",
      "0                 22             166                   1   \n",
      "1              60148              83                   1   \n",
      "2                123           99947                   1   \n",
      "3                123           37017                   1   \n",
      "4                  0       111161336                 147   \n",
      "\n",
      "    Total Backward Packets  Total Length of Fwd Packets  \\\n",
      "0                        1                            0   \n",
      "1                        2                            0   \n",
      "2                        1                           48   \n",
      "3                        1                           48   \n",
      "4                        0                            0   \n",
      "\n",
      "    Total Length of Bwd Packets   Fwd Packet Length Max  \\\n",
      "0                             0                       0   \n",
      "1                             0                       0   \n",
      "2                            48                      48   \n",
      "3                            48                      48   \n",
      "4                             0                       0   \n",
      "\n",
      "    Fwd Packet Length Min   Fwd Packet Length Mean   Fwd Packet Length Std  \\\n",
      "0                       0                      0.0                     0.0   \n",
      "1                       0                      0.0                     0.0   \n",
      "2                      48                     48.0                     0.0   \n",
      "3                      48                     48.0                     0.0   \n",
      "4                       0                      0.0                     0.0   \n",
      "\n",
      "   ...   min_seg_size_forward  Active Mean   Active Std   Active Max  \\\n",
      "0  ...                     32        0.000        0.000            0   \n",
      "1  ...                     32        0.000        0.000            0   \n",
      "2  ...                     40        0.000        0.000            0   \n",
      "3  ...                     32        0.000        0.000            0   \n",
      "4  ...                      0  1753752.625  2123197.578      4822992   \n",
      "\n",
      "    Active Min  Idle Mean     Idle Std   Idle Max   Idle Min   Label  \n",
      "0            0        0.0        0.000          0          0  BENIGN  \n",
      "1            0        0.0        0.000          0          0  BENIGN  \n",
      "2            0        0.0        0.000          0          0  BENIGN  \n",
      "3            0        0.0        0.000          0          0  BENIGN  \n",
      "4           95  9463032.7  2657727.996   13600000    5700287  BENIGN  \n",
      "\n",
      "[5 rows x 79 columns]\n",
      "Index([' Destination Port', ' Flow Duration', ' Total Fwd Packets',\n",
      "       ' Total Backward Packets', 'Total Length of Fwd Packets',\n",
      "       ' Total Length of Bwd Packets', ' Fwd Packet Length Max',\n",
      "       ' Fwd Packet Length Min', ' Fwd Packet Length Mean',\n",
      "       ' Fwd Packet Length Std', 'Bwd Packet Length Max',\n",
      "       ' Bwd Packet Length Min', ' Bwd Packet Length Mean',\n",
      "       ' Bwd Packet Length Std', 'Flow Bytes/s', ' Flow Packets/s',\n",
      "       ' Flow IAT Mean', ' Flow IAT Std', ' Flow IAT Max', ' Flow IAT Min',\n",
      "       'Fwd IAT Total', ' Fwd IAT Mean', ' Fwd IAT Std', ' Fwd IAT Max',\n",
      "       ' Fwd IAT Min', 'Bwd IAT Total', ' Bwd IAT Mean', ' Bwd IAT Std',\n",
      "       ' Bwd IAT Max', ' Bwd IAT Min', 'Fwd PSH Flags', ' Bwd PSH Flags',\n",
      "       ' Fwd URG Flags', ' Bwd URG Flags', ' Fwd Header Length',\n",
      "       ' Bwd Header Length', 'Fwd Packets/s', ' Bwd Packets/s',\n",
      "       ' Min Packet Length', ' Max Packet Length', ' Packet Length Mean',\n",
      "       ' Packet Length Std', ' Packet Length Variance', 'FIN Flag Count',\n",
      "       ' SYN Flag Count', ' RST Flag Count', ' PSH Flag Count',\n",
      "       ' ACK Flag Count', ' URG Flag Count', ' CWE Flag Count',\n",
      "       ' ECE Flag Count', ' Down/Up Ratio', ' Average Packet Size',\n",
      "       ' Avg Fwd Segment Size', ' Avg Bwd Segment Size',\n",
      "       ' Fwd Header Length.1', 'Fwd Avg Bytes/Bulk', ' Fwd Avg Packets/Bulk',\n",
      "       ' Fwd Avg Bulk Rate', ' Bwd Avg Bytes/Bulk', ' Bwd Avg Packets/Bulk',\n",
      "       'Bwd Avg Bulk Rate', 'Subflow Fwd Packets', ' Subflow Fwd Bytes',\n",
      "       ' Subflow Bwd Packets', ' Subflow Bwd Bytes', 'Init_Win_bytes_forward',\n",
      "       ' Init_Win_bytes_backward', ' act_data_pkt_fwd',\n",
      "       ' min_seg_size_forward', 'Active Mean', ' Active Std', ' Active Max',\n",
      "       ' Active Min', 'Idle Mean', ' Idle Std', ' Idle Max', ' Idle Min',\n",
      "       ' Label'],\n",
      "      dtype='object')\n",
      "79\n"
     ]
    }
   ],
   "source": [
    "import pandas as pd\n",
    "from sklearn.preprocessing import StandardScaler\n",
    "import numpy as np\n",
    "from sklearn.model_selection import train_test_split\n",
    "\n",
    "\n",
    "# Load the dataset\n",
    "file_path = '/content/drive/MyDrive/Thursday-WorkingHours-Afternoon-Infilteration.pcap_ISCX.csv'\n",
    "data = pd.read_csv(file_path)\n",
    "\n",
    "# Display the first few rows and column names\n",
    "print(data.head())\n",
    "print(data.columns)\n",
    "print(len(data.columns))\n"
   ]
  },
  {
   "cell_type": "code",
   "execution_count": 6,
   "metadata": {
    "colab": {
     "base_uri": "https://localhost:8080/"
    },
    "id": "ONRYwTuy91FP",
    "outputId": "2b05d827-aabb-45d3-f1ab-e8b0f247dc96"
   },
   "outputs": [
    {
     "name": "stdout",
     "output_type": "stream",
     "text": [
      "Index(['DestinationPort', 'FlowDuration', 'TotalFwdPackets',\n",
      "       'TotalBackwardPackets', 'TotalLengthofFwdPackets',\n",
      "       'TotalLengthofBwdPackets', 'FwdPacketLengthMax', 'FwdPacketLengthMin',\n",
      "       'FwdPacketLengthMean', 'FwdPacketLengthStd', 'BwdPacketLengthMax',\n",
      "       'BwdPacketLengthMin', 'BwdPacketLengthMean', 'BwdPacketLengthStd',\n",
      "       'FlowBytes/s', 'FlowPackets/s', 'FlowIATMean', 'FlowIATStd',\n",
      "       'FlowIATMax', 'FlowIATMin', 'FwdIATTotal', 'FwdIATMean', 'FwdIATStd',\n",
      "       'FwdIATMax', 'FwdIATMin', 'BwdIATTotal', 'BwdIATMean', 'BwdIATStd',\n",
      "       'BwdIATMax', 'BwdIATMin', 'FwdPSHFlags', 'BwdPSHFlags', 'FwdURGFlags',\n",
      "       'BwdURGFlags', 'FwdHeaderLength', 'BwdHeaderLength', 'FwdPackets/s',\n",
      "       'BwdPackets/s', 'MinPacketLength', 'MaxPacketLength',\n",
      "       'PacketLengthMean', 'PacketLengthStd', 'PacketLengthVariance',\n",
      "       'FINFlagCount', 'SYNFlagCount', 'RSTFlagCount', 'PSHFlagCount',\n",
      "       'ACKFlagCount', 'URGFlagCount', 'CWEFlagCount', 'ECEFlagCount',\n",
      "       'Down/UpRatio', 'AveragePacketSize', 'AvgFwdSegmentSize',\n",
      "       'AvgBwdSegmentSize', 'FwdHeaderLength.1', 'FwdAvgBytes/Bulk',\n",
      "       'FwdAvgPackets/Bulk', 'FwdAvgBulkRate', 'BwdAvgBytes/Bulk',\n",
      "       'BwdAvgPackets/Bulk', 'BwdAvgBulkRate', 'SubflowFwdPackets',\n",
      "       'SubflowFwdBytes', 'SubflowBwdPackets', 'SubflowBwdBytes',\n",
      "       'Init_Win_bytes_forward', 'Init_Win_bytes_backward', 'act_data_pkt_fwd',\n",
      "       'min_seg_size_forward', 'ActiveMean', 'ActiveStd', 'ActiveMax',\n",
      "       'ActiveMin', 'IdleMean', 'IdleStd', 'IdleMax', 'IdleMin', 'Label'],\n",
      "      dtype='object')\n"
     ]
    }
   ],
   "source": [
    "\n",
    "data.columns = data.columns.str.replace(' ', '')\n",
    "\n",
    "print(data.columns)\n"
   ]
  },
  {
   "cell_type": "code",
   "execution_count": 7,
   "metadata": {
    "colab": {
     "base_uri": "https://localhost:8080/"
    },
    "id": "jMyaY7EdBQe9",
    "outputId": "37454700-108c-42dc-cb18-f85c116b05c1"
   },
   "outputs": [
    {
     "name": "stdout",
     "output_type": "stream",
     "text": [
      "<class 'pandas.core.frame.DataFrame'>\n",
      "RangeIndex: 288602 entries, 0 to 288601\n",
      "Data columns (total 79 columns):\n",
      " #   Column                   Non-Null Count   Dtype  \n",
      "---  ------                   --------------   -----  \n",
      " 0   DestinationPort          288602 non-null  int64  \n",
      " 1   FlowDuration             288602 non-null  int64  \n",
      " 2   TotalFwdPackets          288602 non-null  int64  \n",
      " 3   TotalBackwardPackets     288602 non-null  int64  \n",
      " 4   TotalLengthofFwdPackets  288602 non-null  int64  \n",
      " 5   TotalLengthofBwdPackets  288602 non-null  int64  \n",
      " 6   FwdPacketLengthMax       288602 non-null  int64  \n",
      " 7   FwdPacketLengthMin       288602 non-null  int64  \n",
      " 8   FwdPacketLengthMean      288602 non-null  float64\n",
      " 9   FwdPacketLengthStd       288602 non-null  float64\n",
      " 10  BwdPacketLengthMax       288602 non-null  int64  \n",
      " 11  BwdPacketLengthMin       288602 non-null  int64  \n",
      " 12  BwdPacketLengthMean      288602 non-null  float64\n",
      " 13  BwdPacketLengthStd       288602 non-null  float64\n",
      " 14  FlowBytes/s              288584 non-null  float64\n",
      " 15  FlowPackets/s            288602 non-null  float64\n",
      " 16  FlowIATMean              288602 non-null  float64\n",
      " 17  FlowIATStd               288602 non-null  float64\n",
      " 18  FlowIATMax               288602 non-null  int64  \n",
      " 19  FlowIATMin               288602 non-null  int64  \n",
      " 20  FwdIATTotal              288602 non-null  int64  \n",
      " 21  FwdIATMean               288602 non-null  float64\n",
      " 22  FwdIATStd                288602 non-null  float64\n",
      " 23  FwdIATMax                288602 non-null  int64  \n",
      " 24  FwdIATMin                288602 non-null  int64  \n",
      " 25  BwdIATTotal              288602 non-null  int64  \n",
      " 26  BwdIATMean               288602 non-null  float64\n",
      " 27  BwdIATStd                288602 non-null  float64\n",
      " 28  BwdIATMax                288602 non-null  int64  \n",
      " 29  BwdIATMin                288602 non-null  int64  \n",
      " 30  FwdPSHFlags              288602 non-null  int64  \n",
      " 31  BwdPSHFlags              288602 non-null  int64  \n",
      " 32  FwdURGFlags              288602 non-null  int64  \n",
      " 33  BwdURGFlags              288602 non-null  int64  \n",
      " 34  FwdHeaderLength          288602 non-null  int64  \n",
      " 35  BwdHeaderLength          288602 non-null  int64  \n",
      " 36  FwdPackets/s             288602 non-null  float64\n",
      " 37  BwdPackets/s             288602 non-null  float64\n",
      " 38  MinPacketLength          288602 non-null  int64  \n",
      " 39  MaxPacketLength          288602 non-null  int64  \n",
      " 40  PacketLengthMean         288602 non-null  float64\n",
      " 41  PacketLengthStd          288602 non-null  float64\n",
      " 42  PacketLengthVariance     288602 non-null  float64\n",
      " 43  FINFlagCount             288602 non-null  int64  \n",
      " 44  SYNFlagCount             288602 non-null  int64  \n",
      " 45  RSTFlagCount             288602 non-null  int64  \n",
      " 46  PSHFlagCount             288602 non-null  int64  \n",
      " 47  ACKFlagCount             288602 non-null  int64  \n",
      " 48  URGFlagCount             288602 non-null  int64  \n",
      " 49  CWEFlagCount             288602 non-null  int64  \n",
      " 50  ECEFlagCount             288602 non-null  int64  \n",
      " 51  Down/UpRatio             288602 non-null  int64  \n",
      " 52  AveragePacketSize        288602 non-null  float64\n",
      " 53  AvgFwdSegmentSize        288602 non-null  float64\n",
      " 54  AvgBwdSegmentSize        288602 non-null  float64\n",
      " 55  FwdHeaderLength.1        288602 non-null  int64  \n",
      " 56  FwdAvgBytes/Bulk         288602 non-null  int64  \n",
      " 57  FwdAvgPackets/Bulk       288602 non-null  int64  \n",
      " 58  FwdAvgBulkRate           288602 non-null  int64  \n",
      " 59  BwdAvgBytes/Bulk         288602 non-null  int64  \n",
      " 60  BwdAvgPackets/Bulk       288602 non-null  int64  \n",
      " 61  BwdAvgBulkRate           288602 non-null  int64  \n",
      " 62  SubflowFwdPackets        288602 non-null  int64  \n",
      " 63  SubflowFwdBytes          288602 non-null  int64  \n",
      " 64  SubflowBwdPackets        288602 non-null  int64  \n",
      " 65  SubflowBwdBytes          288602 non-null  int64  \n",
      " 66  Init_Win_bytes_forward   288602 non-null  int64  \n",
      " 67  Init_Win_bytes_backward  288602 non-null  int64  \n",
      " 68  act_data_pkt_fwd         288602 non-null  int64  \n",
      " 69  min_seg_size_forward     288602 non-null  int64  \n",
      " 70  ActiveMean               288602 non-null  float64\n",
      " 71  ActiveStd                288602 non-null  float64\n",
      " 72  ActiveMax                288602 non-null  int64  \n",
      " 73  ActiveMin                288602 non-null  int64  \n",
      " 74  IdleMean                 288602 non-null  float64\n",
      " 75  IdleStd                  288602 non-null  float64\n",
      " 76  IdleMax                  288602 non-null  int64  \n",
      " 77  IdleMin                  288602 non-null  int64  \n",
      " 78  Label                    288602 non-null  object \n",
      "dtypes: float64(24), int64(54), object(1)\n",
      "memory usage: 173.9+ MB\n"
     ]
    }
   ],
   "source": [
    "data.info()"
   ]
  },
  {
   "cell_type": "code",
   "execution_count": 8,
   "metadata": {
    "colab": {
     "base_uri": "https://localhost:8080/"
    },
    "id": "xhDIs3wHfM_q",
    "outputId": "109e79b3-2caa-4e0d-936e-da58c3071add"
   },
   "outputs": [
    {
     "data": {
      "text/plain": [
       "2"
      ]
     },
     "execution_count": 8,
     "metadata": {},
     "output_type": "execute_result"
    }
   ],
   "source": [
    "data.Label.nunique()\n"
   ]
  },
  {
   "cell_type": "code",
   "execution_count": 9,
   "metadata": {
    "colab": {
     "base_uri": "https://localhost:8080/",
     "height": 178
    },
    "id": "T8w-zHQbfQgT",
    "outputId": "522e69e7-e89d-49a4-f53e-9a80adb22520"
   },
   "outputs": [
    {
     "data": {
      "text/plain": [
       "BENIGN          288566\n",
       "Infiltration        36\n",
       "Name: Label, dtype: int64"
      ]
     },
     "execution_count": 9,
     "metadata": {},
     "output_type": "execute_result"
    }
   ],
   "source": [
    "data.Label.value_counts()"
   ]
  },
  {
   "cell_type": "code",
   "execution_count": 10,
   "metadata": {
    "id": "PZNZ0dru-vm3"
   },
   "outputs": [],
   "source": [
    "benign_samples = data[data['Label'] == 'BENIGN'].sample(n=200000, random_state=42)\n",
    "malicious_samples = data[data['Label'] == 'Infiltration'].sample(n=36, random_state=42)\n",
    "\n",
    "data = pd.concat([benign_samples, malicious_samples])\n",
    "\n",
    "data = data.sample(frac=1, random_state=42).reset_index(drop=True)"
   ]
  },
  {
   "cell_type": "code",
   "execution_count": 11,
   "metadata": {
    "colab": {
     "base_uri": "https://localhost:8080/",
     "height": 255
    },
    "id": "dTbirRHynMFp",
    "outputId": "53c9710c-51ff-4320-da8d-f4348642c0e1"
   },
   "outputs": [
    {
     "data": {
      "text/html": [
       "<div>\n",
       "<style scoped>\n",
       "    .dataframe tbody tr th:only-of-type {\n",
       "        vertical-align: middle;\n",
       "    }\n",
       "\n",
       "    .dataframe tbody tr th {\n",
       "        vertical-align: top;\n",
       "    }\n",
       "\n",
       "    .dataframe thead th {\n",
       "        text-align: right;\n",
       "    }\n",
       "</style>\n",
       "<table border=\"1\" class=\"dataframe\">\n",
       "  <thead>\n",
       "    <tr style=\"text-align: right;\">\n",
       "      <th></th>\n",
       "      <th>DestinationPort</th>\n",
       "      <th>FlowDuration</th>\n",
       "      <th>TotalFwdPackets</th>\n",
       "      <th>TotalBackwardPackets</th>\n",
       "      <th>TotalLengthofFwdPackets</th>\n",
       "      <th>TotalLengthofBwdPackets</th>\n",
       "      <th>FwdPacketLengthMax</th>\n",
       "      <th>FwdPacketLengthMin</th>\n",
       "      <th>FwdPacketLengthMean</th>\n",
       "      <th>FwdPacketLengthStd</th>\n",
       "      <th>...</th>\n",
       "      <th>min_seg_size_forward</th>\n",
       "      <th>ActiveMean</th>\n",
       "      <th>ActiveStd</th>\n",
       "      <th>ActiveMax</th>\n",
       "      <th>ActiveMin</th>\n",
       "      <th>IdleMean</th>\n",
       "      <th>IdleStd</th>\n",
       "      <th>IdleMax</th>\n",
       "      <th>IdleMin</th>\n",
       "      <th>Label</th>\n",
       "    </tr>\n",
       "  </thead>\n",
       "  <tbody>\n",
       "    <tr>\n",
       "      <th>0</th>\n",
       "      <td>53</td>\n",
       "      <td>44518774</td>\n",
       "      <td>2</td>\n",
       "      <td>2</td>\n",
       "      <td>91</td>\n",
       "      <td>214</td>\n",
       "      <td>47</td>\n",
       "      <td>44</td>\n",
       "      <td>45.500000</td>\n",
       "      <td>2.121320</td>\n",
       "      <td>...</td>\n",
       "      <td>20</td>\n",
       "      <td>30689.0</td>\n",
       "      <td>0.0</td>\n",
       "      <td>30689</td>\n",
       "      <td>30689</td>\n",
       "      <td>44500000.0</td>\n",
       "      <td>0.0</td>\n",
       "      <td>44500000</td>\n",
       "      <td>44500000</td>\n",
       "      <td>BENIGN</td>\n",
       "    </tr>\n",
       "    <tr>\n",
       "      <th>1</th>\n",
       "      <td>53</td>\n",
       "      <td>182</td>\n",
       "      <td>2</td>\n",
       "      <td>2</td>\n",
       "      <td>70</td>\n",
       "      <td>174</td>\n",
       "      <td>35</td>\n",
       "      <td>35</td>\n",
       "      <td>35.000000</td>\n",
       "      <td>0.000000</td>\n",
       "      <td>...</td>\n",
       "      <td>20</td>\n",
       "      <td>0.0</td>\n",
       "      <td>0.0</td>\n",
       "      <td>0</td>\n",
       "      <td>0</td>\n",
       "      <td>0.0</td>\n",
       "      <td>0.0</td>\n",
       "      <td>0</td>\n",
       "      <td>0</td>\n",
       "      <td>BENIGN</td>\n",
       "    </tr>\n",
       "    <tr>\n",
       "      <th>2</th>\n",
       "      <td>443</td>\n",
       "      <td>406</td>\n",
       "      <td>3</td>\n",
       "      <td>0</td>\n",
       "      <td>83</td>\n",
       "      <td>0</td>\n",
       "      <td>46</td>\n",
       "      <td>6</td>\n",
       "      <td>27.666667</td>\n",
       "      <td>20.207259</td>\n",
       "      <td>...</td>\n",
       "      <td>20</td>\n",
       "      <td>0.0</td>\n",
       "      <td>0.0</td>\n",
       "      <td>0</td>\n",
       "      <td>0</td>\n",
       "      <td>0.0</td>\n",
       "      <td>0.0</td>\n",
       "      <td>0</td>\n",
       "      <td>0</td>\n",
       "      <td>BENIGN</td>\n",
       "    </tr>\n",
       "    <tr>\n",
       "      <th>3</th>\n",
       "      <td>16018</td>\n",
       "      <td>3</td>\n",
       "      <td>2</td>\n",
       "      <td>0</td>\n",
       "      <td>4</td>\n",
       "      <td>0</td>\n",
       "      <td>2</td>\n",
       "      <td>2</td>\n",
       "      <td>2.000000</td>\n",
       "      <td>0.000000</td>\n",
       "      <td>...</td>\n",
       "      <td>24</td>\n",
       "      <td>0.0</td>\n",
       "      <td>0.0</td>\n",
       "      <td>0</td>\n",
       "      <td>0</td>\n",
       "      <td>0.0</td>\n",
       "      <td>0.0</td>\n",
       "      <td>0</td>\n",
       "      <td>0</td>\n",
       "      <td>BENIGN</td>\n",
       "    </tr>\n",
       "    <tr>\n",
       "      <th>4</th>\n",
       "      <td>53</td>\n",
       "      <td>31201</td>\n",
       "      <td>1</td>\n",
       "      <td>1</td>\n",
       "      <td>76</td>\n",
       "      <td>153</td>\n",
       "      <td>76</td>\n",
       "      <td>76</td>\n",
       "      <td>76.000000</td>\n",
       "      <td>0.000000</td>\n",
       "      <td>...</td>\n",
       "      <td>32</td>\n",
       "      <td>0.0</td>\n",
       "      <td>0.0</td>\n",
       "      <td>0</td>\n",
       "      <td>0</td>\n",
       "      <td>0.0</td>\n",
       "      <td>0.0</td>\n",
       "      <td>0</td>\n",
       "      <td>0</td>\n",
       "      <td>BENIGN</td>\n",
       "    </tr>\n",
       "  </tbody>\n",
       "</table>\n",
       "<p>5 rows × 79 columns</p>\n",
       "</div>"
      ],
      "text/plain": [
       "   DestinationPort  FlowDuration  TotalFwdPackets  TotalBackwardPackets  \\\n",
       "0               53      44518774                2                     2   \n",
       "1               53           182                2                     2   \n",
       "2              443           406                3                     0   \n",
       "3            16018             3                2                     0   \n",
       "4               53         31201                1                     1   \n",
       "\n",
       "   TotalLengthofFwdPackets  TotalLengthofBwdPackets  FwdPacketLengthMax  \\\n",
       "0                       91                      214                  47   \n",
       "1                       70                      174                  35   \n",
       "2                       83                        0                  46   \n",
       "3                        4                        0                   2   \n",
       "4                       76                      153                  76   \n",
       "\n",
       "   FwdPacketLengthMin  FwdPacketLengthMean  FwdPacketLengthStd  ...  \\\n",
       "0                  44            45.500000            2.121320  ...   \n",
       "1                  35            35.000000            0.000000  ...   \n",
       "2                   6            27.666667           20.207259  ...   \n",
       "3                   2             2.000000            0.000000  ...   \n",
       "4                  76            76.000000            0.000000  ...   \n",
       "\n",
       "   min_seg_size_forward  ActiveMean  ActiveStd  ActiveMax  ActiveMin  \\\n",
       "0                    20     30689.0        0.0      30689      30689   \n",
       "1                    20         0.0        0.0          0          0   \n",
       "2                    20         0.0        0.0          0          0   \n",
       "3                    24         0.0        0.0          0          0   \n",
       "4                    32         0.0        0.0          0          0   \n",
       "\n",
       "     IdleMean  IdleStd   IdleMax   IdleMin   Label  \n",
       "0  44500000.0      0.0  44500000  44500000  BENIGN  \n",
       "1         0.0      0.0         0         0  BENIGN  \n",
       "2         0.0      0.0         0         0  BENIGN  \n",
       "3         0.0      0.0         0         0  BENIGN  \n",
       "4         0.0      0.0         0         0  BENIGN  \n",
       "\n",
       "[5 rows x 79 columns]"
      ]
     },
     "execution_count": 11,
     "metadata": {},
     "output_type": "execute_result"
    }
   ],
   "source": [
    "data.head()\n"
   ]
  },
  {
   "cell_type": "code",
   "execution_count": 12,
   "metadata": {
    "id": "f9HJD44E9BW_"
   },
   "outputs": [],
   "source": [
    "\n",
    "# Separate features and labels\n",
    "features = data.drop('Label', axis=1)\n",
    "labels = data['Label']"
   ]
  },
  {
   "cell_type": "code",
   "execution_count": 13,
   "metadata": {
    "id": "PnpTtnNzB9R_"
   },
   "outputs": [],
   "source": [
    "features.replace([np.inf, -np.inf], np.nan, inplace=True)\n",
    "features.dropna(inplace=True)"
   ]
  },
  {
   "cell_type": "code",
   "execution_count": 14,
   "metadata": {
    "id": "FeA5jyHc9XYd"
   },
   "outputs": [],
   "source": [
    "features = features.select_dtypes(include=[float, int])\n"
   ]
  },
  {
   "cell_type": "code",
   "execution_count": 15,
   "metadata": {
    "colab": {
     "base_uri": "https://localhost:8080/"
    },
    "id": "Eggxjn60-Iw6",
    "outputId": "a96473e4-92d4-4b61-b4d8-314429176ac0"
   },
   "outputs": [
    {
     "data": {
      "text/plain": [
       "199899"
      ]
     },
     "execution_count": 15,
     "metadata": {},
     "output_type": "execute_result"
    }
   ],
   "source": [
    "len(features)"
   ]
  },
  {
   "cell_type": "code",
   "execution_count": 16,
   "metadata": {
    "colab": {
     "base_uri": "https://localhost:8080/",
     "height": 443
    },
    "id": "0U_dvoq__RK3",
    "outputId": "2afba6fa-f371-4723-c6df-e7a9b2c94209"
   },
   "outputs": [
    {
     "data": {
      "text/html": [
       "<div>\n",
       "<style scoped>\n",
       "    .dataframe tbody tr th:only-of-type {\n",
       "        vertical-align: middle;\n",
       "    }\n",
       "\n",
       "    .dataframe tbody tr th {\n",
       "        vertical-align: top;\n",
       "    }\n",
       "\n",
       "    .dataframe thead th {\n",
       "        text-align: right;\n",
       "    }\n",
       "</style>\n",
       "<table border=\"1\" class=\"dataframe\">\n",
       "  <thead>\n",
       "    <tr style=\"text-align: right;\">\n",
       "      <th></th>\n",
       "      <th>DestinationPort</th>\n",
       "      <th>FlowDuration</th>\n",
       "      <th>TotalFwdPackets</th>\n",
       "      <th>TotalBackwardPackets</th>\n",
       "      <th>TotalLengthofFwdPackets</th>\n",
       "      <th>TotalLengthofBwdPackets</th>\n",
       "      <th>FwdPacketLengthMax</th>\n",
       "      <th>FwdPacketLengthMin</th>\n",
       "      <th>FwdPacketLengthMean</th>\n",
       "      <th>FwdPacketLengthStd</th>\n",
       "      <th>...</th>\n",
       "      <th>act_data_pkt_fwd</th>\n",
       "      <th>min_seg_size_forward</th>\n",
       "      <th>ActiveMean</th>\n",
       "      <th>ActiveStd</th>\n",
       "      <th>ActiveMax</th>\n",
       "      <th>ActiveMin</th>\n",
       "      <th>IdleMean</th>\n",
       "      <th>IdleStd</th>\n",
       "      <th>IdleMax</th>\n",
       "      <th>IdleMin</th>\n",
       "    </tr>\n",
       "  </thead>\n",
       "  <tbody>\n",
       "    <tr>\n",
       "      <th>0</th>\n",
       "      <td>53</td>\n",
       "      <td>44518774</td>\n",
       "      <td>2</td>\n",
       "      <td>2</td>\n",
       "      <td>91</td>\n",
       "      <td>214</td>\n",
       "      <td>47</td>\n",
       "      <td>44</td>\n",
       "      <td>45.500000</td>\n",
       "      <td>2.121320</td>\n",
       "      <td>...</td>\n",
       "      <td>1</td>\n",
       "      <td>20</td>\n",
       "      <td>30689.0</td>\n",
       "      <td>0.00000</td>\n",
       "      <td>30689</td>\n",
       "      <td>30689</td>\n",
       "      <td>44500000.0</td>\n",
       "      <td>0.000000</td>\n",
       "      <td>44500000</td>\n",
       "      <td>44500000</td>\n",
       "    </tr>\n",
       "    <tr>\n",
       "      <th>1</th>\n",
       "      <td>53</td>\n",
       "      <td>182</td>\n",
       "      <td>2</td>\n",
       "      <td>2</td>\n",
       "      <td>70</td>\n",
       "      <td>174</td>\n",
       "      <td>35</td>\n",
       "      <td>35</td>\n",
       "      <td>35.000000</td>\n",
       "      <td>0.000000</td>\n",
       "      <td>...</td>\n",
       "      <td>1</td>\n",
       "      <td>20</td>\n",
       "      <td>0.0</td>\n",
       "      <td>0.00000</td>\n",
       "      <td>0</td>\n",
       "      <td>0</td>\n",
       "      <td>0.0</td>\n",
       "      <td>0.000000</td>\n",
       "      <td>0</td>\n",
       "      <td>0</td>\n",
       "    </tr>\n",
       "    <tr>\n",
       "      <th>2</th>\n",
       "      <td>443</td>\n",
       "      <td>406</td>\n",
       "      <td>3</td>\n",
       "      <td>0</td>\n",
       "      <td>83</td>\n",
       "      <td>0</td>\n",
       "      <td>46</td>\n",
       "      <td>6</td>\n",
       "      <td>27.666667</td>\n",
       "      <td>20.207259</td>\n",
       "      <td>...</td>\n",
       "      <td>2</td>\n",
       "      <td>20</td>\n",
       "      <td>0.0</td>\n",
       "      <td>0.00000</td>\n",
       "      <td>0</td>\n",
       "      <td>0</td>\n",
       "      <td>0.0</td>\n",
       "      <td>0.000000</td>\n",
       "      <td>0</td>\n",
       "      <td>0</td>\n",
       "    </tr>\n",
       "    <tr>\n",
       "      <th>3</th>\n",
       "      <td>16018</td>\n",
       "      <td>3</td>\n",
       "      <td>2</td>\n",
       "      <td>0</td>\n",
       "      <td>4</td>\n",
       "      <td>0</td>\n",
       "      <td>2</td>\n",
       "      <td>2</td>\n",
       "      <td>2.000000</td>\n",
       "      <td>0.000000</td>\n",
       "      <td>...</td>\n",
       "      <td>1</td>\n",
       "      <td>24</td>\n",
       "      <td>0.0</td>\n",
       "      <td>0.00000</td>\n",
       "      <td>0</td>\n",
       "      <td>0</td>\n",
       "      <td>0.0</td>\n",
       "      <td>0.000000</td>\n",
       "      <td>0</td>\n",
       "      <td>0</td>\n",
       "    </tr>\n",
       "    <tr>\n",
       "      <th>4</th>\n",
       "      <td>53</td>\n",
       "      <td>31201</td>\n",
       "      <td>1</td>\n",
       "      <td>1</td>\n",
       "      <td>76</td>\n",
       "      <td>153</td>\n",
       "      <td>76</td>\n",
       "      <td>76</td>\n",
       "      <td>76.000000</td>\n",
       "      <td>0.000000</td>\n",
       "      <td>...</td>\n",
       "      <td>0</td>\n",
       "      <td>32</td>\n",
       "      <td>0.0</td>\n",
       "      <td>0.00000</td>\n",
       "      <td>0</td>\n",
       "      <td>0</td>\n",
       "      <td>0.0</td>\n",
       "      <td>0.000000</td>\n",
       "      <td>0</td>\n",
       "      <td>0</td>\n",
       "    </tr>\n",
       "    <tr>\n",
       "      <th>...</th>\n",
       "      <td>...</td>\n",
       "      <td>...</td>\n",
       "      <td>...</td>\n",
       "      <td>...</td>\n",
       "      <td>...</td>\n",
       "      <td>...</td>\n",
       "      <td>...</td>\n",
       "      <td>...</td>\n",
       "      <td>...</td>\n",
       "      <td>...</td>\n",
       "      <td>...</td>\n",
       "      <td>...</td>\n",
       "      <td>...</td>\n",
       "      <td>...</td>\n",
       "      <td>...</td>\n",
       "      <td>...</td>\n",
       "      <td>...</td>\n",
       "      <td>...</td>\n",
       "      <td>...</td>\n",
       "      <td>...</td>\n",
       "      <td>...</td>\n",
       "    </tr>\n",
       "    <tr>\n",
       "      <th>200031</th>\n",
       "      <td>80</td>\n",
       "      <td>22377352</td>\n",
       "      <td>6</td>\n",
       "      <td>6</td>\n",
       "      <td>454</td>\n",
       "      <td>1975</td>\n",
       "      <td>430</td>\n",
       "      <td>0</td>\n",
       "      <td>75.666667</td>\n",
       "      <td>173.603763</td>\n",
       "      <td>...</td>\n",
       "      <td>5</td>\n",
       "      <td>20</td>\n",
       "      <td>35947.5</td>\n",
       "      <td>18296.38796</td>\n",
       "      <td>48885</td>\n",
       "      <td>23010</td>\n",
       "      <td>10000000.0</td>\n",
       "      <td>717.713383</td>\n",
       "      <td>10000000</td>\n",
       "      <td>9999534</td>\n",
       "    </tr>\n",
       "    <tr>\n",
       "      <th>200032</th>\n",
       "      <td>2702</td>\n",
       "      <td>67</td>\n",
       "      <td>2</td>\n",
       "      <td>2</td>\n",
       "      <td>4</td>\n",
       "      <td>12</td>\n",
       "      <td>2</td>\n",
       "      <td>2</td>\n",
       "      <td>2.000000</td>\n",
       "      <td>0.000000</td>\n",
       "      <td>...</td>\n",
       "      <td>1</td>\n",
       "      <td>24</td>\n",
       "      <td>0.0</td>\n",
       "      <td>0.00000</td>\n",
       "      <td>0</td>\n",
       "      <td>0</td>\n",
       "      <td>0.0</td>\n",
       "      <td>0.000000</td>\n",
       "      <td>0</td>\n",
       "      <td>0</td>\n",
       "    </tr>\n",
       "    <tr>\n",
       "      <th>200033</th>\n",
       "      <td>443</td>\n",
       "      <td>3</td>\n",
       "      <td>2</td>\n",
       "      <td>0</td>\n",
       "      <td>12</td>\n",
       "      <td>0</td>\n",
       "      <td>6</td>\n",
       "      <td>6</td>\n",
       "      <td>6.000000</td>\n",
       "      <td>0.000000</td>\n",
       "      <td>...</td>\n",
       "      <td>1</td>\n",
       "      <td>20</td>\n",
       "      <td>0.0</td>\n",
       "      <td>0.00000</td>\n",
       "      <td>0</td>\n",
       "      <td>0</td>\n",
       "      <td>0.0</td>\n",
       "      <td>0.000000</td>\n",
       "      <td>0</td>\n",
       "      <td>0</td>\n",
       "    </tr>\n",
       "    <tr>\n",
       "      <th>200034</th>\n",
       "      <td>53</td>\n",
       "      <td>359</td>\n",
       "      <td>2</td>\n",
       "      <td>2</td>\n",
       "      <td>60</td>\n",
       "      <td>260</td>\n",
       "      <td>30</td>\n",
       "      <td>30</td>\n",
       "      <td>30.000000</td>\n",
       "      <td>0.000000</td>\n",
       "      <td>...</td>\n",
       "      <td>1</td>\n",
       "      <td>20</td>\n",
       "      <td>0.0</td>\n",
       "      <td>0.00000</td>\n",
       "      <td>0</td>\n",
       "      <td>0</td>\n",
       "      <td>0.0</td>\n",
       "      <td>0.000000</td>\n",
       "      <td>0</td>\n",
       "      <td>0</td>\n",
       "    </tr>\n",
       "    <tr>\n",
       "      <th>200035</th>\n",
       "      <td>53</td>\n",
       "      <td>46443</td>\n",
       "      <td>2</td>\n",
       "      <td>2</td>\n",
       "      <td>62</td>\n",
       "      <td>244</td>\n",
       "      <td>31</td>\n",
       "      <td>31</td>\n",
       "      <td>31.000000</td>\n",
       "      <td>0.000000</td>\n",
       "      <td>...</td>\n",
       "      <td>1</td>\n",
       "      <td>32</td>\n",
       "      <td>0.0</td>\n",
       "      <td>0.00000</td>\n",
       "      <td>0</td>\n",
       "      <td>0</td>\n",
       "      <td>0.0</td>\n",
       "      <td>0.000000</td>\n",
       "      <td>0</td>\n",
       "      <td>0</td>\n",
       "    </tr>\n",
       "  </tbody>\n",
       "</table>\n",
       "<p>199899 rows × 78 columns</p>\n",
       "</div>"
      ],
      "text/plain": [
       "        DestinationPort  FlowDuration  TotalFwdPackets  TotalBackwardPackets  \\\n",
       "0                    53      44518774                2                     2   \n",
       "1                    53           182                2                     2   \n",
       "2                   443           406                3                     0   \n",
       "3                 16018             3                2                     0   \n",
       "4                    53         31201                1                     1   \n",
       "...                 ...           ...              ...                   ...   \n",
       "200031               80      22377352                6                     6   \n",
       "200032             2702            67                2                     2   \n",
       "200033              443             3                2                     0   \n",
       "200034               53           359                2                     2   \n",
       "200035               53         46443                2                     2   \n",
       "\n",
       "        TotalLengthofFwdPackets  TotalLengthofBwdPackets  FwdPacketLengthMax  \\\n",
       "0                            91                      214                  47   \n",
       "1                            70                      174                  35   \n",
       "2                            83                        0                  46   \n",
       "3                             4                        0                   2   \n",
       "4                            76                      153                  76   \n",
       "...                         ...                      ...                 ...   \n",
       "200031                      454                     1975                 430   \n",
       "200032                        4                       12                   2   \n",
       "200033                       12                        0                   6   \n",
       "200034                       60                      260                  30   \n",
       "200035                       62                      244                  31   \n",
       "\n",
       "        FwdPacketLengthMin  FwdPacketLengthMean  FwdPacketLengthStd  ...  \\\n",
       "0                       44            45.500000            2.121320  ...   \n",
       "1                       35            35.000000            0.000000  ...   \n",
       "2                        6            27.666667           20.207259  ...   \n",
       "3                        2             2.000000            0.000000  ...   \n",
       "4                       76            76.000000            0.000000  ...   \n",
       "...                    ...                  ...                 ...  ...   \n",
       "200031                   0            75.666667          173.603763  ...   \n",
       "200032                   2             2.000000            0.000000  ...   \n",
       "200033                   6             6.000000            0.000000  ...   \n",
       "200034                  30            30.000000            0.000000  ...   \n",
       "200035                  31            31.000000            0.000000  ...   \n",
       "\n",
       "        act_data_pkt_fwd  min_seg_size_forward  ActiveMean    ActiveStd  \\\n",
       "0                      1                    20     30689.0      0.00000   \n",
       "1                      1                    20         0.0      0.00000   \n",
       "2                      2                    20         0.0      0.00000   \n",
       "3                      1                    24         0.0      0.00000   \n",
       "4                      0                    32         0.0      0.00000   \n",
       "...                  ...                   ...         ...          ...   \n",
       "200031                 5                    20     35947.5  18296.38796   \n",
       "200032                 1                    24         0.0      0.00000   \n",
       "200033                 1                    20         0.0      0.00000   \n",
       "200034                 1                    20         0.0      0.00000   \n",
       "200035                 1                    32         0.0      0.00000   \n",
       "\n",
       "        ActiveMax  ActiveMin    IdleMean     IdleStd   IdleMax   IdleMin  \n",
       "0           30689      30689  44500000.0    0.000000  44500000  44500000  \n",
       "1               0          0         0.0    0.000000         0         0  \n",
       "2               0          0         0.0    0.000000         0         0  \n",
       "3               0          0         0.0    0.000000         0         0  \n",
       "4               0          0         0.0    0.000000         0         0  \n",
       "...           ...        ...         ...         ...       ...       ...  \n",
       "200031      48885      23010  10000000.0  717.713383  10000000   9999534  \n",
       "200032          0          0         0.0    0.000000         0         0  \n",
       "200033          0          0         0.0    0.000000         0         0  \n",
       "200034          0          0         0.0    0.000000         0         0  \n",
       "200035          0          0         0.0    0.000000         0         0  \n",
       "\n",
       "[199899 rows x 78 columns]"
      ]
     },
     "execution_count": 16,
     "metadata": {},
     "output_type": "execute_result"
    }
   ],
   "source": [
    "features"
   ]
  },
  {
   "cell_type": "code",
   "execution_count": 17,
   "metadata": {
    "id": "8IHb5gFQ_Yfb"
   },
   "outputs": [],
   "source": [
    "scaler = StandardScaler()\n",
    "features_scaled = scaler.fit_transform(features)"
   ]
  },
  {
   "cell_type": "code",
   "execution_count": 18,
   "metadata": {
    "id": "yjcYXYO8Aq2Q"
   },
   "outputs": [],
   "source": [
    "from sklearn.preprocessing import LabelEncoder\n",
    "\n",
    "label_encoder = LabelEncoder()\n",
    "y_encoded = label_encoder.fit_transform(labels)"
   ]
  },
  {
   "cell_type": "code",
   "execution_count": 19,
   "metadata": {
    "colab": {
     "base_uri": "https://localhost:8080/"
    },
    "id": "fdW2E6O6fhVo",
    "outputId": "577073b9-0f16-44e3-9622-e500db375910"
   },
   "outputs": [
    {
     "data": {
      "text/plain": [
       "160028"
      ]
     },
     "execution_count": 19,
     "metadata": {},
     "output_type": "execute_result"
    }
   ],
   "source": [
    "round(data.shape[0]*80/100)-1"
   ]
  },
  {
   "cell_type": "code",
   "execution_count": 20,
   "metadata": {
    "colab": {
     "base_uri": "https://localhost:8080/"
    },
    "id": "qRi9l4bVkKwd",
    "outputId": "8f1fa9ff-6585-45a1-bbdd-80eb2817585f"
   },
   "outputs": [
    {
     "name": "stdout",
     "output_type": "stream",
     "text": [
      "Number of missing values in y_encoded: 0\n"
     ]
    }
   ],
   "source": [
    "missing_labels = np.isnan(y_encoded).sum()\n",
    "print(f\"Number of missing values in y_encoded: {missing_labels}\")"
   ]
  },
  {
   "cell_type": "code",
   "execution_count": 21,
   "metadata": {
    "colab": {
     "base_uri": "https://localhost:8080/"
    },
    "id": "_Kvrd6RtEvJw",
    "outputId": "2a28a518-713e-4468-e580-5985ff6c04a3"
   },
   "outputs": [
    {
     "name": "stdout",
     "output_type": "stream",
     "text": [
      "Length of X_train: 160029\n",
      "Length of y_train: 160029\n",
      "Length of X_test: 39870\n",
      "Length of y_test: 40007\n",
      "Final Length of X_test: 39870\n",
      "Final Length of y_test: 39870\n"
     ]
    }
   ],
   "source": [
    "train_size = round(len(y_encoded) * 0.8)\n",
    "\n",
    "X_train = features_scaled[:train_size]\n",
    "X_test = features_scaled[train_size:]\n",
    "y_train = y_encoded[:train_size]\n",
    "y_test = y_encoded[train_size:]\n",
    "\n",
    "print(f\"Length of X_train: {len(X_train)}\")\n",
    "print(f\"Length of y_train: {len(y_train)}\")\n",
    "print(f\"Length of X_test: {len(X_test)}\")\n",
    "print(f\"Length of y_test: {len(y_test)}\")\n",
    "\n",
    "min_len = min(len(X_test), len(y_test))\n",
    "X_test = X_test[:min_len]\n",
    "y_test = y_test[:min_len]\n",
    "\n",
    "print(f\"Final Length of X_test: {len(X_test)}\")\n",
    "print(f\"Final Length of y_test: {len(y_test)}\")\n",
    "\n"
   ]
  },
  {
   "cell_type": "markdown",
   "metadata": {
    "id": "8EfnUXp6sRLz"
   },
   "source": []
  },
  {
   "cell_type": "code",
   "execution_count": null,
   "metadata": {
    "colab": {
     "base_uri": "https://localhost:8080/"
    },
    "id": "G84LMpDeATRu",
    "outputId": "a5e2fa48-2efa-4728-fe2e-02923f531e1c"
   },
   "outputs": [
    {
     "name": "stdout",
     "output_type": "stream",
     "text": [
      "Number of anomalies detected: 512\n"
     ]
    }
   ],
   "source": [
    "from sklearn.svm import OneClassSVM\n",
    "from sklearn.metrics import classification_report\n",
    "\n",
    "ocsvm = OneClassSVM(kernel='rbf', nu=0.01, gamma='auto')\n",
    "ocsvm.fit(X_train)\n",
    "\n",
    "y_pred = ocsvm.predict(X_test)\n",
    "\n",
    "\n",
    "\n",
    "print(\"Number of anomalies detected:\", (y_pred == -1).sum())\n",
    "\n",
    "\n"
   ]
  },
  {
   "cell_type": "code",
   "execution_count": null,
   "metadata": {
    "colab": {
     "base_uri": "https://localhost:8080/"
    },
    "id": "50K4oJd6RcWD",
    "outputId": "94ed965a-a2b2-47c2-9935-8be49a918fec"
   },
   "outputs": [
    {
     "name": "stdout",
     "output_type": "stream",
     "text": [
      "Accuracy in separating Outliers: 0.9871582643591673\n"
     ]
    }
   ],
   "source": [
    "from sklearn.metrics import accuracy_score\n",
    "\n",
    "\n",
    "# Convert One-Class SVM predictions to 0 and 1: -1 for outliers and 1 for inliers\n",
    "svm_predict = np.where(y_pred == -1, 1, 0)  # Replace -1 with 1 and 1 with 0\n",
    "\n",
    "y_test_mapped = np.where(y_test == 'Infiltration', 1, 0)  # Replace 'DDoS' with 1 and 'BENIGN' with 0\n",
    "\n",
    "accuracy = accuracy_score(y_test_mapped, svm_predict)\n",
    "print(\"Accuracy in separating Outliers:\", accuracy)\n"
   ]
  },
  {
   "cell_type": "code",
   "execution_count": null,
   "metadata": {
    "colab": {
     "base_uri": "https://localhost:8080/"
    },
    "id": "RnWY_OtQW61D",
    "outputId": "c5272969-dff7-4cea-e5af-31f7fb79e763"
   },
   "outputs": [
    {
     "name": "stdout",
     "output_type": "stream",
     "text": [
      "Value: -1, Count: 512\n",
      "Value: 1, Count: 39358\n"
     ]
    }
   ],
   "source": [
    "\n",
    "y_pred = np.array(y_pred)\n",
    "\n",
    "# Get unique values and their counts\n",
    "unique_values, counts = np.unique(y_pred, return_counts=True)\n",
    "\n",
    "for value, count in zip(unique_values, counts):\n",
    "    print(f'Value: {value}, Count: {count}')\n"
   ]
  },
  {
   "cell_type": "code",
   "execution_count": null,
   "metadata": {
    "colab": {
     "base_uri": "https://localhost:8080/",
     "height": 564
    },
    "id": "yEvtP6JmAejS",
    "outputId": "fcf18e6e-2e49-4313-8edd-80bc1f95f676"
   },
   "outputs": [
    {
     "data": {
      "image/png": "[encoded data removed]",
      "text/plain": [
       "<Figure size 1200x600 with 1 Axes>"
      ]
     },
     "metadata": {},
     "output_type": "display_data"
    }
   ],
   "source": [
    "import matplotlib.pyplot as plt\n",
    "\n",
    "# Plotting\n",
    "plt.figure(figsize=(12, 6))\n",
    "\n",
    "# Plot normal points (Feature 1 vs. Feature 2)\n",
    "plt.scatter(X_test[:, 0][y_pred == 1], X_test[:, 1][y_pred == 1], c='blue', label='Normal', s=10, alpha=0.6)\n",
    "\n",
    "# Plot anomalies (Feature 1 vs. Feature 2)\n",
    "plt.scatter(X_test[:, 0][y_pred == -1], X_test[:, 1][y_pred == -1], c='red', label='Anomaly', s=10, alpha=0.6)\n",
    "\n",
    "plt.xlabel('Feature 1')\n",
    "plt.ylabel('Feature 2')\n",
    "plt.title('Detected Anomalies and Normal Points')\n",
    "plt.legend()\n",
    "plt.grid(True)\n",
    "plt.show()\n"
   ]
  },
  {
   "cell_type": "code",
   "execution_count": 22,
   "metadata": {
    "id": "jm18VbaaDnL0"
   },
   "outputs": [
    {
     "name": "stdout",
     "output_type": "stream",
     "text": [
      "Number of anomalies detected: 372\n",
      "Accuracy in separating Outliers: 0.99054426887384\n",
      "Value: -1, Count: 372\n",
      "Value: 1, Count: 39498\n"
     ]
    }
   ],
   "source": [
    "from sklearn.ensemble import IsolationForest\n",
    "from sklearn.metrics import accuracy_score, classification_report\n",
    "import numpy as np\n",
    "\n",
    "iso_forest = IsolationForest(n_estimators=100, contamination=0.01, random_state=42)\n",
    "iso_forest.fit(X_train)\n",
    "\n",
    "y_pred = iso_forest.predict(X_test)\n",
    "\n",
    "print(\"Number of anomalies detected:\", (y_pred == -1).sum())\n",
    "\n",
    "iso_forest_predict = np.where(y_pred == -1, 1, 0)\n",
    "\n",
    "accuracy = accuracy_score(y_test, iso_forest_predict)\n",
    "print(\"Accuracy in separating Outliers:\", accuracy)\n",
    "\n",
    "unique_values, counts = np.unique(y_pred, return_counts=True)\n",
    "\n",
    "for value, count in zip(unique_values, counts):\n",
    "    print(f'Value: {value}, Count: {count}')\n"
   ]
  },
  {
   "cell_type": "code",
   "execution_count": null,
   "metadata": {},
   "outputs": [],
   "source": []
  }
 ],
 "metadata": {
  "colab": {
   "provenance": []
  },
  "kernelspec": {
   "display_name": "Python 3 (ipykernel)",
   "language": "python",
   "name": "python3"
  },
  "language_info": {
   "codemirror_mode": {
    "name": "ipython",
    "version": 3
   },
   "file_extension": ".py",
   "mimetype": "text/x-python",
   "name": "python",
   "nbconvert_exporter": "python",
   "pygments_lexer": "ipython3",
   "version": "3.7.9"
  }
 },
 "nbformat": 4,
 "nbformat_minor": 1
}
