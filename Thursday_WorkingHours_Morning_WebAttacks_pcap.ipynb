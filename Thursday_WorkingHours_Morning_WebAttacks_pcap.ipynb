{
 "cells": [
  {
   "cell_type": "code",
   "execution_count": null,
   "metadata": {
    "colab": {
     "base_uri": "https://localhost:8080/"
    },
    "id": "7bMRh7Xg5qPR",
    "outputId": "02e35c33-bb3e-4b77-a0eb-fa55aa2902a7"
   },
   "outputs": [],
   "source": []
  },
  {
   "cell_type": "code",
   "execution_count": 1,
   "metadata": {
    "colab": {
     "base_uri": "https://localhost:8080/"
    },
    "id": "bOO5C8ij8LfJ",
    "outputId": "ca9b94c9-ea61-4089-c481-163a62da7a7f"
   },
   "outputs": [
    {
     "name": "stdout",
     "output_type": "stream",
     "text": [
      "    Destination Port   Flow Duration   Total Fwd Packets  \\\n",
      "0                389       113095465                  48   \n",
      "1                389       113473706                  68   \n",
      "2                  0       119945515                 150   \n",
      "3                443        60261928                   9   \n",
      "4                 53             269                   2   \n",
      "\n",
      "    Total Backward Packets  Total Length of Fwd Packets  \\\n",
      "0                       24                         9668   \n",
      "1                       40                        11364   \n",
      "2                        0                            0   \n",
      "3                        7                         2330   \n",
      "4                        2                          102   \n",
      "\n",
      "    Total Length of Bwd Packets   Fwd Packet Length Max  \\\n",
      "0                         10012                     403   \n",
      "1                         12718                     403   \n",
      "2                             0                       0   \n",
      "3                          4221                    1093   \n",
      "4                           322                      51   \n",
      "\n",
      "    Fwd Packet Length Min   Fwd Packet Length Mean   Fwd Packet Length Std  \\\n",
      "0                       0               201.416667              203.548293   \n",
      "1                       0               167.117647              171.919413   \n",
      "2                       0                 0.000000                0.000000   \n",
      "3                       0               258.888889              409.702161   \n",
      "4                      51                51.000000                0.000000   \n",
      "\n",
      "   ...   min_seg_size_forward  Active Mean    Active Std   Active Max  \\\n",
      "0  ...                     32   203985.500  5.758373e+05      1629110   \n",
      "1  ...                     32   178326.875  5.034269e+05      1424245   \n",
      "2  ...                      0  6909777.333  1.170000e+07     20400000   \n",
      "3  ...                     20        0.000  0.000000e+00            0   \n",
      "4  ...                     32        0.000  0.000000e+00            0   \n",
      "\n",
      "    Active Min   Idle Mean      Idle Std   Idle Max   Idle Min   Label  \n",
      "0          379  13800000.0  4.277541e+06   16500000    6737603  BENIGN  \n",
      "1          325  13800000.0  4.229413e+06   16500000    6945512  BENIGN  \n",
      "2            6  24400000.0  2.430000e+07   60100000    5702188  BENIGN  \n",
      "3            0         0.0  0.000000e+00          0          0  BENIGN  \n",
      "4            0         0.0  0.000000e+00          0          0  BENIGN  \n",
      "\n",
      "[5 rows x 79 columns]\n",
      "Index([' Destination Port', ' Flow Duration', ' Total Fwd Packets',\n",
      "       ' Total Backward Packets', 'Total Length of Fwd Packets',\n",
      "       ' Total Length of Bwd Packets', ' Fwd Packet Length Max',\n",
      "       ' Fwd Packet Length Min', ' Fwd Packet Length Mean',\n",
      "       ' Fwd Packet Length Std', 'Bwd Packet Length Max',\n",
      "       ' Bwd Packet Length Min', ' Bwd Packet Length Mean',\n",
      "       ' Bwd Packet Length Std', 'Flow Bytes/s', ' Flow Packets/s',\n",
      "       ' Flow IAT Mean', ' Flow IAT Std', ' Flow IAT Max', ' Flow IAT Min',\n",
      "       'Fwd IAT Total', ' Fwd IAT Mean', ' Fwd IAT Std', ' Fwd IAT Max',\n",
      "       ' Fwd IAT Min', 'Bwd IAT Total', ' Bwd IAT Mean', ' Bwd IAT Std',\n",
      "       ' Bwd IAT Max', ' Bwd IAT Min', 'Fwd PSH Flags', ' Bwd PSH Flags',\n",
      "       ' Fwd URG Flags', ' Bwd URG Flags', ' Fwd Header Length',\n",
      "       ' Bwd Header Length', 'Fwd Packets/s', ' Bwd Packets/s',\n",
      "       ' Min Packet Length', ' Max Packet Length', ' Packet Length Mean',\n",
      "       ' Packet Length Std', ' Packet Length Variance', 'FIN Flag Count',\n",
      "       ' SYN Flag Count', ' RST Flag Count', ' PSH Flag Count',\n",
      "       ' ACK Flag Count', ' URG Flag Count', ' CWE Flag Count',\n",
      "       ' ECE Flag Count', ' Down/Up Ratio', ' Average Packet Size',\n",
      "       ' Avg Fwd Segment Size', ' Avg Bwd Segment Size',\n",
      "       ' Fwd Header Length.1', 'Fwd Avg Bytes/Bulk', ' Fwd Avg Packets/Bulk',\n",
      "       ' Fwd Avg Bulk Rate', ' Bwd Avg Bytes/Bulk', ' Bwd Avg Packets/Bulk',\n",
      "       'Bwd Avg Bulk Rate', 'Subflow Fwd Packets', ' Subflow Fwd Bytes',\n",
      "       ' Subflow Bwd Packets', ' Subflow Bwd Bytes', 'Init_Win_bytes_forward',\n",
      "       ' Init_Win_bytes_backward', ' act_data_pkt_fwd',\n",
      "       ' min_seg_size_forward', 'Active Mean', ' Active Std', ' Active Max',\n",
      "       ' Active Min', 'Idle Mean', ' Idle Std', ' Idle Max', ' Idle Min',\n",
      "       ' Label'],\n",
      "      dtype='object')\n",
      "79\n"
     ]
    }
   ],
   "source": [
    "import pandas as pd\n",
    "from sklearn.preprocessing import StandardScaler\n",
    "import numpy as np\n",
    "from sklearn.model_selection import train_test_split\n",
    "\n",
    "\n",
    "# Load the dataset\n",
    "file_path = '/content/drive/MyDrive/Thursday-WorkingHours-Morning-WebAttacks.pcap_ISCX.csv'\n",
    "data = pd.read_csv(file_path)\n",
    "\n",
    "# Display the first few rows and column names\n",
    "print(data.head())\n",
    "print(data.columns)\n",
    "print(len(data.columns))\n"
   ]
  },
  {
   "cell_type": "code",
   "execution_count": 2,
   "metadata": {
    "colab": {
     "base_uri": "https://localhost:8080/"
    },
    "id": "ONRYwTuy91FP",
    "outputId": "f427df91-ee0d-4b62-d18d-d006b393df04"
   },
   "outputs": [
    {
     "name": "stdout",
     "output_type": "stream",
     "text": [
      "Index(['DestinationPort', 'FlowDuration', 'TotalFwdPackets',\n",
      "       'TotalBackwardPackets', 'TotalLengthofFwdPackets',\n",
      "       'TotalLengthofBwdPackets', 'FwdPacketLengthMax', 'FwdPacketLengthMin',\n",
      "       'FwdPacketLengthMean', 'FwdPacketLengthStd', 'BwdPacketLengthMax',\n",
      "       'BwdPacketLengthMin', 'BwdPacketLengthMean', 'BwdPacketLengthStd',\n",
      "       'FlowBytes/s', 'FlowPackets/s', 'FlowIATMean', 'FlowIATStd',\n",
      "       'FlowIATMax', 'FlowIATMin', 'FwdIATTotal', 'FwdIATMean', 'FwdIATStd',\n",
      "       'FwdIATMax', 'FwdIATMin', 'BwdIATTotal', 'BwdIATMean', 'BwdIATStd',\n",
      "       'BwdIATMax', 'BwdIATMin', 'FwdPSHFlags', 'BwdPSHFlags', 'FwdURGFlags',\n",
      "       'BwdURGFlags', 'FwdHeaderLength', 'BwdHeaderLength', 'FwdPackets/s',\n",
      "       'BwdPackets/s', 'MinPacketLength', 'MaxPacketLength',\n",
      "       'PacketLengthMean', 'PacketLengthStd', 'PacketLengthVariance',\n",
      "       'FINFlagCount', 'SYNFlagCount', 'RSTFlagCount', 'PSHFlagCount',\n",
      "       'ACKFlagCount', 'URGFlagCount', 'CWEFlagCount', 'ECEFlagCount',\n",
      "       'Down/UpRatio', 'AveragePacketSize', 'AvgFwdSegmentSize',\n",
      "       'AvgBwdSegmentSize', 'FwdHeaderLength.1', 'FwdAvgBytes/Bulk',\n",
      "       'FwdAvgPackets/Bulk', 'FwdAvgBulkRate', 'BwdAvgBytes/Bulk',\n",
      "       'BwdAvgPackets/Bulk', 'BwdAvgBulkRate', 'SubflowFwdPackets',\n",
      "       'SubflowFwdBytes', 'SubflowBwdPackets', 'SubflowBwdBytes',\n",
      "       'Init_Win_bytes_forward', 'Init_Win_bytes_backward', 'act_data_pkt_fwd',\n",
      "       'min_seg_size_forward', 'ActiveMean', 'ActiveStd', 'ActiveMax',\n",
      "       'ActiveMin', 'IdleMean', 'IdleStd', 'IdleMax', 'IdleMin', 'Label'],\n",
      "      dtype='object')\n"
     ]
    }
   ],
   "source": [
    "\n",
    "data.columns = data.columns.str.replace(' ', '')\n",
    "\n",
    "print(data.columns)\n"
   ]
  },
  {
   "cell_type": "code",
   "execution_count": 3,
   "metadata": {
    "colab": {
     "base_uri": "https://localhost:8080/"
    },
    "id": "jMyaY7EdBQe9",
    "outputId": "9a69c98a-85be-453d-e912-022b8d983da0"
   },
   "outputs": [
    {
     "name": "stdout",
     "output_type": "stream",
     "text": [
      "<class 'pandas.core.frame.DataFrame'>\n",
      "RangeIndex: 170366 entries, 0 to 170365\n",
      "Data columns (total 79 columns):\n",
      " #   Column                   Non-Null Count   Dtype  \n",
      "---  ------                   --------------   -----  \n",
      " 0   DestinationPort          170366 non-null  int64  \n",
      " 1   FlowDuration             170366 non-null  int64  \n",
      " 2   TotalFwdPackets          170366 non-null  int64  \n",
      " 3   TotalBackwardPackets     170366 non-null  int64  \n",
      " 4   TotalLengthofFwdPackets  170366 non-null  int64  \n",
      " 5   TotalLengthofBwdPackets  170366 non-null  int64  \n",
      " 6   FwdPacketLengthMax       170366 non-null  int64  \n",
      " 7   FwdPacketLengthMin       170366 non-null  int64  \n",
      " 8   FwdPacketLengthMean      170366 non-null  float64\n",
      " 9   FwdPacketLengthStd       170366 non-null  float64\n",
      " 10  BwdPacketLengthMax       170366 non-null  int64  \n",
      " 11  BwdPacketLengthMin       170366 non-null  int64  \n",
      " 12  BwdPacketLengthMean      170366 non-null  float64\n",
      " 13  BwdPacketLengthStd       170366 non-null  float64\n",
      " 14  FlowBytes/s              170346 non-null  float64\n",
      " 15  FlowPackets/s            170366 non-null  float64\n",
      " 16  FlowIATMean              170366 non-null  float64\n",
      " 17  FlowIATStd               170366 non-null  float64\n",
      " 18  FlowIATMax               170366 non-null  int64  \n",
      " 19  FlowIATMin               170366 non-null  int64  \n",
      " 20  FwdIATTotal              170366 non-null  int64  \n",
      " 21  FwdIATMean               170366 non-null  float64\n",
      " 22  FwdIATStd                170366 non-null  float64\n",
      " 23  FwdIATMax                170366 non-null  int64  \n",
      " 24  FwdIATMin                170366 non-null  int64  \n",
      " 25  BwdIATTotal              170366 non-null  int64  \n",
      " 26  BwdIATMean               170366 non-null  float64\n",
      " 27  BwdIATStd                170366 non-null  float64\n",
      " 28  BwdIATMax                170366 non-null  int64  \n",
      " 29  BwdIATMin                170366 non-null  int64  \n",
      " 30  FwdPSHFlags              170366 non-null  int64  \n",
      " 31  BwdPSHFlags              170366 non-null  int64  \n",
      " 32  FwdURGFlags              170366 non-null  int64  \n",
      " 33  BwdURGFlags              170366 non-null  int64  \n",
      " 34  FwdHeaderLength          170366 non-null  int64  \n",
      " 35  BwdHeaderLength          170366 non-null  int64  \n",
      " 36  FwdPackets/s             170366 non-null  float64\n",
      " 37  BwdPackets/s             170366 non-null  float64\n",
      " 38  MinPacketLength          170366 non-null  int64  \n",
      " 39  MaxPacketLength          170366 non-null  int64  \n",
      " 40  PacketLengthMean         170366 non-null  float64\n",
      " 41  PacketLengthStd          170366 non-null  float64\n",
      " 42  PacketLengthVariance     170366 non-null  float64\n",
      " 43  FINFlagCount             170366 non-null  int64  \n",
      " 44  SYNFlagCount             170366 non-null  int64  \n",
      " 45  RSTFlagCount             170366 non-null  int64  \n",
      " 46  PSHFlagCount             170366 non-null  int64  \n",
      " 47  ACKFlagCount             170366 non-null  int64  \n",
      " 48  URGFlagCount             170366 non-null  int64  \n",
      " 49  CWEFlagCount             170366 non-null  int64  \n",
      " 50  ECEFlagCount             170366 non-null  int64  \n",
      " 51  Down/UpRatio             170366 non-null  int64  \n",
      " 52  AveragePacketSize        170366 non-null  float64\n",
      " 53  AvgFwdSegmentSize        170366 non-null  float64\n",
      " 54  AvgBwdSegmentSize        170366 non-null  float64\n",
      " 55  FwdHeaderLength.1        170366 non-null  int64  \n",
      " 56  FwdAvgBytes/Bulk         170366 non-null  int64  \n",
      " 57  FwdAvgPackets/Bulk       170366 non-null  int64  \n",
      " 58  FwdAvgBulkRate           170366 non-null  int64  \n",
      " 59  BwdAvgBytes/Bulk         170366 non-null  int64  \n",
      " 60  BwdAvgPackets/Bulk       170366 non-null  int64  \n",
      " 61  BwdAvgBulkRate           170366 non-null  int64  \n",
      " 62  SubflowFwdPackets        170366 non-null  int64  \n",
      " 63  SubflowFwdBytes          170366 non-null  int64  \n",
      " 64  SubflowBwdPackets        170366 non-null  int64  \n",
      " 65  SubflowBwdBytes          170366 non-null  int64  \n",
      " 66  Init_Win_bytes_forward   170366 non-null  int64  \n",
      " 67  Init_Win_bytes_backward  170366 non-null  int64  \n",
      " 68  act_data_pkt_fwd         170366 non-null  int64  \n",
      " 69  min_seg_size_forward     170366 non-null  int64  \n",
      " 70  ActiveMean               170366 non-null  float64\n",
      " 71  ActiveStd                170366 non-null  float64\n",
      " 72  ActiveMax                170366 non-null  int64  \n",
      " 73  ActiveMin                170366 non-null  int64  \n",
      " 74  IdleMean                 170366 non-null  float64\n",
      " 75  IdleStd                  170366 non-null  float64\n",
      " 76  IdleMax                  170366 non-null  int64  \n",
      " 77  IdleMin                  170366 non-null  int64  \n",
      " 78  Label                    170366 non-null  object \n",
      "dtypes: float64(24), int64(54), object(1)\n",
      "memory usage: 102.7+ MB\n"
     ]
    }
   ],
   "source": [
    "data.info()"
   ]
  },
  {
   "cell_type": "code",
   "execution_count": 4,
   "metadata": {
    "colab": {
     "base_uri": "https://localhost:8080/"
    },
    "id": "xhDIs3wHfM_q",
    "outputId": "e958a321-042a-4eae-fbd4-3ddef07145bc"
   },
   "outputs": [
    {
     "data": {
      "text/plain": [
       "4"
      ]
     },
     "execution_count": 4,
     "metadata": {},
     "output_type": "execute_result"
    }
   ],
   "source": [
    "data.Label.nunique()\n"
   ]
  },
  {
   "cell_type": "code",
   "execution_count": 5,
   "metadata": {
    "id": "KLnL-KlzwhaQ"
   },
   "outputs": [],
   "source": [
    "\n",
    "data['Label'] = data['Label'].apply(lambda x: 'ATTACK' if x != 'BENIGN' else x)\n"
   ]
  },
  {
   "cell_type": "code",
   "execution_count": 6,
   "metadata": {
    "colab": {
     "base_uri": "https://localhost:8080/"
    },
    "id": "T8w-zHQbfQgT",
    "outputId": "0e152ba9-12dd-4615-af28-0c56541ed3e7"
   },
   "outputs": [
    {
     "data": {
      "text/plain": [
       "array(['BENIGN', 'ATTACK'], dtype=object)"
      ]
     },
     "execution_count": 6,
     "metadata": {},
     "output_type": "execute_result"
    }
   ],
   "source": [
    "data.Label.unique()"
   ]
  },
  {
   "cell_type": "code",
   "execution_count": 7,
   "metadata": {
    "colab": {
     "base_uri": "https://localhost:8080/",
     "height": 178
    },
    "id": "j5fQK9MyotBR",
    "outputId": "4c55f5c7-19d5-4312-c2d4-936041f4f4ac"
   },
   "outputs": [
    {
     "data": {
      "text/plain": [
       "BENIGN    168186\n",
       "ATTACK      2180\n",
       "Name: Label, dtype: int64"
      ]
     },
     "execution_count": 7,
     "metadata": {},
     "output_type": "execute_result"
    }
   ],
   "source": [
    "data.Label.value_counts()"
   ]
  },
  {
   "cell_type": "code",
   "execution_count": 8,
   "metadata": {
    "colab": {
     "base_uri": "https://localhost:8080/",
     "height": 255
    },
    "id": "dTbirRHynMFp",
    "outputId": "bca60d50-7567-4da9-970d-9d7e1c61bd5f"
   },
   "outputs": [
    {
     "data": {
      "text/html": [
       "<div>\n",
       "<style scoped>\n",
       "    .dataframe tbody tr th:only-of-type {\n",
       "        vertical-align: middle;\n",
       "    }\n",
       "\n",
       "    .dataframe tbody tr th {\n",
       "        vertical-align: top;\n",
       "    }\n",
       "\n",
       "    .dataframe thead th {\n",
       "        text-align: right;\n",
       "    }\n",
       "</style>\n",
       "<table border=\"1\" class=\"dataframe\">\n",
       "  <thead>\n",
       "    <tr style=\"text-align: right;\">\n",
       "      <th></th>\n",
       "      <th>DestinationPort</th>\n",
       "      <th>FlowDuration</th>\n",
       "      <th>TotalFwdPackets</th>\n",
       "      <th>TotalBackwardPackets</th>\n",
       "      <th>TotalLengthofFwdPackets</th>\n",
       "      <th>TotalLengthofBwdPackets</th>\n",
       "      <th>FwdPacketLengthMax</th>\n",
       "      <th>FwdPacketLengthMin</th>\n",
       "      <th>FwdPacketLengthMean</th>\n",
       "      <th>FwdPacketLengthStd</th>\n",
       "      <th>...</th>\n",
       "      <th>min_seg_size_forward</th>\n",
       "      <th>ActiveMean</th>\n",
       "      <th>ActiveStd</th>\n",
       "      <th>ActiveMax</th>\n",
       "      <th>ActiveMin</th>\n",
       "      <th>IdleMean</th>\n",
       "      <th>IdleStd</th>\n",
       "      <th>IdleMax</th>\n",
       "      <th>IdleMin</th>\n",
       "      <th>Label</th>\n",
       "    </tr>\n",
       "  </thead>\n",
       "  <tbody>\n",
       "    <tr>\n",
       "      <th>0</th>\n",
       "      <td>389</td>\n",
       "      <td>113095465</td>\n",
       "      <td>48</td>\n",
       "      <td>24</td>\n",
       "      <td>9668</td>\n",
       "      <td>10012</td>\n",
       "      <td>403</td>\n",
       "      <td>0</td>\n",
       "      <td>201.416667</td>\n",
       "      <td>203.548293</td>\n",
       "      <td>...</td>\n",
       "      <td>32</td>\n",
       "      <td>203985.500</td>\n",
       "      <td>5.758373e+05</td>\n",
       "      <td>1629110</td>\n",
       "      <td>379</td>\n",
       "      <td>13800000.0</td>\n",
       "      <td>4.277541e+06</td>\n",
       "      <td>16500000</td>\n",
       "      <td>6737603</td>\n",
       "      <td>BENIGN</td>\n",
       "    </tr>\n",
       "    <tr>\n",
       "      <th>1</th>\n",
       "      <td>389</td>\n",
       "      <td>113473706</td>\n",
       "      <td>68</td>\n",
       "      <td>40</td>\n",
       "      <td>11364</td>\n",
       "      <td>12718</td>\n",
       "      <td>403</td>\n",
       "      <td>0</td>\n",
       "      <td>167.117647</td>\n",
       "      <td>171.919413</td>\n",
       "      <td>...</td>\n",
       "      <td>32</td>\n",
       "      <td>178326.875</td>\n",
       "      <td>5.034269e+05</td>\n",
       "      <td>1424245</td>\n",
       "      <td>325</td>\n",
       "      <td>13800000.0</td>\n",
       "      <td>4.229413e+06</td>\n",
       "      <td>16500000</td>\n",
       "      <td>6945512</td>\n",
       "      <td>BENIGN</td>\n",
       "    </tr>\n",
       "    <tr>\n",
       "      <th>2</th>\n",
       "      <td>0</td>\n",
       "      <td>119945515</td>\n",
       "      <td>150</td>\n",
       "      <td>0</td>\n",
       "      <td>0</td>\n",
       "      <td>0</td>\n",
       "      <td>0</td>\n",
       "      <td>0</td>\n",
       "      <td>0.000000</td>\n",
       "      <td>0.000000</td>\n",
       "      <td>...</td>\n",
       "      <td>0</td>\n",
       "      <td>6909777.333</td>\n",
       "      <td>1.170000e+07</td>\n",
       "      <td>20400000</td>\n",
       "      <td>6</td>\n",
       "      <td>24400000.0</td>\n",
       "      <td>2.430000e+07</td>\n",
       "      <td>60100000</td>\n",
       "      <td>5702188</td>\n",
       "      <td>BENIGN</td>\n",
       "    </tr>\n",
       "    <tr>\n",
       "      <th>3</th>\n",
       "      <td>443</td>\n",
       "      <td>60261928</td>\n",
       "      <td>9</td>\n",
       "      <td>7</td>\n",
       "      <td>2330</td>\n",
       "      <td>4221</td>\n",
       "      <td>1093</td>\n",
       "      <td>0</td>\n",
       "      <td>258.888889</td>\n",
       "      <td>409.702161</td>\n",
       "      <td>...</td>\n",
       "      <td>20</td>\n",
       "      <td>0.000</td>\n",
       "      <td>0.000000e+00</td>\n",
       "      <td>0</td>\n",
       "      <td>0</td>\n",
       "      <td>0.0</td>\n",
       "      <td>0.000000e+00</td>\n",
       "      <td>0</td>\n",
       "      <td>0</td>\n",
       "      <td>BENIGN</td>\n",
       "    </tr>\n",
       "    <tr>\n",
       "      <th>4</th>\n",
       "      <td>53</td>\n",
       "      <td>269</td>\n",
       "      <td>2</td>\n",
       "      <td>2</td>\n",
       "      <td>102</td>\n",
       "      <td>322</td>\n",
       "      <td>51</td>\n",
       "      <td>51</td>\n",
       "      <td>51.000000</td>\n",
       "      <td>0.000000</td>\n",
       "      <td>...</td>\n",
       "      <td>32</td>\n",
       "      <td>0.000</td>\n",
       "      <td>0.000000e+00</td>\n",
       "      <td>0</td>\n",
       "      <td>0</td>\n",
       "      <td>0.0</td>\n",
       "      <td>0.000000e+00</td>\n",
       "      <td>0</td>\n",
       "      <td>0</td>\n",
       "      <td>BENIGN</td>\n",
       "    </tr>\n",
       "  </tbody>\n",
       "</table>\n",
       "<p>5 rows × 79 columns</p>\n",
       "</div>"
      ],
      "text/plain": [
       "   DestinationPort  FlowDuration  TotalFwdPackets  TotalBackwardPackets  \\\n",
       "0              389     113095465               48                    24   \n",
       "1              389     113473706               68                    40   \n",
       "2                0     119945515              150                     0   \n",
       "3              443      60261928                9                     7   \n",
       "4               53           269                2                     2   \n",
       "\n",
       "   TotalLengthofFwdPackets  TotalLengthofBwdPackets  FwdPacketLengthMax  \\\n",
       "0                     9668                    10012                 403   \n",
       "1                    11364                    12718                 403   \n",
       "2                        0                        0                   0   \n",
       "3                     2330                     4221                1093   \n",
       "4                      102                      322                  51   \n",
       "\n",
       "   FwdPacketLengthMin  FwdPacketLengthMean  FwdPacketLengthStd  ...  \\\n",
       "0                   0           201.416667          203.548293  ...   \n",
       "1                   0           167.117647          171.919413  ...   \n",
       "2                   0             0.000000            0.000000  ...   \n",
       "3                   0           258.888889          409.702161  ...   \n",
       "4                  51            51.000000            0.000000  ...   \n",
       "\n",
       "   min_seg_size_forward   ActiveMean     ActiveStd  ActiveMax  ActiveMin  \\\n",
       "0                    32   203985.500  5.758373e+05    1629110        379   \n",
       "1                    32   178326.875  5.034269e+05    1424245        325   \n",
       "2                     0  6909777.333  1.170000e+07   20400000          6   \n",
       "3                    20        0.000  0.000000e+00          0          0   \n",
       "4                    32        0.000  0.000000e+00          0          0   \n",
       "\n",
       "     IdleMean       IdleStd   IdleMax  IdleMin   Label  \n",
       "0  13800000.0  4.277541e+06  16500000  6737603  BENIGN  \n",
       "1  13800000.0  4.229413e+06  16500000  6945512  BENIGN  \n",
       "2  24400000.0  2.430000e+07  60100000  5702188  BENIGN  \n",
       "3         0.0  0.000000e+00         0        0  BENIGN  \n",
       "4         0.0  0.000000e+00         0        0  BENIGN  \n",
       "\n",
       "[5 rows x 79 columns]"
      ]
     },
     "execution_count": 8,
     "metadata": {},
     "output_type": "execute_result"
    }
   ],
   "source": [
    "data.head()\n"
   ]
  },
  {
   "cell_type": "code",
   "execution_count": 9,
   "metadata": {
    "id": "f9HJD44E9BW_"
   },
   "outputs": [],
   "source": [
    "\n",
    "features = data.drop('Label', axis=1)\n",
    "labels = data['Label']"
   ]
  },
  {
   "cell_type": "code",
   "execution_count": 10,
   "metadata": {
    "id": "PnpTtnNzB9R_"
   },
   "outputs": [],
   "source": [
    "features.replace([np.inf, -np.inf], np.nan, inplace=True)\n",
    "features.dropna(inplace=True)"
   ]
  },
  {
   "cell_type": "code",
   "execution_count": 11,
   "metadata": {
    "id": "FeA5jyHc9XYd"
   },
   "outputs": [],
   "source": [
    "features = features.select_dtypes(include=[float, int])\n"
   ]
  },
  {
   "cell_type": "code",
   "execution_count": 12,
   "metadata": {
    "colab": {
     "base_uri": "https://localhost:8080/"
    },
    "id": "Eggxjn60-Iw6",
    "outputId": "eb63cee5-89f8-4b3d-e055-9489ff16d0f9"
   },
   "outputs": [
    {
     "data": {
      "text/plain": [
       "170231"
      ]
     },
     "execution_count": 12,
     "metadata": {},
     "output_type": "execute_result"
    }
   ],
   "source": [
    "len(features)"
   ]
  },
  {
   "cell_type": "code",
   "execution_count": 13,
   "metadata": {
    "colab": {
     "base_uri": "https://localhost:8080/",
     "height": 443
    },
    "id": "0U_dvoq__RK3",
    "outputId": "bf387798-76a3-4d43-c52f-fd1bb960b188"
   },
   "outputs": [
    {
     "data": {
      "text/html": [
       "<div>\n",
       "<style scoped>\n",
       "    .dataframe tbody tr th:only-of-type {\n",
       "        vertical-align: middle;\n",
       "    }\n",
       "\n",
       "    .dataframe tbody tr th {\n",
       "        vertical-align: top;\n",
       "    }\n",
       "\n",
       "    .dataframe thead th {\n",
       "        text-align: right;\n",
       "    }\n",
       "</style>\n",
       "<table border=\"1\" class=\"dataframe\">\n",
       "  <thead>\n",
       "    <tr style=\"text-align: right;\">\n",
       "      <th></th>\n",
       "      <th>DestinationPort</th>\n",
       "      <th>FlowDuration</th>\n",
       "      <th>TotalFwdPackets</th>\n",
       "      <th>TotalBackwardPackets</th>\n",
       "      <th>TotalLengthofFwdPackets</th>\n",
       "      <th>TotalLengthofBwdPackets</th>\n",
       "      <th>FwdPacketLengthMax</th>\n",
       "      <th>FwdPacketLengthMin</th>\n",
       "      <th>FwdPacketLengthMean</th>\n",
       "      <th>FwdPacketLengthStd</th>\n",
       "      <th>...</th>\n",
       "      <th>act_data_pkt_fwd</th>\n",
       "      <th>min_seg_size_forward</th>\n",
       "      <th>ActiveMean</th>\n",
       "      <th>ActiveStd</th>\n",
       "      <th>ActiveMax</th>\n",
       "      <th>ActiveMin</th>\n",
       "      <th>IdleMean</th>\n",
       "      <th>IdleStd</th>\n",
       "      <th>IdleMax</th>\n",
       "      <th>IdleMin</th>\n",
       "    </tr>\n",
       "  </thead>\n",
       "  <tbody>\n",
       "    <tr>\n",
       "      <th>0</th>\n",
       "      <td>389</td>\n",
       "      <td>113095465</td>\n",
       "      <td>48</td>\n",
       "      <td>24</td>\n",
       "      <td>9668</td>\n",
       "      <td>10012</td>\n",
       "      <td>403</td>\n",
       "      <td>0</td>\n",
       "      <td>201.416667</td>\n",
       "      <td>203.548293</td>\n",
       "      <td>...</td>\n",
       "      <td>23</td>\n",
       "      <td>32</td>\n",
       "      <td>203985.500</td>\n",
       "      <td>5.758373e+05</td>\n",
       "      <td>1629110</td>\n",
       "      <td>379</td>\n",
       "      <td>13800000.0</td>\n",
       "      <td>4.277541e+06</td>\n",
       "      <td>16500000</td>\n",
       "      <td>6737603</td>\n",
       "    </tr>\n",
       "    <tr>\n",
       "      <th>1</th>\n",
       "      <td>389</td>\n",
       "      <td>113473706</td>\n",
       "      <td>68</td>\n",
       "      <td>40</td>\n",
       "      <td>11364</td>\n",
       "      <td>12718</td>\n",
       "      <td>403</td>\n",
       "      <td>0</td>\n",
       "      <td>167.117647</td>\n",
       "      <td>171.919413</td>\n",
       "      <td>...</td>\n",
       "      <td>39</td>\n",
       "      <td>32</td>\n",
       "      <td>178326.875</td>\n",
       "      <td>5.034269e+05</td>\n",
       "      <td>1424245</td>\n",
       "      <td>325</td>\n",
       "      <td>13800000.0</td>\n",
       "      <td>4.229413e+06</td>\n",
       "      <td>16500000</td>\n",
       "      <td>6945512</td>\n",
       "    </tr>\n",
       "    <tr>\n",
       "      <th>2</th>\n",
       "      <td>0</td>\n",
       "      <td>119945515</td>\n",
       "      <td>150</td>\n",
       "      <td>0</td>\n",
       "      <td>0</td>\n",
       "      <td>0</td>\n",
       "      <td>0</td>\n",
       "      <td>0</td>\n",
       "      <td>0.000000</td>\n",
       "      <td>0.000000</td>\n",
       "      <td>...</td>\n",
       "      <td>0</td>\n",
       "      <td>0</td>\n",
       "      <td>6909777.333</td>\n",
       "      <td>1.170000e+07</td>\n",
       "      <td>20400000</td>\n",
       "      <td>6</td>\n",
       "      <td>24400000.0</td>\n",
       "      <td>2.430000e+07</td>\n",
       "      <td>60100000</td>\n",
       "      <td>5702188</td>\n",
       "    </tr>\n",
       "    <tr>\n",
       "      <th>3</th>\n",
       "      <td>443</td>\n",
       "      <td>60261928</td>\n",
       "      <td>9</td>\n",
       "      <td>7</td>\n",
       "      <td>2330</td>\n",
       "      <td>4221</td>\n",
       "      <td>1093</td>\n",
       "      <td>0</td>\n",
       "      <td>258.888889</td>\n",
       "      <td>409.702161</td>\n",
       "      <td>...</td>\n",
       "      <td>8</td>\n",
       "      <td>20</td>\n",
       "      <td>0.000</td>\n",
       "      <td>0.000000e+00</td>\n",
       "      <td>0</td>\n",
       "      <td>0</td>\n",
       "      <td>0.0</td>\n",
       "      <td>0.000000e+00</td>\n",
       "      <td>0</td>\n",
       "      <td>0</td>\n",
       "    </tr>\n",
       "    <tr>\n",
       "      <th>4</th>\n",
       "      <td>53</td>\n",
       "      <td>269</td>\n",
       "      <td>2</td>\n",
       "      <td>2</td>\n",
       "      <td>102</td>\n",
       "      <td>322</td>\n",
       "      <td>51</td>\n",
       "      <td>51</td>\n",
       "      <td>51.000000</td>\n",
       "      <td>0.000000</td>\n",
       "      <td>...</td>\n",
       "      <td>1</td>\n",
       "      <td>32</td>\n",
       "      <td>0.000</td>\n",
       "      <td>0.000000e+00</td>\n",
       "      <td>0</td>\n",
       "      <td>0</td>\n",
       "      <td>0.0</td>\n",
       "      <td>0.000000e+00</td>\n",
       "      <td>0</td>\n",
       "      <td>0</td>\n",
       "    </tr>\n",
       "    <tr>\n",
       "      <th>...</th>\n",
       "      <td>...</td>\n",
       "      <td>...</td>\n",
       "      <td>...</td>\n",
       "      <td>...</td>\n",
       "      <td>...</td>\n",
       "      <td>...</td>\n",
       "      <td>...</td>\n",
       "      <td>...</td>\n",
       "      <td>...</td>\n",
       "      <td>...</td>\n",
       "      <td>...</td>\n",
       "      <td>...</td>\n",
       "      <td>...</td>\n",
       "      <td>...</td>\n",
       "      <td>...</td>\n",
       "      <td>...</td>\n",
       "      <td>...</td>\n",
       "      <td>...</td>\n",
       "      <td>...</td>\n",
       "      <td>...</td>\n",
       "      <td>...</td>\n",
       "    </tr>\n",
       "    <tr>\n",
       "      <th>170361</th>\n",
       "      <td>55641</td>\n",
       "      <td>49</td>\n",
       "      <td>1</td>\n",
       "      <td>3</td>\n",
       "      <td>6</td>\n",
       "      <td>18</td>\n",
       "      <td>6</td>\n",
       "      <td>6</td>\n",
       "      <td>6.000000</td>\n",
       "      <td>0.000000</td>\n",
       "      <td>...</td>\n",
       "      <td>0</td>\n",
       "      <td>20</td>\n",
       "      <td>0.000</td>\n",
       "      <td>0.000000e+00</td>\n",
       "      <td>0</td>\n",
       "      <td>0</td>\n",
       "      <td>0.0</td>\n",
       "      <td>0.000000e+00</td>\n",
       "      <td>0</td>\n",
       "      <td>0</td>\n",
       "    </tr>\n",
       "    <tr>\n",
       "      <th>170362</th>\n",
       "      <td>45337</td>\n",
       "      <td>217</td>\n",
       "      <td>2</td>\n",
       "      <td>1</td>\n",
       "      <td>31</td>\n",
       "      <td>6</td>\n",
       "      <td>31</td>\n",
       "      <td>0</td>\n",
       "      <td>15.500000</td>\n",
       "      <td>21.920310</td>\n",
       "      <td>...</td>\n",
       "      <td>0</td>\n",
       "      <td>32</td>\n",
       "      <td>0.000</td>\n",
       "      <td>0.000000e+00</td>\n",
       "      <td>0</td>\n",
       "      <td>0</td>\n",
       "      <td>0.0</td>\n",
       "      <td>0.000000e+00</td>\n",
       "      <td>0</td>\n",
       "      <td>0</td>\n",
       "    </tr>\n",
       "    <tr>\n",
       "      <th>170363</th>\n",
       "      <td>22</td>\n",
       "      <td>1387547</td>\n",
       "      <td>41</td>\n",
       "      <td>46</td>\n",
       "      <td>2728</td>\n",
       "      <td>6634</td>\n",
       "      <td>456</td>\n",
       "      <td>0</td>\n",
       "      <td>66.536585</td>\n",
       "      <td>110.129945</td>\n",
       "      <td>...</td>\n",
       "      <td>24</td>\n",
       "      <td>32</td>\n",
       "      <td>0.000</td>\n",
       "      <td>0.000000e+00</td>\n",
       "      <td>0</td>\n",
       "      <td>0</td>\n",
       "      <td>0.0</td>\n",
       "      <td>0.000000e+00</td>\n",
       "      <td>0</td>\n",
       "      <td>0</td>\n",
       "    </tr>\n",
       "    <tr>\n",
       "      <th>170364</th>\n",
       "      <td>22</td>\n",
       "      <td>207</td>\n",
       "      <td>1</td>\n",
       "      <td>1</td>\n",
       "      <td>0</td>\n",
       "      <td>0</td>\n",
       "      <td>0</td>\n",
       "      <td>0</td>\n",
       "      <td>0.000000</td>\n",
       "      <td>0.000000</td>\n",
       "      <td>...</td>\n",
       "      <td>0</td>\n",
       "      <td>32</td>\n",
       "      <td>0.000</td>\n",
       "      <td>0.000000e+00</td>\n",
       "      <td>0</td>\n",
       "      <td>0</td>\n",
       "      <td>0.0</td>\n",
       "      <td>0.000000e+00</td>\n",
       "      <td>0</td>\n",
       "      <td>0</td>\n",
       "    </tr>\n",
       "    <tr>\n",
       "      <th>170365</th>\n",
       "      <td>60146</td>\n",
       "      <td>50</td>\n",
       "      <td>1</td>\n",
       "      <td>2</td>\n",
       "      <td>0</td>\n",
       "      <td>0</td>\n",
       "      <td>0</td>\n",
       "      <td>0</td>\n",
       "      <td>0.000000</td>\n",
       "      <td>0.000000</td>\n",
       "      <td>...</td>\n",
       "      <td>0</td>\n",
       "      <td>32</td>\n",
       "      <td>0.000</td>\n",
       "      <td>0.000000e+00</td>\n",
       "      <td>0</td>\n",
       "      <td>0</td>\n",
       "      <td>0.0</td>\n",
       "      <td>0.000000e+00</td>\n",
       "      <td>0</td>\n",
       "      <td>0</td>\n",
       "    </tr>\n",
       "  </tbody>\n",
       "</table>\n",
       "<p>170231 rows × 78 columns</p>\n",
       "</div>"
      ],
      "text/plain": [
       "        DestinationPort  FlowDuration  TotalFwdPackets  TotalBackwardPackets  \\\n",
       "0                   389     113095465               48                    24   \n",
       "1                   389     113473706               68                    40   \n",
       "2                     0     119945515              150                     0   \n",
       "3                   443      60261928                9                     7   \n",
       "4                    53           269                2                     2   \n",
       "...                 ...           ...              ...                   ...   \n",
       "170361            55641            49                1                     3   \n",
       "170362            45337           217                2                     1   \n",
       "170363               22       1387547               41                    46   \n",
       "170364               22           207                1                     1   \n",
       "170365            60146            50                1                     2   \n",
       "\n",
       "        TotalLengthofFwdPackets  TotalLengthofBwdPackets  FwdPacketLengthMax  \\\n",
       "0                          9668                    10012                 403   \n",
       "1                         11364                    12718                 403   \n",
       "2                             0                        0                   0   \n",
       "3                          2330                     4221                1093   \n",
       "4                           102                      322                  51   \n",
       "...                         ...                      ...                 ...   \n",
       "170361                        6                       18                   6   \n",
       "170362                       31                        6                  31   \n",
       "170363                     2728                     6634                 456   \n",
       "170364                        0                        0                   0   \n",
       "170365                        0                        0                   0   \n",
       "\n",
       "        FwdPacketLengthMin  FwdPacketLengthMean  FwdPacketLengthStd  ...  \\\n",
       "0                        0           201.416667          203.548293  ...   \n",
       "1                        0           167.117647          171.919413  ...   \n",
       "2                        0             0.000000            0.000000  ...   \n",
       "3                        0           258.888889          409.702161  ...   \n",
       "4                       51            51.000000            0.000000  ...   \n",
       "...                    ...                  ...                 ...  ...   \n",
       "170361                   6             6.000000            0.000000  ...   \n",
       "170362                   0            15.500000           21.920310  ...   \n",
       "170363                   0            66.536585          110.129945  ...   \n",
       "170364                   0             0.000000            0.000000  ...   \n",
       "170365                   0             0.000000            0.000000  ...   \n",
       "\n",
       "        act_data_pkt_fwd  min_seg_size_forward   ActiveMean     ActiveStd  \\\n",
       "0                     23                    32   203985.500  5.758373e+05   \n",
       "1                     39                    32   178326.875  5.034269e+05   \n",
       "2                      0                     0  6909777.333  1.170000e+07   \n",
       "3                      8                    20        0.000  0.000000e+00   \n",
       "4                      1                    32        0.000  0.000000e+00   \n",
       "...                  ...                   ...          ...           ...   \n",
       "170361                 0                    20        0.000  0.000000e+00   \n",
       "170362                 0                    32        0.000  0.000000e+00   \n",
       "170363                24                    32        0.000  0.000000e+00   \n",
       "170364                 0                    32        0.000  0.000000e+00   \n",
       "170365                 0                    32        0.000  0.000000e+00   \n",
       "\n",
       "        ActiveMax  ActiveMin    IdleMean       IdleStd   IdleMax  IdleMin  \n",
       "0         1629110        379  13800000.0  4.277541e+06  16500000  6737603  \n",
       "1         1424245        325  13800000.0  4.229413e+06  16500000  6945512  \n",
       "2        20400000          6  24400000.0  2.430000e+07  60100000  5702188  \n",
       "3               0          0         0.0  0.000000e+00         0        0  \n",
       "4               0          0         0.0  0.000000e+00         0        0  \n",
       "...           ...        ...         ...           ...       ...      ...  \n",
       "170361          0          0         0.0  0.000000e+00         0        0  \n",
       "170362          0          0         0.0  0.000000e+00         0        0  \n",
       "170363          0          0         0.0  0.000000e+00         0        0  \n",
       "170364          0          0         0.0  0.000000e+00         0        0  \n",
       "170365          0          0         0.0  0.000000e+00         0        0  \n",
       "\n",
       "[170231 rows x 78 columns]"
      ]
     },
     "execution_count": 13,
     "metadata": {},
     "output_type": "execute_result"
    }
   ],
   "source": [
    "features"
   ]
  },
  {
   "cell_type": "code",
   "execution_count": 14,
   "metadata": {
    "id": "8IHb5gFQ_Yfb"
   },
   "outputs": [],
   "source": [
    "scaler = StandardScaler()\n",
    "features_scaled = scaler.fit_transform(features)"
   ]
  },
  {
   "cell_type": "code",
   "execution_count": 15,
   "metadata": {
    "id": "yjcYXYO8Aq2Q"
   },
   "outputs": [],
   "source": [
    "from sklearn.preprocessing import LabelEncoder\n",
    "\n",
    "label_encoder = LabelEncoder()\n",
    "y_encoded = label_encoder.fit_transform(labels)"
   ]
  },
  {
   "cell_type": "code",
   "execution_count": 16,
   "metadata": {
    "colab": {
     "base_uri": "https://localhost:8080/"
    },
    "id": "fdW2E6O6fhVo",
    "outputId": "84774fe2-463c-4fcf-98c8-478b44a9bf0e"
   },
   "outputs": [
    {
     "data": {
      "text/plain": [
       "136292"
      ]
     },
     "execution_count": 16,
     "metadata": {},
     "output_type": "execute_result"
    }
   ],
   "source": [
    "round(data.shape[0]*80/100)-1"
   ]
  },
  {
   "cell_type": "code",
   "execution_count": 17,
   "metadata": {
    "colab": {
     "base_uri": "https://localhost:8080/"
    },
    "id": "qRi9l4bVkKwd",
    "outputId": "e81d273a-6bd4-43e1-acaa-32e011c46f2a"
   },
   "outputs": [
    {
     "name": "stdout",
     "output_type": "stream",
     "text": [
      "Number of missing values in y_encoded: 0\n"
     ]
    }
   ],
   "source": [
    "missing_labels = np.isnan(y_encoded).sum()\n",
    "print(f\"Number of missing values in y_encoded: {missing_labels}\")"
   ]
  },
  {
   "cell_type": "code",
   "execution_count": 18,
   "metadata": {
    "colab": {
     "base_uri": "https://localhost:8080/"
    },
    "id": "_Kvrd6RtEvJw",
    "outputId": "0257adfd-e5f4-45e7-f8c0-cf1ceae5e8e6"
   },
   "outputs": [
    {
     "name": "stdout",
     "output_type": "stream",
     "text": [
      "Length of X_train: 136293\n",
      "Length of y_train: 136293\n",
      "Length of X_test: 33938\n",
      "Length of y_test: 34073\n",
      "Final Length of X_test: 33938\n",
      "Final Length of y_test: 33938\n"
     ]
    }
   ],
   "source": [
    "train_size = round(len(y_encoded) * 0.8)\n",
    "\n",
    "X_train = features_scaled[:train_size]\n",
    "X_test = features_scaled[train_size:]\n",
    "y_train = y_encoded[:train_size]\n",
    "y_test = y_encoded[train_size:]\n",
    "\n",
    "print(f\"Length of X_train: {len(X_train)}\")\n",
    "print(f\"Length of y_train: {len(y_train)}\")\n",
    "print(f\"Length of X_test: {len(X_test)}\")\n",
    "print(f\"Length of y_test: {len(y_test)}\")\n",
    "\n",
    "min_len = min(len(X_test), len(y_test))\n",
    "X_test = X_test[:min_len]\n",
    "y_test = y_test[:min_len]\n",
    "\n",
    "print(f\"Final Length of X_test: {len(X_test)}\")\n",
    "print(f\"Final Length of y_test: {len(y_test)}\")\n",
    "\n"
   ]
  },
  {
   "cell_type": "markdown",
   "metadata": {
    "id": "8EfnUXp6sRLz"
   },
   "source": []
  },
  {
   "cell_type": "code",
   "execution_count": null,
   "metadata": {
    "colab": {
     "base_uri": "https://localhost:8080/"
    },
    "id": "G84LMpDeATRu",
    "outputId": "1c81879e-a83a-4cee-f725-784abc27a8ca"
   },
   "outputs": [
    {
     "name": "stdout",
     "output_type": "stream",
     "text": [
      "Number of anomalies detected: 581\n"
     ]
    }
   ],
   "source": [
    "from sklearn.svm import OneClassSVM\n",
    "from sklearn.metrics import classification_report\n",
    "\n",
    "ocsvm = OneClassSVM(kernel='rbf', nu=0.01, gamma='auto')\n",
    "ocsvm.fit(X_train)\n",
    "\n",
    "y_pred = ocsvm.predict(X_test)\n",
    "\n",
    "\n",
    "print(\"Number of anomalies detected:\", (y_pred == -1).sum())\n",
    "\n",
    "\n"
   ]
  },
  {
   "cell_type": "code",
   "execution_count": null,
   "metadata": {
    "colab": {
     "base_uri": "https://localhost:8080/"
    },
    "id": "50K4oJd6RcWD",
    "outputId": "2becf343-9779-487a-c736-fb5e62ef74f8"
   },
   "outputs": [
    {
     "name": "stdout",
     "output_type": "stream",
     "text": [
      "Accuracy in separating Outliers: 0.982880546879604\n"
     ]
    }
   ],
   "source": [
    "from sklearn.metrics import accuracy_score\n",
    "\n",
    "# Convert One-Class SVM predictions to 0 and 1: -1 for outliers and 1 for inliers\n",
    "svm_predict = np.where(y_pred == -1, 1, 0)  # Replace -1 with 1 and 1 with 0\n",
    "\n",
    "# Convert true labels to 0 and 1 as well\n",
    "y_test_mapped = np.where(y_test == 'ATTACK', 1, 0)  # Replace 'DDoS' with 1 and 'BENIGN' with 0\n",
    "\n",
    "accuracy = accuracy_score(y_test_mapped, svm_predict)\n",
    "print(\"Accuracy in separating Outliers:\", accuracy)\n"
   ]
  },
  {
   "cell_type": "code",
   "execution_count": null,
   "metadata": {
    "colab": {
     "base_uri": "https://localhost:8080/"
    },
    "id": "RnWY_OtQW61D",
    "outputId": "3d50a6f2-f5c4-48ec-e325-b67d2551f29e"
   },
   "outputs": [
    {
     "name": "stdout",
     "output_type": "stream",
     "text": [
      "Value: -1, Count: 581\n",
      "Value: 1, Count: 33357\n"
     ]
    }
   ],
   "source": [
    "\n",
    "y_pred = np.array(y_pred)\n",
    "\n",
    "# Get unique values and their counts\n",
    "unique_values, counts = np.unique(y_pred, return_counts=True)\n",
    "\n",
    "for value, count in zip(unique_values, counts):\n",
    "    print(f'Value: {value}, Count: {count}')\n"
   ]
  },
  {
   "cell_type": "code",
   "execution_count": null,
   "metadata": {
    "colab": {
     "base_uri": "https://localhost:8080/",
     "height": 564
    },
    "id": "yEvtP6JmAejS",
    "outputId": "09d2a60d-e573-4184-b4af-06a438bea3b9"
   },
   "outputs": [
    {
     "data": {
      "image/png": "[encoded data removed]",
      "text/plain": [
       "<Figure size 1200x600 with 1 Axes>"
      ]
     },
     "metadata": {},
     "output_type": "display_data"
    }
   ],
   "source": [
    "import matplotlib.pyplot as plt\n",
    "\n",
    "plt.figure(figsize=(12, 6))\n",
    "\n",
    "plt.scatter(X_test[:, 0][y_pred == 1], X_test[:, 1][y_pred == 1], c='blue', label='Normal', s=10, alpha=0.6)\n",
    "\n",
    "plt.scatter(X_test[:, 0][y_pred == -1], X_test[:, 1][y_pred == -1], c='red', label='Anomaly', s=10, alpha=0.6)\n",
    "\n",
    "plt.xlabel('Feature 1')\n",
    "plt.ylabel('Feature 2')\n",
    "plt.title('Detected Anomalies and Normal Points')\n",
    "plt.legend()\n",
    "plt.grid(True)\n",
    "plt.show()\n"
   ]
  },
  {
   "cell_type": "code",
   "execution_count": 19,
   "metadata": {
    "id": "jm18VbaaDnL0"
   },
   "outputs": [
    {
     "name": "stdout",
     "output_type": "stream",
     "text": [
      "Number of anomalies detected: 291\n",
      "Accuracy in separating Outliers: 0.008574459308150156\n",
      "Value: -1, Count: 291\n",
      "Value: 1, Count: 33647\n"
     ]
    }
   ],
   "source": [
    "from sklearn.ensemble import IsolationForest\n",
    "from sklearn.metrics import accuracy_score, classification_report\n",
    "import numpy as np\n",
    "\n",
    "iso_forest = IsolationForest(n_estimators=100, contamination=0.01, random_state=42)\n",
    "iso_forest.fit(X_train)\n",
    "\n",
    "y_pred = iso_forest.predict(X_test)\n",
    "\n",
    "print(\"Number of anomalies detected:\", (y_pred == -1).sum())\n",
    "\n",
    "iso_forest_predict = np.where(y_pred == -1, 1, 0)\n",
    "\n",
    "accuracy = accuracy_score(y_test, iso_forest_predict)\n",
    "print(\"Accuracy in separating Outliers:\", accuracy)\n",
    "\n",
    "unique_values, counts = np.unique(y_pred, return_counts=True)\n",
    "\n",
    "for value, count in zip(unique_values, counts):\n",
    "    print(f'Value: {value}, Count: {count}')\n"
   ]
  },
  {
   "cell_type": "code",
   "execution_count": null,
   "metadata": {},
   "outputs": [],
   "source": []
  }
 ],
 "metadata": {
  "colab": {
   "provenance": []
  },
  "kernelspec": {
   "display_name": "Python 3 (ipykernel)",
   "language": "python",
   "name": "python3"
  },
  "language_info": {
   "codemirror_mode": {
    "name": "ipython",
    "version": 3
   },
   "file_extension": ".py",
   "mimetype": "text/x-python",
   "name": "python",
   "nbconvert_exporter": "python",
   "pygments_lexer": "ipython3",
   "version": "3.7.9"
  }
 },
 "nbformat": 4,
 "nbformat_minor": 1
}
